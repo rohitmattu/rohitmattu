{
  "nbformat": 4,
  "nbformat_minor": 0,
  "metadata": {
    "colab": {
      "provenance": [],
      "authorship_tag": "ABX9TyPFxj3lXm1aZn6OLAsOD9pA",
      "include_colab_link": true
    },
    "kernelspec": {
      "name": "python3",
      "display_name": "Python 3"
    },
    "language_info": {
      "name": "python"
    },
    "widgets": {
      "application/vnd.jupyter.widget-state+json": {
        "e4429cb4795945d1ad785fbd799984a0": {
          "model_module": "@jupyter-widgets/controls",
          "model_name": "HBoxModel",
          "model_module_version": "1.5.0",
          "state": {
            "_dom_classes": [],
            "_model_module": "@jupyter-widgets/controls",
            "_model_module_version": "1.5.0",
            "_model_name": "HBoxModel",
            "_view_count": null,
            "_view_module": "@jupyter-widgets/controls",
            "_view_module_version": "1.5.0",
            "_view_name": "HBoxView",
            "box_style": "",
            "children": [
              "IPY_MODEL_8faf9690813d440983adad5f221cdee0",
              "IPY_MODEL_e448cd1475e5432fb4bd7d5da1f9159c",
              "IPY_MODEL_4f803adde9fc4fe6b77bd9933ed7e7c1"
            ],
            "layout": "IPY_MODEL_3b19f1a3ff644aa58db09e85c04696c8"
          }
        },
        "8faf9690813d440983adad5f221cdee0": {
          "model_module": "@jupyter-widgets/controls",
          "model_name": "HTMLModel",
          "model_module_version": "1.5.0",
          "state": {
            "_dom_classes": [],
            "_model_module": "@jupyter-widgets/controls",
            "_model_module_version": "1.5.0",
            "_model_name": "HTMLModel",
            "_view_count": null,
            "_view_module": "@jupyter-widgets/controls",
            "_view_module_version": "1.5.0",
            "_view_name": "HTMLView",
            "description": "",
            "description_tooltip": null,
            "layout": "IPY_MODEL_5631f142101e42628ef77ffbf844c41d",
            "placeholder": "​",
            "style": "IPY_MODEL_c555110814fe44d7a55375f6d5fd5dbd",
            "value": "Batches: 100%"
          }
        },
        "e448cd1475e5432fb4bd7d5da1f9159c": {
          "model_module": "@jupyter-widgets/controls",
          "model_name": "FloatProgressModel",
          "model_module_version": "1.5.0",
          "state": {
            "_dom_classes": [],
            "_model_module": "@jupyter-widgets/controls",
            "_model_module_version": "1.5.0",
            "_model_name": "FloatProgressModel",
            "_view_count": null,
            "_view_module": "@jupyter-widgets/controls",
            "_view_module_version": "1.5.0",
            "_view_name": "ProgressView",
            "bar_style": "success",
            "description": "",
            "description_tooltip": null,
            "layout": "IPY_MODEL_a21042be9dc84ebf971c2707d9b5bbd8",
            "max": 171,
            "min": 0,
            "orientation": "horizontal",
            "style": "IPY_MODEL_d0d70bcfc8ef4b49a5ecf8f4d3a1b1cb",
            "value": 171
          }
        },
        "4f803adde9fc4fe6b77bd9933ed7e7c1": {
          "model_module": "@jupyter-widgets/controls",
          "model_name": "HTMLModel",
          "model_module_version": "1.5.0",
          "state": {
            "_dom_classes": [],
            "_model_module": "@jupyter-widgets/controls",
            "_model_module_version": "1.5.0",
            "_model_name": "HTMLModel",
            "_view_count": null,
            "_view_module": "@jupyter-widgets/controls",
            "_view_module_version": "1.5.0",
            "_view_name": "HTMLView",
            "description": "",
            "description_tooltip": null,
            "layout": "IPY_MODEL_b234ad220c2d4ed0a97fe72351261052",
            "placeholder": "​",
            "style": "IPY_MODEL_f7be1fed4afb4247ac914015cdb0df6a",
            "value": " 171/171 [01:54&lt;00:00, 12.24it/s]"
          }
        },
        "3b19f1a3ff644aa58db09e85c04696c8": {
          "model_module": "@jupyter-widgets/base",
          "model_name": "LayoutModel",
          "model_module_version": "1.2.0",
          "state": {
            "_model_module": "@jupyter-widgets/base",
            "_model_module_version": "1.2.0",
            "_model_name": "LayoutModel",
            "_view_count": null,
            "_view_module": "@jupyter-widgets/base",
            "_view_module_version": "1.2.0",
            "_view_name": "LayoutView",
            "align_content": null,
            "align_items": null,
            "align_self": null,
            "border": null,
            "bottom": null,
            "display": null,
            "flex": null,
            "flex_flow": null,
            "grid_area": null,
            "grid_auto_columns": null,
            "grid_auto_flow": null,
            "grid_auto_rows": null,
            "grid_column": null,
            "grid_gap": null,
            "grid_row": null,
            "grid_template_areas": null,
            "grid_template_columns": null,
            "grid_template_rows": null,
            "height": null,
            "justify_content": null,
            "justify_items": null,
            "left": null,
            "margin": null,
            "max_height": null,
            "max_width": null,
            "min_height": null,
            "min_width": null,
            "object_fit": null,
            "object_position": null,
            "order": null,
            "overflow": null,
            "overflow_x": null,
            "overflow_y": null,
            "padding": null,
            "right": null,
            "top": null,
            "visibility": null,
            "width": null
          }
        },
        "5631f142101e42628ef77ffbf844c41d": {
          "model_module": "@jupyter-widgets/base",
          "model_name": "LayoutModel",
          "model_module_version": "1.2.0",
          "state": {
            "_model_module": "@jupyter-widgets/base",
            "_model_module_version": "1.2.0",
            "_model_name": "LayoutModel",
            "_view_count": null,
            "_view_module": "@jupyter-widgets/base",
            "_view_module_version": "1.2.0",
            "_view_name": "LayoutView",
            "align_content": null,
            "align_items": null,
            "align_self": null,
            "border": null,
            "bottom": null,
            "display": null,
            "flex": null,
            "flex_flow": null,
            "grid_area": null,
            "grid_auto_columns": null,
            "grid_auto_flow": null,
            "grid_auto_rows": null,
            "grid_column": null,
            "grid_gap": null,
            "grid_row": null,
            "grid_template_areas": null,
            "grid_template_columns": null,
            "grid_template_rows": null,
            "height": null,
            "justify_content": null,
            "justify_items": null,
            "left": null,
            "margin": null,
            "max_height": null,
            "max_width": null,
            "min_height": null,
            "min_width": null,
            "object_fit": null,
            "object_position": null,
            "order": null,
            "overflow": null,
            "overflow_x": null,
            "overflow_y": null,
            "padding": null,
            "right": null,
            "top": null,
            "visibility": null,
            "width": null
          }
        },
        "c555110814fe44d7a55375f6d5fd5dbd": {
          "model_module": "@jupyter-widgets/controls",
          "model_name": "DescriptionStyleModel",
          "model_module_version": "1.5.0",
          "state": {
            "_model_module": "@jupyter-widgets/controls",
            "_model_module_version": "1.5.0",
            "_model_name": "DescriptionStyleModel",
            "_view_count": null,
            "_view_module": "@jupyter-widgets/base",
            "_view_module_version": "1.2.0",
            "_view_name": "StyleView",
            "description_width": ""
          }
        },
        "a21042be9dc84ebf971c2707d9b5bbd8": {
          "model_module": "@jupyter-widgets/base",
          "model_name": "LayoutModel",
          "model_module_version": "1.2.0",
          "state": {
            "_model_module": "@jupyter-widgets/base",
            "_model_module_version": "1.2.0",
            "_model_name": "LayoutModel",
            "_view_count": null,
            "_view_module": "@jupyter-widgets/base",
            "_view_module_version": "1.2.0",
            "_view_name": "LayoutView",
            "align_content": null,
            "align_items": null,
            "align_self": null,
            "border": null,
            "bottom": null,
            "display": null,
            "flex": null,
            "flex_flow": null,
            "grid_area": null,
            "grid_auto_columns": null,
            "grid_auto_flow": null,
            "grid_auto_rows": null,
            "grid_column": null,
            "grid_gap": null,
            "grid_row": null,
            "grid_template_areas": null,
            "grid_template_columns": null,
            "grid_template_rows": null,
            "height": null,
            "justify_content": null,
            "justify_items": null,
            "left": null,
            "margin": null,
            "max_height": null,
            "max_width": null,
            "min_height": null,
            "min_width": null,
            "object_fit": null,
            "object_position": null,
            "order": null,
            "overflow": null,
            "overflow_x": null,
            "overflow_y": null,
            "padding": null,
            "right": null,
            "top": null,
            "visibility": null,
            "width": null
          }
        },
        "d0d70bcfc8ef4b49a5ecf8f4d3a1b1cb": {
          "model_module": "@jupyter-widgets/controls",
          "model_name": "ProgressStyleModel",
          "model_module_version": "1.5.0",
          "state": {
            "_model_module": "@jupyter-widgets/controls",
            "_model_module_version": "1.5.0",
            "_model_name": "ProgressStyleModel",
            "_view_count": null,
            "_view_module": "@jupyter-widgets/base",
            "_view_module_version": "1.2.0",
            "_view_name": "StyleView",
            "bar_color": null,
            "description_width": ""
          }
        },
        "b234ad220c2d4ed0a97fe72351261052": {
          "model_module": "@jupyter-widgets/base",
          "model_name": "LayoutModel",
          "model_module_version": "1.2.0",
          "state": {
            "_model_module": "@jupyter-widgets/base",
            "_model_module_version": "1.2.0",
            "_model_name": "LayoutModel",
            "_view_count": null,
            "_view_module": "@jupyter-widgets/base",
            "_view_module_version": "1.2.0",
            "_view_name": "LayoutView",
            "align_content": null,
            "align_items": null,
            "align_self": null,
            "border": null,
            "bottom": null,
            "display": null,
            "flex": null,
            "flex_flow": null,
            "grid_area": null,
            "grid_auto_columns": null,
            "grid_auto_flow": null,
            "grid_auto_rows": null,
            "grid_column": null,
            "grid_gap": null,
            "grid_row": null,
            "grid_template_areas": null,
            "grid_template_columns": null,
            "grid_template_rows": null,
            "height": null,
            "justify_content": null,
            "justify_items": null,
            "left": null,
            "margin": null,
            "max_height": null,
            "max_width": null,
            "min_height": null,
            "min_width": null,
            "object_fit": null,
            "object_position": null,
            "order": null,
            "overflow": null,
            "overflow_x": null,
            "overflow_y": null,
            "padding": null,
            "right": null,
            "top": null,
            "visibility": null,
            "width": null
          }
        },
        "f7be1fed4afb4247ac914015cdb0df6a": {
          "model_module": "@jupyter-widgets/controls",
          "model_name": "DescriptionStyleModel",
          "model_module_version": "1.5.0",
          "state": {
            "_model_module": "@jupyter-widgets/controls",
            "_model_module_version": "1.5.0",
            "_model_name": "DescriptionStyleModel",
            "_view_count": null,
            "_view_module": "@jupyter-widgets/base",
            "_view_module_version": "1.2.0",
            "_view_name": "StyleView",
            "description_width": ""
          }
        },
        "2e93891999af4019a324f2a1096d14e1": {
          "model_module": "@jupyter-widgets/controls",
          "model_name": "HBoxModel",
          "model_module_version": "1.5.0",
          "state": {
            "_dom_classes": [],
            "_model_module": "@jupyter-widgets/controls",
            "_model_module_version": "1.5.0",
            "_model_name": "HBoxModel",
            "_view_count": null,
            "_view_module": "@jupyter-widgets/controls",
            "_view_module_version": "1.5.0",
            "_view_name": "HBoxView",
            "box_style": "",
            "children": [
              "IPY_MODEL_1b6c7d2c1c74457aa3fc0434fdccf17f",
              "IPY_MODEL_2104f560d70e4b24a5320a4e8f98a50e",
              "IPY_MODEL_d2eccd68eb9742e8b8c504aa07ac5361"
            ],
            "layout": "IPY_MODEL_b7407f2ba1ab4de7b71621bef9cb6e83"
          }
        },
        "1b6c7d2c1c74457aa3fc0434fdccf17f": {
          "model_module": "@jupyter-widgets/controls",
          "model_name": "HTMLModel",
          "model_module_version": "1.5.0",
          "state": {
            "_dom_classes": [],
            "_model_module": "@jupyter-widgets/controls",
            "_model_module_version": "1.5.0",
            "_model_name": "HTMLModel",
            "_view_count": null,
            "_view_module": "@jupyter-widgets/controls",
            "_view_module_version": "1.5.0",
            "_view_name": "HTMLView",
            "description": "",
            "description_tooltip": null,
            "layout": "IPY_MODEL_7b2ad765bccb4873b929fa598f69d6ad",
            "placeholder": "​",
            "style": "IPY_MODEL_0eb8f57c6d00411f9b6190f3dba409a1",
            "value": "Batches: 100%"
          }
        },
        "2104f560d70e4b24a5320a4e8f98a50e": {
          "model_module": "@jupyter-widgets/controls",
          "model_name": "FloatProgressModel",
          "model_module_version": "1.5.0",
          "state": {
            "_dom_classes": [],
            "_model_module": "@jupyter-widgets/controls",
            "_model_module_version": "1.5.0",
            "_model_name": "FloatProgressModel",
            "_view_count": null,
            "_view_module": "@jupyter-widgets/controls",
            "_view_module_version": "1.5.0",
            "_view_name": "ProgressView",
            "bar_style": "success",
            "description": "",
            "description_tooltip": null,
            "layout": "IPY_MODEL_4b9b1167dd0845cd86165b0e36048244",
            "max": 171,
            "min": 0,
            "orientation": "horizontal",
            "style": "IPY_MODEL_c5734b2801114d31a8e7b7753878aa56",
            "value": 171
          }
        },
        "d2eccd68eb9742e8b8c504aa07ac5361": {
          "model_module": "@jupyter-widgets/controls",
          "model_name": "HTMLModel",
          "model_module_version": "1.5.0",
          "state": {
            "_dom_classes": [],
            "_model_module": "@jupyter-widgets/controls",
            "_model_module_version": "1.5.0",
            "_model_name": "HTMLModel",
            "_view_count": null,
            "_view_module": "@jupyter-widgets/controls",
            "_view_module_version": "1.5.0",
            "_view_name": "HTMLView",
            "description": "",
            "description_tooltip": null,
            "layout": "IPY_MODEL_30791a62f4f6413fb483d29c85026165",
            "placeholder": "​",
            "style": "IPY_MODEL_6c04405e61d64afebf6e3bbf7fbba6b5",
            "value": " 171/171 [01:59&lt;00:00, 12.21it/s]"
          }
        },
        "b7407f2ba1ab4de7b71621bef9cb6e83": {
          "model_module": "@jupyter-widgets/base",
          "model_name": "LayoutModel",
          "model_module_version": "1.2.0",
          "state": {
            "_model_module": "@jupyter-widgets/base",
            "_model_module_version": "1.2.0",
            "_model_name": "LayoutModel",
            "_view_count": null,
            "_view_module": "@jupyter-widgets/base",
            "_view_module_version": "1.2.0",
            "_view_name": "LayoutView",
            "align_content": null,
            "align_items": null,
            "align_self": null,
            "border": null,
            "bottom": null,
            "display": null,
            "flex": null,
            "flex_flow": null,
            "grid_area": null,
            "grid_auto_columns": null,
            "grid_auto_flow": null,
            "grid_auto_rows": null,
            "grid_column": null,
            "grid_gap": null,
            "grid_row": null,
            "grid_template_areas": null,
            "grid_template_columns": null,
            "grid_template_rows": null,
            "height": null,
            "justify_content": null,
            "justify_items": null,
            "left": null,
            "margin": null,
            "max_height": null,
            "max_width": null,
            "min_height": null,
            "min_width": null,
            "object_fit": null,
            "object_position": null,
            "order": null,
            "overflow": null,
            "overflow_x": null,
            "overflow_y": null,
            "padding": null,
            "right": null,
            "top": null,
            "visibility": null,
            "width": null
          }
        },
        "7b2ad765bccb4873b929fa598f69d6ad": {
          "model_module": "@jupyter-widgets/base",
          "model_name": "LayoutModel",
          "model_module_version": "1.2.0",
          "state": {
            "_model_module": "@jupyter-widgets/base",
            "_model_module_version": "1.2.0",
            "_model_name": "LayoutModel",
            "_view_count": null,
            "_view_module": "@jupyter-widgets/base",
            "_view_module_version": "1.2.0",
            "_view_name": "LayoutView",
            "align_content": null,
            "align_items": null,
            "align_self": null,
            "border": null,
            "bottom": null,
            "display": null,
            "flex": null,
            "flex_flow": null,
            "grid_area": null,
            "grid_auto_columns": null,
            "grid_auto_flow": null,
            "grid_auto_rows": null,
            "grid_column": null,
            "grid_gap": null,
            "grid_row": null,
            "grid_template_areas": null,
            "grid_template_columns": null,
            "grid_template_rows": null,
            "height": null,
            "justify_content": null,
            "justify_items": null,
            "left": null,
            "margin": null,
            "max_height": null,
            "max_width": null,
            "min_height": null,
            "min_width": null,
            "object_fit": null,
            "object_position": null,
            "order": null,
            "overflow": null,
            "overflow_x": null,
            "overflow_y": null,
            "padding": null,
            "right": null,
            "top": null,
            "visibility": null,
            "width": null
          }
        },
        "0eb8f57c6d00411f9b6190f3dba409a1": {
          "model_module": "@jupyter-widgets/controls",
          "model_name": "DescriptionStyleModel",
          "model_module_version": "1.5.0",
          "state": {
            "_model_module": "@jupyter-widgets/controls",
            "_model_module_version": "1.5.0",
            "_model_name": "DescriptionStyleModel",
            "_view_count": null,
            "_view_module": "@jupyter-widgets/base",
            "_view_module_version": "1.2.0",
            "_view_name": "StyleView",
            "description_width": ""
          }
        },
        "4b9b1167dd0845cd86165b0e36048244": {
          "model_module": "@jupyter-widgets/base",
          "model_name": "LayoutModel",
          "model_module_version": "1.2.0",
          "state": {
            "_model_module": "@jupyter-widgets/base",
            "_model_module_version": "1.2.0",
            "_model_name": "LayoutModel",
            "_view_count": null,
            "_view_module": "@jupyter-widgets/base",
            "_view_module_version": "1.2.0",
            "_view_name": "LayoutView",
            "align_content": null,
            "align_items": null,
            "align_self": null,
            "border": null,
            "bottom": null,
            "display": null,
            "flex": null,
            "flex_flow": null,
            "grid_area": null,
            "grid_auto_columns": null,
            "grid_auto_flow": null,
            "grid_auto_rows": null,
            "grid_column": null,
            "grid_gap": null,
            "grid_row": null,
            "grid_template_areas": null,
            "grid_template_columns": null,
            "grid_template_rows": null,
            "height": null,
            "justify_content": null,
            "justify_items": null,
            "left": null,
            "margin": null,
            "max_height": null,
            "max_width": null,
            "min_height": null,
            "min_width": null,
            "object_fit": null,
            "object_position": null,
            "order": null,
            "overflow": null,
            "overflow_x": null,
            "overflow_y": null,
            "padding": null,
            "right": null,
            "top": null,
            "visibility": null,
            "width": null
          }
        },
        "c5734b2801114d31a8e7b7753878aa56": {
          "model_module": "@jupyter-widgets/controls",
          "model_name": "ProgressStyleModel",
          "model_module_version": "1.5.0",
          "state": {
            "_model_module": "@jupyter-widgets/controls",
            "_model_module_version": "1.5.0",
            "_model_name": "ProgressStyleModel",
            "_view_count": null,
            "_view_module": "@jupyter-widgets/base",
            "_view_module_version": "1.2.0",
            "_view_name": "StyleView",
            "bar_color": null,
            "description_width": ""
          }
        },
        "30791a62f4f6413fb483d29c85026165": {
          "model_module": "@jupyter-widgets/base",
          "model_name": "LayoutModel",
          "model_module_version": "1.2.0",
          "state": {
            "_model_module": "@jupyter-widgets/base",
            "_model_module_version": "1.2.0",
            "_model_name": "LayoutModel",
            "_view_count": null,
            "_view_module": "@jupyter-widgets/base",
            "_view_module_version": "1.2.0",
            "_view_name": "LayoutView",
            "align_content": null,
            "align_items": null,
            "align_self": null,
            "border": null,
            "bottom": null,
            "display": null,
            "flex": null,
            "flex_flow": null,
            "grid_area": null,
            "grid_auto_columns": null,
            "grid_auto_flow": null,
            "grid_auto_rows": null,
            "grid_column": null,
            "grid_gap": null,
            "grid_row": null,
            "grid_template_areas": null,
            "grid_template_columns": null,
            "grid_template_rows": null,
            "height": null,
            "justify_content": null,
            "justify_items": null,
            "left": null,
            "margin": null,
            "max_height": null,
            "max_width": null,
            "min_height": null,
            "min_width": null,
            "object_fit": null,
            "object_position": null,
            "order": null,
            "overflow": null,
            "overflow_x": null,
            "overflow_y": null,
            "padding": null,
            "right": null,
            "top": null,
            "visibility": null,
            "width": null
          }
        },
        "6c04405e61d64afebf6e3bbf7fbba6b5": {
          "model_module": "@jupyter-widgets/controls",
          "model_name": "DescriptionStyleModel",
          "model_module_version": "1.5.0",
          "state": {
            "_model_module": "@jupyter-widgets/controls",
            "_model_module_version": "1.5.0",
            "_model_name": "DescriptionStyleModel",
            "_view_count": null,
            "_view_module": "@jupyter-widgets/base",
            "_view_module_version": "1.2.0",
            "_view_name": "StyleView",
            "description_width": ""
          }
        }
      }
    }
  },
  "cells": [
    {
      "cell_type": "markdown",
      "metadata": {
        "id": "view-in-github",
        "colab_type": "text"
      },
      "source": [
        "<a href=\"https://colab.research.google.com/github/rohitmattu/rohitmattu/blob/master/BERTTopic_Modelling.ipynb\" target=\"_parent\"><img src=\"https://colab.research.google.com/assets/colab-badge.svg\" alt=\"Open In Colab\"/></a>"
      ]
    },
    {
      "cell_type": "code",
      "source": [
        "!pip install bertopic[visualization] --quiet\n"
      ],
      "metadata": {
        "colab": {
          "base_uri": "https://localhost:8080/"
        },
        "id": "eHpSu4ZHtYHB",
        "outputId": "8bfdafda-325d-42fe-88bb-1a35d15a3458"
      },
      "execution_count": 21,
      "outputs": [
        {
          "output_type": "stream",
          "name": "stdout",
          "text": [
            "\u001b[33mWARNING: bertopic 0.14.1 does not provide the extra 'visualization'\u001b[0m\u001b[33m\n",
            "\u001b[0m"
          ]
        }
      ]
    },
    {
      "cell_type": "code",
      "source": [
        "!pip install pyLDAvis"
      ],
      "metadata": {
        "colab": {
          "base_uri": "https://localhost:8080/"
        },
        "id": "zyVpW--UxFpp",
        "outputId": "bd022496-ec72-4d0d-867b-4417cf62fad2"
      },
      "execution_count": 25,
      "outputs": [
        {
          "output_type": "stream",
          "name": "stdout",
          "text": [
            "Looking in indexes: https://pypi.org/simple, https://us-python.pkg.dev/colab-wheels/public/simple/\n",
            "Collecting pyLDAvis\n",
            "  Downloading pyLDAvis-3.4.0-py3-none-any.whl (2.6 MB)\n",
            "\u001b[2K     \u001b[90m━━━━━━━━━━━━━━━━━━━━━━━━━━━━━━━━━━━━━━━━\u001b[0m \u001b[32m2.6/2.6 MB\u001b[0m \u001b[31m24.9 MB/s\u001b[0m eta \u001b[36m0:00:00\u001b[0m\n",
            "\u001b[?25hCollecting joblib>=1.2.0\n",
            "  Downloading joblib-1.2.0-py3-none-any.whl (297 kB)\n",
            "\u001b[2K     \u001b[90m━━━━━━━━━━━━━━━━━━━━━━━━━━━━━━━━━━━━━━\u001b[0m \u001b[32m298.0/298.0 KB\u001b[0m \u001b[31m26.0 MB/s\u001b[0m eta \u001b[36m0:00:00\u001b[0m\n",
            "\u001b[?25hRequirement already satisfied: numpy>=1.22.0 in /usr/local/lib/python3.9/dist-packages (from pyLDAvis) (1.22.4)\n",
            "Requirement already satisfied: pandas>=1.3.4 in /usr/local/lib/python3.9/dist-packages (from pyLDAvis) (1.4.4)\n",
            "Requirement already satisfied: numexpr in /usr/local/lib/python3.9/dist-packages (from pyLDAvis) (2.8.4)\n",
            "Requirement already satisfied: setuptools in /usr/local/lib/python3.9/dist-packages (from pyLDAvis) (63.4.3)\n",
            "Requirement already satisfied: scikit-learn>=1.0.0 in /usr/local/lib/python3.9/dist-packages (from pyLDAvis) (1.2.2)\n",
            "Requirement already satisfied: jinja2 in /usr/local/lib/python3.9/dist-packages (from pyLDAvis) (3.1.2)\n",
            "Collecting funcy\n",
            "  Downloading funcy-1.18-py2.py3-none-any.whl (33 kB)\n",
            "Requirement already satisfied: gensim in /usr/local/lib/python3.9/dist-packages (from pyLDAvis) (3.6.0)\n",
            "Requirement already satisfied: scipy in /usr/local/lib/python3.9/dist-packages (from pyLDAvis) (1.10.1)\n",
            "Requirement already satisfied: pytz>=2020.1 in /usr/local/lib/python3.9/dist-packages (from pandas>=1.3.4->pyLDAvis) (2022.7.1)\n",
            "Requirement already satisfied: python-dateutil>=2.8.1 in /usr/local/lib/python3.9/dist-packages (from pandas>=1.3.4->pyLDAvis) (2.8.2)\n",
            "Requirement already satisfied: threadpoolctl>=2.0.0 in /usr/local/lib/python3.9/dist-packages (from scikit-learn>=1.0.0->pyLDAvis) (3.1.0)\n",
            "Requirement already satisfied: six>=1.5.0 in /usr/local/lib/python3.9/dist-packages (from gensim->pyLDAvis) (1.15.0)\n",
            "Requirement already satisfied: smart-open>=1.2.1 in /usr/local/lib/python3.9/dist-packages (from gensim->pyLDAvis) (6.3.0)\n",
            "Requirement already satisfied: MarkupSafe>=2.0 in /usr/local/lib/python3.9/dist-packages (from jinja2->pyLDAvis) (2.1.2)\n",
            "Installing collected packages: funcy, joblib, pyLDAvis\n",
            "  Attempting uninstall: joblib\n",
            "    Found existing installation: joblib 1.1.1\n",
            "    Uninstalling joblib-1.1.1:\n",
            "      Successfully uninstalled joblib-1.1.1\n",
            "\u001b[31mERROR: pip's dependency resolver does not currently take into account all the packages that are installed. This behaviour is the source of the following dependency conflicts.\n",
            "pandas-profiling 3.2.0 requires joblib~=1.1.0, but you have joblib 1.2.0 which is incompatible.\u001b[0m\u001b[31m\n",
            "\u001b[0mSuccessfully installed funcy-1.18 joblib-1.2.0 pyLDAvis-3.4.0\n"
          ]
        }
      ]
    },
    {
      "cell_type": "code",
      "source": [
        "pip install googletrans"
      ],
      "metadata": {
        "colab": {
          "base_uri": "https://localhost:8080/"
        },
        "id": "4Eios2XudMm4",
        "outputId": "9ddc5510-1bd4-403b-bb64-93a8b9d62098"
      },
      "execution_count": 5,
      "outputs": [
        {
          "output_type": "stream",
          "name": "stdout",
          "text": [
            "Looking in indexes: https://pypi.org/simple, https://us-python.pkg.dev/colab-wheels/public/simple/\n",
            "Collecting googletrans\n",
            "  Downloading googletrans-3.0.0.tar.gz (17 kB)\n",
            "  Preparing metadata (setup.py) ... \u001b[?25l\u001b[?25hdone\n",
            "Collecting httpx==0.13.3\n",
            "  Downloading httpx-0.13.3-py3-none-any.whl (55 kB)\n",
            "\u001b[2K     \u001b[90m━━━━━━━━━━━━━━━━━━━━━━━━━━━━━━━━━━━━━━━━\u001b[0m \u001b[32m55.1/55.1 KB\u001b[0m \u001b[31m5.8 MB/s\u001b[0m eta \u001b[36m0:00:00\u001b[0m\n",
            "\u001b[?25hCollecting hstspreload\n",
            "  Downloading hstspreload-2023.1.1-py3-none-any.whl (1.5 MB)\n",
            "\u001b[2K     \u001b[90m━━━━━━━━━━━━━━━━━━━━━━━━━━━━━━━━━━━━━━━━\u001b[0m \u001b[32m1.5/1.5 MB\u001b[0m \u001b[31m42.0 MB/s\u001b[0m eta \u001b[36m0:00:00\u001b[0m\n",
            "\u001b[?25hCollecting sniffio\n",
            "  Downloading sniffio-1.3.0-py3-none-any.whl (10 kB)\n",
            "Collecting chardet==3.*\n",
            "  Downloading chardet-3.0.4-py2.py3-none-any.whl (133 kB)\n",
            "\u001b[2K     \u001b[90m━━━━━━━━━━━━━━━━━━━━━━━━━━━━━━━━━━━━━━\u001b[0m \u001b[32m133.4/133.4 KB\u001b[0m \u001b[31m17.6 MB/s\u001b[0m eta \u001b[36m0:00:00\u001b[0m\n",
            "\u001b[?25hRequirement already satisfied: idna==2.* in /usr/local/lib/python3.9/dist-packages (from httpx==0.13.3->googletrans) (2.10)\n",
            "Collecting rfc3986<2,>=1.3\n",
            "  Downloading rfc3986-1.5.0-py2.py3-none-any.whl (31 kB)\n",
            "Collecting httpcore==0.9.*\n",
            "  Downloading httpcore-0.9.1-py3-none-any.whl (42 kB)\n",
            "\u001b[2K     \u001b[90m━━━━━━━━━━━━━━━━━━━━━━━━━━━━━━━━━━━━━━━━\u001b[0m \u001b[32m42.6/42.6 KB\u001b[0m \u001b[31m5.4 MB/s\u001b[0m eta \u001b[36m0:00:00\u001b[0m\n",
            "\u001b[?25hRequirement already satisfied: certifi in /usr/local/lib/python3.9/dist-packages (from httpx==0.13.3->googletrans) (2022.12.7)\n",
            "Collecting h11<0.10,>=0.8\n",
            "  Downloading h11-0.9.0-py2.py3-none-any.whl (53 kB)\n",
            "\u001b[2K     \u001b[90m━━━━━━━━━━━━━━━━━━━━━━━━━━━━━━━━━━━━━━━━\u001b[0m \u001b[32m53.6/53.6 KB\u001b[0m \u001b[31m5.7 MB/s\u001b[0m eta \u001b[36m0:00:00\u001b[0m\n",
            "\u001b[?25hCollecting h2==3.*\n",
            "  Downloading h2-3.2.0-py2.py3-none-any.whl (65 kB)\n",
            "\u001b[2K     \u001b[90m━━━━━━━━━━━━━━━━━━━━━━━━━━━━━━━━━━━━━━━━\u001b[0m \u001b[32m65.0/65.0 KB\u001b[0m \u001b[31m9.7 MB/s\u001b[0m eta \u001b[36m0:00:00\u001b[0m\n",
            "\u001b[?25hCollecting hyperframe<6,>=5.2.0\n",
            "  Downloading hyperframe-5.2.0-py2.py3-none-any.whl (12 kB)\n",
            "Collecting hpack<4,>=3.0\n",
            "  Downloading hpack-3.0.0-py2.py3-none-any.whl (38 kB)\n",
            "Building wheels for collected packages: googletrans\n",
            "  Building wheel for googletrans (setup.py) ... \u001b[?25l\u001b[?25hdone\n",
            "  Created wheel for googletrans: filename=googletrans-3.0.0-py3-none-any.whl size=15735 sha256=392d69e7243de0b96e0b65394faff8fbd1806bc31f29e3b6f44ec2528d21fcdf\n",
            "  Stored in directory: /root/.cache/pip/wheels/27/f3/32/d4859d40071f07a5df0ab6fdc0076e78a8a786625dde2b4b2f\n",
            "Successfully built googletrans\n",
            "Installing collected packages: rfc3986, hyperframe, hpack, h11, chardet, sniffio, hstspreload, h2, httpcore, httpx, googletrans\n",
            "  Attempting uninstall: chardet\n",
            "    Found existing installation: chardet 4.0.0\n",
            "    Uninstalling chardet-4.0.0:\n",
            "      Successfully uninstalled chardet-4.0.0\n",
            "Successfully installed chardet-3.0.4 googletrans-3.0.0 h11-0.9.0 h2-3.2.0 hpack-3.0.0 hstspreload-2023.1.1 httpcore-0.9.1 httpx-0.13.3 hyperframe-5.2.0 rfc3986-1.5.0 sniffio-1.3.0\n"
          ]
        }
      ]
    },
    {
      "cell_type": "code",
      "source": [],
      "metadata": {
        "id": "ox8TlPp2vuD5"
      },
      "execution_count": null,
      "outputs": []
    },
    {
      "cell_type": "markdown",
      "source": [
        "GOOGLE TRANSLATION"
      ],
      "metadata": {
        "id": "8hC11RwZ7bDB"
      }
    },
    {
      "cell_type": "code",
      "source": [
        "!pip install googletrans==3.1.0a0 \n",
        "\n",
        "import pandas as pd\n"
      ],
      "metadata": {
        "colab": {
          "base_uri": "https://localhost:8080/"
        },
        "id": "3PeDwCFQdvDF",
        "outputId": "aa6ee502-58fb-465a-9d22-94cd100398d8"
      },
      "execution_count": 1,
      "outputs": [
        {
          "output_type": "stream",
          "name": "stdout",
          "text": [
            "Looking in indexes: https://pypi.org/simple, https://us-python.pkg.dev/colab-wheels/public/simple/\n",
            "Requirement already satisfied: googletrans==3.1.0a0 in /usr/local/lib/python3.9/dist-packages (3.1.0a0)\n",
            "Requirement already satisfied: httpx==0.13.3 in /usr/local/lib/python3.9/dist-packages (from googletrans==3.1.0a0) (0.13.3)\n",
            "Requirement already satisfied: certifi in /usr/local/lib/python3.9/dist-packages (from httpx==0.13.3->googletrans==3.1.0a0) (2022.12.7)\n",
            "Requirement already satisfied: rfc3986<2,>=1.3 in /usr/local/lib/python3.9/dist-packages (from httpx==0.13.3->googletrans==3.1.0a0) (1.5.0)\n",
            "Requirement already satisfied: idna==2.* in /usr/local/lib/python3.9/dist-packages (from httpx==0.13.3->googletrans==3.1.0a0) (2.10)\n",
            "Requirement already satisfied: httpcore==0.9.* in /usr/local/lib/python3.9/dist-packages (from httpx==0.13.3->googletrans==3.1.0a0) (0.9.1)\n",
            "Requirement already satisfied: hstspreload in /usr/local/lib/python3.9/dist-packages (from httpx==0.13.3->googletrans==3.1.0a0) (2023.1.1)\n",
            "Requirement already satisfied: chardet==3.* in /usr/local/lib/python3.9/dist-packages (from httpx==0.13.3->googletrans==3.1.0a0) (3.0.4)\n",
            "Requirement already satisfied: sniffio in /usr/local/lib/python3.9/dist-packages (from httpx==0.13.3->googletrans==3.1.0a0) (1.3.0)\n",
            "Requirement already satisfied: h11<0.10,>=0.8 in /usr/local/lib/python3.9/dist-packages (from httpcore==0.9.*->httpx==0.13.3->googletrans==3.1.0a0) (0.9.0)\n",
            "Requirement already satisfied: h2==3.* in /usr/local/lib/python3.9/dist-packages (from httpcore==0.9.*->httpx==0.13.3->googletrans==3.1.0a0) (3.2.0)\n",
            "Requirement already satisfied: hyperframe<6,>=5.2.0 in /usr/local/lib/python3.9/dist-packages (from h2==3.*->httpcore==0.9.*->httpx==0.13.3->googletrans==3.1.0a0) (5.2.0)\n",
            "Requirement already satisfied: hpack<4,>=3.0 in /usr/local/lib/python3.9/dist-packages (from h2==3.*->httpcore==0.9.*->httpx==0.13.3->googletrans==3.1.0a0) (3.0.0)\n"
          ]
        }
      ]
    },
    {
      "cell_type": "code",
      "source": [
        "df = pd.read_csv('df.csv', index_col = 'Unnamed: 0')"
      ],
      "metadata": {
        "id": "u56s-kI1fDHl"
      },
      "execution_count": 15,
      "outputs": []
    },
    {
      "cell_type": "code",
      "source": [
        "df.columns"
      ],
      "metadata": {
        "colab": {
          "base_uri": "https://localhost:8080/"
        },
        "id": "yjcN7UU4fyPS",
        "outputId": "09f6d24d-9835-49b6-fd3b-66133c5dea13"
      },
      "execution_count": 16,
      "outputs": [
        {
          "output_type": "execute_result",
          "data": {
            "text/plain": [
              "Index(['author_id', 'username', 'author_followers', 'author_tweets',\n",
              "       'author_description', 'author_location', 'text', 'created_at',\n",
              "       'retweets', 'replies', 'likes', 'quote_count', 'conversation_id',\n",
              "       'in_reply_to_user', 'media_key', 'url', 'referenced_tweet',\n",
              "       'referenced_tweet_type', 'position', 'clean_text', 'tokens',\n",
              "       'tokenized_text'],\n",
              "      dtype='object')"
            ]
          },
          "metadata": {},
          "execution_count": 16
        }
      ]
    },
    {
      "cell_type": "code",
      "source": [
        "#Create an empty list to contain the translations and the auto detected languages\n",
        "trans = []\n",
        "language = []\n",
        "\n",
        "import googletrans\n",
        "from googletrans import Translator\n",
        "translator= Translator()\n",
        "#Loop translate each item in the language_text, translate it and add the translation to the trans list and the detected source language to the language list.\n",
        "\n",
        "for  item in df.tokenized_text:\n",
        "\n",
        "    translation = translator.translate(item)\n",
        "  \n",
        "    trans.append(translation.text)\n",
        "  \n",
        "  \n",
        "    for key, value in googletrans.LANGCODES.items():\n",
        "        value = googletrans.LANGCODES[key]\n",
        "\n",
        "        if translation.src == value:\n",
        "            language.append(key)"
      ],
      "metadata": {
        "id": "bsKAvixHeGSy"
      },
      "execution_count": 17,
      "outputs": []
    },
    {
      "cell_type": "code",
      "source": [
        "df['Translation'] = trans"
      ],
      "metadata": {
        "id": "Z8EKjtEmeNzg"
      },
      "execution_count": 19,
      "outputs": []
    },
    {
      "cell_type": "code",
      "source": [
        "df.to_csv('df_translated.csv')"
      ],
      "metadata": {
        "id": "BSzcVLNmet_J"
      },
      "execution_count": 20,
      "outputs": []
    },
    {
      "cell_type": "code",
      "source": [
        "import pandas as pd\n",
        "import numpy as np\n",
        "#from googletrans import Translator\n",
        "from bertopic import BERTopic\n",
        "from sentence_transformers import SentenceTransformer\n",
        "from hdbscan import HDBSCAN\n",
        "from bertopic.vectorizers import ClassTfidfTransformer\n",
        "from sklearn.feature_extraction.text import CountVectorizer, TfidfVectorizer\n",
        "from sklearn.decomposition import IncrementalPCA\n",
        "import matplotlib.pyplot as plt"
      ],
      "metadata": {
        "id": "9sUduDe7uSLA"
      },
      "execution_count": 22,
      "outputs": []
    },
    {
      "cell_type": "code",
      "source": [
        "#import emoji\n",
        "import re\n",
        "import string\n",
        "import nltk\n",
        "import spacy\n",
        "import gensim\n",
        "from gensim.corpora import Dictionary\n",
        "from gensim.models.ldamulticore import LdaMulticore\n",
        "from gensim.models.coherencemodel import CoherenceModel\n",
        "from gensim.parsing.preprocessing import STOPWORDS as SW\n",
        "from sklearn.decomposition import LatentDirichletAllocation, TruncatedSVD\n",
        "from sklearn.feature_extraction.text import CountVectorizer, TfidfVectorizer\n",
        "from sklearn.model_selection import GridSearchCV\n",
        "from pprint import pprint\n",
        "from wordcloud import STOPWORDS\n",
        "import pyLDAvis.gensim"
      ],
      "metadata": {
        "id": "YKd1N3p2Hf8o"
      },
      "execution_count": 26,
      "outputs": []
    },
    {
      "cell_type": "code",
      "source": [
        "spacy.cli.download(\"en_core_web_lg\")"
      ],
      "metadata": {
        "colab": {
          "base_uri": "https://localhost:8080/"
        },
        "id": "WLiYmGjbIS2J",
        "outputId": "65f969d3-ac58-481a-80a3-7dcd81b4300b"
      },
      "execution_count": 27,
      "outputs": [
        {
          "output_type": "stream",
          "name": "stdout",
          "text": [
            "\u001b[38;5;2m✔ Download and installation successful\u001b[0m\n",
            "You can now load the package via spacy.load('en_core_web_lg')\n"
          ]
        }
      ]
    },
    {
      "cell_type": "code",
      "source": [
        "nlp = spacy.load('en_core_web_lg')\n",
        "from spacy.tokenizer import Tokenizer"
      ],
      "metadata": {
        "id": "_AeszRFyH2wq"
      },
      "execution_count": null,
      "outputs": []
    },
    {
      "cell_type": "code",
      "source": [
        "#BERTOPIC"
      ],
      "metadata": {
        "id": "1UFrv9sMxoNE"
      },
      "execution_count": 28,
      "outputs": []
    },
    {
      "cell_type": "markdown",
      "source": [
        "BERTOPIC"
      ],
      "metadata": {
        "id": "R9ypJee-7d6E"
      }
    },
    {
      "cell_type": "code",
      "source": [
        "df = pd.read_csv('df_cleaned.csv')"
      ],
      "metadata": {
        "id": "3yN7Cl3qx3-b"
      },
      "execution_count": 29,
      "outputs": []
    },
    {
      "cell_type": "code",
      "source": [
        "docs = list(df['translated_tokens'])"
      ],
      "metadata": {
        "id": "fGZ3xb0ByRY9"
      },
      "execution_count": 31,
      "outputs": []
    },
    {
      "cell_type": "code",
      "source": [
        "topic_model = BERTopic(language=\"english\", calculate_probabilities=True, verbose=True)\n",
        "topics, probs = topic_model.fit_transform(docs)\n",
        "topic_model.get_topic_info()"
      ],
      "metadata": {
        "colab": {
          "base_uri": "https://localhost:8080/",
          "height": 502,
          "referenced_widgets": [
            "e4429cb4795945d1ad785fbd799984a0",
            "8faf9690813d440983adad5f221cdee0",
            "e448cd1475e5432fb4bd7d5da1f9159c",
            "4f803adde9fc4fe6b77bd9933ed7e7c1",
            "3b19f1a3ff644aa58db09e85c04696c8",
            "5631f142101e42628ef77ffbf844c41d",
            "c555110814fe44d7a55375f6d5fd5dbd",
            "a21042be9dc84ebf971c2707d9b5bbd8",
            "d0d70bcfc8ef4b49a5ecf8f4d3a1b1cb",
            "b234ad220c2d4ed0a97fe72351261052",
            "f7be1fed4afb4247ac914015cdb0df6a"
          ]
        },
        "id": "a9N2CVPX0ls6",
        "outputId": "a42fbf96-ffef-4eaa-d854-ed41ebd0aba5"
      },
      "execution_count": 59,
      "outputs": [
        {
          "output_type": "display_data",
          "data": {
            "text/plain": [
              "Batches:   0%|          | 0/171 [00:00<?, ?it/s]"
            ],
            "application/vnd.jupyter.widget-view+json": {
              "version_major": 2,
              "version_minor": 0,
              "model_id": "e4429cb4795945d1ad785fbd799984a0"
            }
          },
          "metadata": {}
        },
        {
          "output_type": "stream",
          "name": "stderr",
          "text": [
            "2023-03-17 18:35:03,470 - BERTopic - Transformed documents to Embeddings\n",
            "2023-03-17 18:35:19,457 - BERTopic - Reduced dimensionality\n",
            "2023-03-17 18:35:21,500 - BERTopic - Clustered reduced embeddings\n"
          ]
        },
        {
          "output_type": "execute_result",
          "data": {
            "text/plain": [
              "    Topic  Count                                           Name\n",
              "0      -1   2786                        -1_like_access_dont_new\n",
              "1       0    358                                          0____\n",
              "2       1    156                    1_changes_change_vote_worse\n",
              "3       2    115               2_tweets_day_technotweet_replies\n",
              "4       3    113           3_bethr_pvtryan_technical_understand\n",
              "..    ...    ...                                            ...\n",
              "74     73     11               73_ryancin_program_ll_interfaces\n",
              "75     74     11  74_academic_enthusiasm_enthusiastic_community\n",
              "76     75     10     75_translator_extension_engineers_announce\n",
              "77     76     10                        76_bitch_fuck_pussy_ass\n",
              "78     77     10                          77_bots_kind_lose_bot\n",
              "\n",
              "[79 rows x 3 columns]"
            ],
            "text/html": [
              "\n",
              "  <div id=\"df-6c19c3f6-772b-42b3-8c23-8b4a847d197e\">\n",
              "    <div class=\"colab-df-container\">\n",
              "      <div>\n",
              "<style scoped>\n",
              "    .dataframe tbody tr th:only-of-type {\n",
              "        vertical-align: middle;\n",
              "    }\n",
              "\n",
              "    .dataframe tbody tr th {\n",
              "        vertical-align: top;\n",
              "    }\n",
              "\n",
              "    .dataframe thead th {\n",
              "        text-align: right;\n",
              "    }\n",
              "</style>\n",
              "<table border=\"1\" class=\"dataframe\">\n",
              "  <thead>\n",
              "    <tr style=\"text-align: right;\">\n",
              "      <th></th>\n",
              "      <th>Topic</th>\n",
              "      <th>Count</th>\n",
              "      <th>Name</th>\n",
              "    </tr>\n",
              "  </thead>\n",
              "  <tbody>\n",
              "    <tr>\n",
              "      <th>0</th>\n",
              "      <td>-1</td>\n",
              "      <td>2786</td>\n",
              "      <td>-1_like_access_dont_new</td>\n",
              "    </tr>\n",
              "    <tr>\n",
              "      <th>1</th>\n",
              "      <td>0</td>\n",
              "      <td>358</td>\n",
              "      <td>0____</td>\n",
              "    </tr>\n",
              "    <tr>\n",
              "      <th>2</th>\n",
              "      <td>1</td>\n",
              "      <td>156</td>\n",
              "      <td>1_changes_change_vote_worse</td>\n",
              "    </tr>\n",
              "    <tr>\n",
              "      <th>3</th>\n",
              "      <td>2</td>\n",
              "      <td>115</td>\n",
              "      <td>2_tweets_day_technotweet_replies</td>\n",
              "    </tr>\n",
              "    <tr>\n",
              "      <th>4</th>\n",
              "      <td>3</td>\n",
              "      <td>113</td>\n",
              "      <td>3_bethr_pvtryan_technical_understand</td>\n",
              "    </tr>\n",
              "    <tr>\n",
              "      <th>...</th>\n",
              "      <td>...</td>\n",
              "      <td>...</td>\n",
              "      <td>...</td>\n",
              "    </tr>\n",
              "    <tr>\n",
              "      <th>74</th>\n",
              "      <td>73</td>\n",
              "      <td>11</td>\n",
              "      <td>73_ryancin_program_ll_interfaces</td>\n",
              "    </tr>\n",
              "    <tr>\n",
              "      <th>75</th>\n",
              "      <td>74</td>\n",
              "      <td>11</td>\n",
              "      <td>74_academic_enthusiasm_enthusiastic_community</td>\n",
              "    </tr>\n",
              "    <tr>\n",
              "      <th>76</th>\n",
              "      <td>75</td>\n",
              "      <td>10</td>\n",
              "      <td>75_translator_extension_engineers_announce</td>\n",
              "    </tr>\n",
              "    <tr>\n",
              "      <th>77</th>\n",
              "      <td>76</td>\n",
              "      <td>10</td>\n",
              "      <td>76_bitch_fuck_pussy_ass</td>\n",
              "    </tr>\n",
              "    <tr>\n",
              "      <th>78</th>\n",
              "      <td>77</td>\n",
              "      <td>10</td>\n",
              "      <td>77_bots_kind_lose_bot</td>\n",
              "    </tr>\n",
              "  </tbody>\n",
              "</table>\n",
              "<p>79 rows × 3 columns</p>\n",
              "</div>\n",
              "      <button class=\"colab-df-convert\" onclick=\"convertToInteractive('df-6c19c3f6-772b-42b3-8c23-8b4a847d197e')\"\n",
              "              title=\"Convert this dataframe to an interactive table.\"\n",
              "              style=\"display:none;\">\n",
              "        \n",
              "  <svg xmlns=\"http://www.w3.org/2000/svg\" height=\"24px\"viewBox=\"0 0 24 24\"\n",
              "       width=\"24px\">\n",
              "    <path d=\"M0 0h24v24H0V0z\" fill=\"none\"/>\n",
              "    <path d=\"M18.56 5.44l.94 2.06.94-2.06 2.06-.94-2.06-.94-.94-2.06-.94 2.06-2.06.94zm-11 1L8.5 8.5l.94-2.06 2.06-.94-2.06-.94L8.5 2.5l-.94 2.06-2.06.94zm10 10l.94 2.06.94-2.06 2.06-.94-2.06-.94-.94-2.06-.94 2.06-2.06.94z\"/><path d=\"M17.41 7.96l-1.37-1.37c-.4-.4-.92-.59-1.43-.59-.52 0-1.04.2-1.43.59L10.3 9.45l-7.72 7.72c-.78.78-.78 2.05 0 2.83L4 21.41c.39.39.9.59 1.41.59.51 0 1.02-.2 1.41-.59l7.78-7.78 2.81-2.81c.8-.78.8-2.07 0-2.86zM5.41 20L4 18.59l7.72-7.72 1.47 1.35L5.41 20z\"/>\n",
              "  </svg>\n",
              "      </button>\n",
              "      \n",
              "  <style>\n",
              "    .colab-df-container {\n",
              "      display:flex;\n",
              "      flex-wrap:wrap;\n",
              "      gap: 12px;\n",
              "    }\n",
              "\n",
              "    .colab-df-convert {\n",
              "      background-color: #E8F0FE;\n",
              "      border: none;\n",
              "      border-radius: 50%;\n",
              "      cursor: pointer;\n",
              "      display: none;\n",
              "      fill: #1967D2;\n",
              "      height: 32px;\n",
              "      padding: 0 0 0 0;\n",
              "      width: 32px;\n",
              "    }\n",
              "\n",
              "    .colab-df-convert:hover {\n",
              "      background-color: #E2EBFA;\n",
              "      box-shadow: 0px 1px 2px rgba(60, 64, 67, 0.3), 0px 1px 3px 1px rgba(60, 64, 67, 0.15);\n",
              "      fill: #174EA6;\n",
              "    }\n",
              "\n",
              "    [theme=dark] .colab-df-convert {\n",
              "      background-color: #3B4455;\n",
              "      fill: #D2E3FC;\n",
              "    }\n",
              "\n",
              "    [theme=dark] .colab-df-convert:hover {\n",
              "      background-color: #434B5C;\n",
              "      box-shadow: 0px 1px 3px 1px rgba(0, 0, 0, 0.15);\n",
              "      filter: drop-shadow(0px 1px 2px rgba(0, 0, 0, 0.3));\n",
              "      fill: #FFFFFF;\n",
              "    }\n",
              "  </style>\n",
              "\n",
              "      <script>\n",
              "        const buttonEl =\n",
              "          document.querySelector('#df-6c19c3f6-772b-42b3-8c23-8b4a847d197e button.colab-df-convert');\n",
              "        buttonEl.style.display =\n",
              "          google.colab.kernel.accessAllowed ? 'block' : 'none';\n",
              "\n",
              "        async function convertToInteractive(key) {\n",
              "          const element = document.querySelector('#df-6c19c3f6-772b-42b3-8c23-8b4a847d197e');\n",
              "          const dataTable =\n",
              "            await google.colab.kernel.invokeFunction('convertToInteractive',\n",
              "                                                     [key], {});\n",
              "          if (!dataTable) return;\n",
              "\n",
              "          const docLinkHtml = 'Like what you see? Visit the ' +\n",
              "            '<a target=\"_blank\" href=https://colab.research.google.com/notebooks/data_table.ipynb>data table notebook</a>'\n",
              "            + ' to learn more about interactive tables.';\n",
              "          element.innerHTML = '';\n",
              "          dataTable['output_type'] = 'display_data';\n",
              "          await google.colab.output.renderOutput(dataTable, element);\n",
              "          const docLink = document.createElement('div');\n",
              "          docLink.innerHTML = docLinkHtml;\n",
              "          element.appendChild(docLink);\n",
              "        }\n",
              "      </script>\n",
              "    </div>\n",
              "  </div>\n",
              "  "
            ]
          },
          "metadata": {},
          "execution_count": 59
        }
      ]
    },
    {
      "cell_type": "code",
      "source": [
        "topic_model.visualize_topics(top_n_topics=10)"
      ],
      "metadata": {
        "colab": {
          "base_uri": "https://localhost:8080/",
          "height": 667
        },
        "id": "rAWWOkBX6e5F",
        "outputId": "e834c142-95e9-4f15-cc84-bea50029fe2a"
      },
      "execution_count": 62,
      "outputs": [
        {
          "output_type": "display_data",
          "data": {
            "text/html": [
              "<html>\n",
              "<head><meta charset=\"utf-8\" /></head>\n",
              "<body>\n",
              "    <div>            <script src=\"https://cdnjs.cloudflare.com/ajax/libs/mathjax/2.7.5/MathJax.js?config=TeX-AMS-MML_SVG\"></script><script type=\"text/javascript\">if (window.MathJax) {MathJax.Hub.Config({SVG: {font: \"STIX-Web\"}});}</script>                <script type=\"text/javascript\">window.PlotlyConfig = {MathJaxConfig: 'local'};</script>\n",
              "        <script src=\"https://cdn.plot.ly/plotly-2.8.3.min.js\"></script>                <div id=\"764063f6-3e58-4217-8d46-4a6fa5a18748\" class=\"plotly-graph-div\" style=\"height:650px; width:650px;\"></div>            <script type=\"text/javascript\">                                    window.PLOTLYENV=window.PLOTLYENV || {};                                    if (document.getElementById(\"764063f6-3e58-4217-8d46-4a6fa5a18748\")) {                    Plotly.newPlot(                        \"764063f6-3e58-4217-8d46-4a6fa5a18748\",                        [{\"customdata\":[[0,\" |  |  |  | \",358],[1,\"changes | change | vote | worse | end\",156],[2,\"tweets | day | technotweet | replies | spam\",115],[3,\"bethr | pvtryan | technical | understand | ryan\",113],[4,\"enthusiasm | word | immense | dread | mean\",98],[5,\"ochriana | louranni | xevondagoat | imstillhungry | yasyszcjosh\",96],[6,\"free | content | pay | ads | access\",79],[7,\"common | bruh | janrusk | fck | lmfao\",76],[8,\"complicated | hate | suck | evil | embarrassing\",74],[9,\"fuck | clowns | fucking | fuckers | fucked\",71]],\"hovertemplate\":\"<b>Topic %{customdata[0]}</b><br>%{customdata[1]}<br>Size: %{customdata[2]}\",\"legendgroup\":\"\",\"marker\":{\"color\":\"#B0BEC5\",\"size\":[358,156,115,113,98,96,79,76,74,71],\"sizemode\":\"area\",\"sizeref\":0.22375,\"symbol\":\"circle\",\"line\":{\"color\":\"DarkSlateGrey\",\"width\":2}},\"mode\":\"markers\",\"name\":\"\",\"orientation\":\"v\",\"showlegend\":false,\"x\":[null,4.75909948348999,-11.214958190917969,5.017314434051514,4.905539512634277,-11.494565963745117,-10.929740905761719,5.302199363708496,4.419933795928955,5.063405990600586],\"xaxis\":\"x\",\"y\":[null,14.557572364807129,3.105043649673462,14.150175094604492,15.193310737609863,3.38531756401062,2.820591449737549,16.06782341003418,15.135604858398438,15.715534210205078],\"yaxis\":\"y\",\"type\":\"scatter\"}],                        {\"template\":{\"data\":{\"barpolar\":[{\"marker\":{\"line\":{\"color\":\"white\",\"width\":0.5},\"pattern\":{\"fillmode\":\"overlay\",\"size\":10,\"solidity\":0.2}},\"type\":\"barpolar\"}],\"bar\":[{\"error_x\":{\"color\":\"rgb(36,36,36)\"},\"error_y\":{\"color\":\"rgb(36,36,36)\"},\"marker\":{\"line\":{\"color\":\"white\",\"width\":0.5},\"pattern\":{\"fillmode\":\"overlay\",\"size\":10,\"solidity\":0.2}},\"type\":\"bar\"}],\"carpet\":[{\"aaxis\":{\"endlinecolor\":\"rgb(36,36,36)\",\"gridcolor\":\"white\",\"linecolor\":\"white\",\"minorgridcolor\":\"white\",\"startlinecolor\":\"rgb(36,36,36)\"},\"baxis\":{\"endlinecolor\":\"rgb(36,36,36)\",\"gridcolor\":\"white\",\"linecolor\":\"white\",\"minorgridcolor\":\"white\",\"startlinecolor\":\"rgb(36,36,36)\"},\"type\":\"carpet\"}],\"choropleth\":[{\"colorbar\":{\"outlinewidth\":1,\"tickcolor\":\"rgb(36,36,36)\",\"ticks\":\"outside\"},\"type\":\"choropleth\"}],\"contourcarpet\":[{\"colorbar\":{\"outlinewidth\":1,\"tickcolor\":\"rgb(36,36,36)\",\"ticks\":\"outside\"},\"type\":\"contourcarpet\"}],\"contour\":[{\"colorbar\":{\"outlinewidth\":1,\"tickcolor\":\"rgb(36,36,36)\",\"ticks\":\"outside\"},\"colorscale\":[[0.0,\"#440154\"],[0.1111111111111111,\"#482878\"],[0.2222222222222222,\"#3e4989\"],[0.3333333333333333,\"#31688e\"],[0.4444444444444444,\"#26828e\"],[0.5555555555555556,\"#1f9e89\"],[0.6666666666666666,\"#35b779\"],[0.7777777777777778,\"#6ece58\"],[0.8888888888888888,\"#b5de2b\"],[1.0,\"#fde725\"]],\"type\":\"contour\"}],\"heatmapgl\":[{\"colorbar\":{\"outlinewidth\":1,\"tickcolor\":\"rgb(36,36,36)\",\"ticks\":\"outside\"},\"colorscale\":[[0.0,\"#440154\"],[0.1111111111111111,\"#482878\"],[0.2222222222222222,\"#3e4989\"],[0.3333333333333333,\"#31688e\"],[0.4444444444444444,\"#26828e\"],[0.5555555555555556,\"#1f9e89\"],[0.6666666666666666,\"#35b779\"],[0.7777777777777778,\"#6ece58\"],[0.8888888888888888,\"#b5de2b\"],[1.0,\"#fde725\"]],\"type\":\"heatmapgl\"}],\"heatmap\":[{\"colorbar\":{\"outlinewidth\":1,\"tickcolor\":\"rgb(36,36,36)\",\"ticks\":\"outside\"},\"colorscale\":[[0.0,\"#440154\"],[0.1111111111111111,\"#482878\"],[0.2222222222222222,\"#3e4989\"],[0.3333333333333333,\"#31688e\"],[0.4444444444444444,\"#26828e\"],[0.5555555555555556,\"#1f9e89\"],[0.6666666666666666,\"#35b779\"],[0.7777777777777778,\"#6ece58\"],[0.8888888888888888,\"#b5de2b\"],[1.0,\"#fde725\"]],\"type\":\"heatmap\"}],\"histogram2dcontour\":[{\"colorbar\":{\"outlinewidth\":1,\"tickcolor\":\"rgb(36,36,36)\",\"ticks\":\"outside\"},\"colorscale\":[[0.0,\"#440154\"],[0.1111111111111111,\"#482878\"],[0.2222222222222222,\"#3e4989\"],[0.3333333333333333,\"#31688e\"],[0.4444444444444444,\"#26828e\"],[0.5555555555555556,\"#1f9e89\"],[0.6666666666666666,\"#35b779\"],[0.7777777777777778,\"#6ece58\"],[0.8888888888888888,\"#b5de2b\"],[1.0,\"#fde725\"]],\"type\":\"histogram2dcontour\"}],\"histogram2d\":[{\"colorbar\":{\"outlinewidth\":1,\"tickcolor\":\"rgb(36,36,36)\",\"ticks\":\"outside\"},\"colorscale\":[[0.0,\"#440154\"],[0.1111111111111111,\"#482878\"],[0.2222222222222222,\"#3e4989\"],[0.3333333333333333,\"#31688e\"],[0.4444444444444444,\"#26828e\"],[0.5555555555555556,\"#1f9e89\"],[0.6666666666666666,\"#35b779\"],[0.7777777777777778,\"#6ece58\"],[0.8888888888888888,\"#b5de2b\"],[1.0,\"#fde725\"]],\"type\":\"histogram2d\"}],\"histogram\":[{\"marker\":{\"line\":{\"color\":\"white\",\"width\":0.6}},\"type\":\"histogram\"}],\"mesh3d\":[{\"colorbar\":{\"outlinewidth\":1,\"tickcolor\":\"rgb(36,36,36)\",\"ticks\":\"outside\"},\"type\":\"mesh3d\"}],\"parcoords\":[{\"line\":{\"colorbar\":{\"outlinewidth\":1,\"tickcolor\":\"rgb(36,36,36)\",\"ticks\":\"outside\"}},\"type\":\"parcoords\"}],\"pie\":[{\"automargin\":true,\"type\":\"pie\"}],\"scatter3d\":[{\"line\":{\"colorbar\":{\"outlinewidth\":1,\"tickcolor\":\"rgb(36,36,36)\",\"ticks\":\"outside\"}},\"marker\":{\"colorbar\":{\"outlinewidth\":1,\"tickcolor\":\"rgb(36,36,36)\",\"ticks\":\"outside\"}},\"type\":\"scatter3d\"}],\"scattercarpet\":[{\"marker\":{\"colorbar\":{\"outlinewidth\":1,\"tickcolor\":\"rgb(36,36,36)\",\"ticks\":\"outside\"}},\"type\":\"scattercarpet\"}],\"scattergeo\":[{\"marker\":{\"colorbar\":{\"outlinewidth\":1,\"tickcolor\":\"rgb(36,36,36)\",\"ticks\":\"outside\"}},\"type\":\"scattergeo\"}],\"scattergl\":[{\"marker\":{\"colorbar\":{\"outlinewidth\":1,\"tickcolor\":\"rgb(36,36,36)\",\"ticks\":\"outside\"}},\"type\":\"scattergl\"}],\"scattermapbox\":[{\"marker\":{\"colorbar\":{\"outlinewidth\":1,\"tickcolor\":\"rgb(36,36,36)\",\"ticks\":\"outside\"}},\"type\":\"scattermapbox\"}],\"scatterpolargl\":[{\"marker\":{\"colorbar\":{\"outlinewidth\":1,\"tickcolor\":\"rgb(36,36,36)\",\"ticks\":\"outside\"}},\"type\":\"scatterpolargl\"}],\"scatterpolar\":[{\"marker\":{\"colorbar\":{\"outlinewidth\":1,\"tickcolor\":\"rgb(36,36,36)\",\"ticks\":\"outside\"}},\"type\":\"scatterpolar\"}],\"scatter\":[{\"marker\":{\"colorbar\":{\"outlinewidth\":1,\"tickcolor\":\"rgb(36,36,36)\",\"ticks\":\"outside\"}},\"type\":\"scatter\"}],\"scatterternary\":[{\"marker\":{\"colorbar\":{\"outlinewidth\":1,\"tickcolor\":\"rgb(36,36,36)\",\"ticks\":\"outside\"}},\"type\":\"scatterternary\"}],\"surface\":[{\"colorbar\":{\"outlinewidth\":1,\"tickcolor\":\"rgb(36,36,36)\",\"ticks\":\"outside\"},\"colorscale\":[[0.0,\"#440154\"],[0.1111111111111111,\"#482878\"],[0.2222222222222222,\"#3e4989\"],[0.3333333333333333,\"#31688e\"],[0.4444444444444444,\"#26828e\"],[0.5555555555555556,\"#1f9e89\"],[0.6666666666666666,\"#35b779\"],[0.7777777777777778,\"#6ece58\"],[0.8888888888888888,\"#b5de2b\"],[1.0,\"#fde725\"]],\"type\":\"surface\"}],\"table\":[{\"cells\":{\"fill\":{\"color\":\"rgb(237,237,237)\"},\"line\":{\"color\":\"white\"}},\"header\":{\"fill\":{\"color\":\"rgb(217,217,217)\"},\"line\":{\"color\":\"white\"}},\"type\":\"table\"}]},\"layout\":{\"annotationdefaults\":{\"arrowhead\":0,\"arrowwidth\":1},\"autotypenumbers\":\"strict\",\"coloraxis\":{\"colorbar\":{\"outlinewidth\":1,\"tickcolor\":\"rgb(36,36,36)\",\"ticks\":\"outside\"}},\"colorscale\":{\"diverging\":[[0.0,\"rgb(103,0,31)\"],[0.1,\"rgb(178,24,43)\"],[0.2,\"rgb(214,96,77)\"],[0.3,\"rgb(244,165,130)\"],[0.4,\"rgb(253,219,199)\"],[0.5,\"rgb(247,247,247)\"],[0.6,\"rgb(209,229,240)\"],[0.7,\"rgb(146,197,222)\"],[0.8,\"rgb(67,147,195)\"],[0.9,\"rgb(33,102,172)\"],[1.0,\"rgb(5,48,97)\"]],\"sequential\":[[0.0,\"#440154\"],[0.1111111111111111,\"#482878\"],[0.2222222222222222,\"#3e4989\"],[0.3333333333333333,\"#31688e\"],[0.4444444444444444,\"#26828e\"],[0.5555555555555556,\"#1f9e89\"],[0.6666666666666666,\"#35b779\"],[0.7777777777777778,\"#6ece58\"],[0.8888888888888888,\"#b5de2b\"],[1.0,\"#fde725\"]],\"sequentialminus\":[[0.0,\"#440154\"],[0.1111111111111111,\"#482878\"],[0.2222222222222222,\"#3e4989\"],[0.3333333333333333,\"#31688e\"],[0.4444444444444444,\"#26828e\"],[0.5555555555555556,\"#1f9e89\"],[0.6666666666666666,\"#35b779\"],[0.7777777777777778,\"#6ece58\"],[0.8888888888888888,\"#b5de2b\"],[1.0,\"#fde725\"]]},\"colorway\":[\"#1F77B4\",\"#FF7F0E\",\"#2CA02C\",\"#D62728\",\"#9467BD\",\"#8C564B\",\"#E377C2\",\"#7F7F7F\",\"#BCBD22\",\"#17BECF\"],\"font\":{\"color\":\"rgb(36,36,36)\"},\"geo\":{\"bgcolor\":\"white\",\"lakecolor\":\"white\",\"landcolor\":\"white\",\"showlakes\":true,\"showland\":true,\"subunitcolor\":\"white\"},\"hoverlabel\":{\"align\":\"left\"},\"hovermode\":\"closest\",\"mapbox\":{\"style\":\"light\"},\"paper_bgcolor\":\"white\",\"plot_bgcolor\":\"white\",\"polar\":{\"angularaxis\":{\"gridcolor\":\"rgb(232,232,232)\",\"linecolor\":\"rgb(36,36,36)\",\"showgrid\":false,\"showline\":true,\"ticks\":\"outside\"},\"bgcolor\":\"white\",\"radialaxis\":{\"gridcolor\":\"rgb(232,232,232)\",\"linecolor\":\"rgb(36,36,36)\",\"showgrid\":false,\"showline\":true,\"ticks\":\"outside\"}},\"scene\":{\"xaxis\":{\"backgroundcolor\":\"white\",\"gridcolor\":\"rgb(232,232,232)\",\"gridwidth\":2,\"linecolor\":\"rgb(36,36,36)\",\"showbackground\":true,\"showgrid\":false,\"showline\":true,\"ticks\":\"outside\",\"zeroline\":false,\"zerolinecolor\":\"rgb(36,36,36)\"},\"yaxis\":{\"backgroundcolor\":\"white\",\"gridcolor\":\"rgb(232,232,232)\",\"gridwidth\":2,\"linecolor\":\"rgb(36,36,36)\",\"showbackground\":true,\"showgrid\":false,\"showline\":true,\"ticks\":\"outside\",\"zeroline\":false,\"zerolinecolor\":\"rgb(36,36,36)\"},\"zaxis\":{\"backgroundcolor\":\"white\",\"gridcolor\":\"rgb(232,232,232)\",\"gridwidth\":2,\"linecolor\":\"rgb(36,36,36)\",\"showbackground\":true,\"showgrid\":false,\"showline\":true,\"ticks\":\"outside\",\"zeroline\":false,\"zerolinecolor\":\"rgb(36,36,36)\"}},\"shapedefaults\":{\"fillcolor\":\"black\",\"line\":{\"width\":0},\"opacity\":0.3},\"ternary\":{\"aaxis\":{\"gridcolor\":\"rgb(232,232,232)\",\"linecolor\":\"rgb(36,36,36)\",\"showgrid\":false,\"showline\":true,\"ticks\":\"outside\"},\"baxis\":{\"gridcolor\":\"rgb(232,232,232)\",\"linecolor\":\"rgb(36,36,36)\",\"showgrid\":false,\"showline\":true,\"ticks\":\"outside\"},\"bgcolor\":\"white\",\"caxis\":{\"gridcolor\":\"rgb(232,232,232)\",\"linecolor\":\"rgb(36,36,36)\",\"showgrid\":false,\"showline\":true,\"ticks\":\"outside\"}},\"title\":{\"x\":0.05},\"xaxis\":{\"automargin\":true,\"gridcolor\":\"rgb(232,232,232)\",\"linecolor\":\"rgb(36,36,36)\",\"showgrid\":false,\"showline\":true,\"ticks\":\"outside\",\"title\":{\"standoff\":15},\"zeroline\":false,\"zerolinecolor\":\"rgb(36,36,36)\"},\"yaxis\":{\"automargin\":true,\"gridcolor\":\"rgb(232,232,232)\",\"linecolor\":\"rgb(36,36,36)\",\"showgrid\":false,\"showline\":true,\"ticks\":\"outside\",\"title\":{\"standoff\":15},\"zeroline\":false,\"zerolinecolor\":\"rgb(36,36,36)\"}}},\"xaxis\":{\"anchor\":\"y\",\"domain\":[0.0,1.0],\"title\":{\"text\":\"\"},\"visible\":false,\"range\":[-13.218750858306885,6.09752926826477]},\"yaxis\":{\"anchor\":\"x\",\"domain\":[0.0,1.0],\"title\":{\"text\":\"\"},\"visible\":false,\"range\":[2.3975027322769167,18.477996921539308]},\"legend\":{\"tracegroupgap\":0,\"itemsizing\":\"constant\"},\"margin\":{\"t\":60},\"title\":{\"font\":{\"size\":22,\"color\":\"Black\"},\"text\":\"<b>Intertopic Distance Map</b>\",\"y\":0.95,\"x\":0.5,\"xanchor\":\"center\",\"yanchor\":\"top\"},\"hoverlabel\":{\"font\":{\"size\":16,\"family\":\"Rockwell\"},\"bgcolor\":\"white\"},\"width\":650,\"height\":650,\"sliders\":[{\"active\":0,\"pad\":{\"t\":50},\"steps\":[{\"args\":[{\"marker.color\":[[\"red\",\"#B0BEC5\",\"#B0BEC5\",\"#B0BEC5\",\"#B0BEC5\",\"#B0BEC5\",\"#B0BEC5\",\"#B0BEC5\",\"#B0BEC5\",\"#B0BEC5\"]]}],\"label\":\"Topic 0\",\"method\":\"update\"},{\"args\":[{\"marker.color\":[[\"#B0BEC5\",\"red\",\"#B0BEC5\",\"#B0BEC5\",\"#B0BEC5\",\"#B0BEC5\",\"#B0BEC5\",\"#B0BEC5\",\"#B0BEC5\",\"#B0BEC5\"]]}],\"label\":\"Topic 1\",\"method\":\"update\"},{\"args\":[{\"marker.color\":[[\"#B0BEC5\",\"#B0BEC5\",\"red\",\"#B0BEC5\",\"#B0BEC5\",\"#B0BEC5\",\"#B0BEC5\",\"#B0BEC5\",\"#B0BEC5\",\"#B0BEC5\"]]}],\"label\":\"Topic 2\",\"method\":\"update\"},{\"args\":[{\"marker.color\":[[\"#B0BEC5\",\"#B0BEC5\",\"#B0BEC5\",\"red\",\"#B0BEC5\",\"#B0BEC5\",\"#B0BEC5\",\"#B0BEC5\",\"#B0BEC5\",\"#B0BEC5\"]]}],\"label\":\"Topic 3\",\"method\":\"update\"},{\"args\":[{\"marker.color\":[[\"#B0BEC5\",\"#B0BEC5\",\"#B0BEC5\",\"#B0BEC5\",\"red\",\"#B0BEC5\",\"#B0BEC5\",\"#B0BEC5\",\"#B0BEC5\",\"#B0BEC5\"]]}],\"label\":\"Topic 4\",\"method\":\"update\"},{\"args\":[{\"marker.color\":[[\"#B0BEC5\",\"#B0BEC5\",\"#B0BEC5\",\"#B0BEC5\",\"#B0BEC5\",\"red\",\"#B0BEC5\",\"#B0BEC5\",\"#B0BEC5\",\"#B0BEC5\"]]}],\"label\":\"Topic 5\",\"method\":\"update\"},{\"args\":[{\"marker.color\":[[\"#B0BEC5\",\"#B0BEC5\",\"#B0BEC5\",\"#B0BEC5\",\"#B0BEC5\",\"#B0BEC5\",\"red\",\"#B0BEC5\",\"#B0BEC5\",\"#B0BEC5\"]]}],\"label\":\"Topic 6\",\"method\":\"update\"},{\"args\":[{\"marker.color\":[[\"#B0BEC5\",\"#B0BEC5\",\"#B0BEC5\",\"#B0BEC5\",\"#B0BEC5\",\"#B0BEC5\",\"#B0BEC5\",\"red\",\"#B0BEC5\",\"#B0BEC5\"]]}],\"label\":\"Topic 7\",\"method\":\"update\"},{\"args\":[{\"marker.color\":[[\"#B0BEC5\",\"#B0BEC5\",\"#B0BEC5\",\"#B0BEC5\",\"#B0BEC5\",\"#B0BEC5\",\"#B0BEC5\",\"#B0BEC5\",\"red\",\"#B0BEC5\"]]}],\"label\":\"Topic 8\",\"method\":\"update\"},{\"args\":[{\"marker.color\":[[\"#B0BEC5\",\"#B0BEC5\",\"#B0BEC5\",\"#B0BEC5\",\"#B0BEC5\",\"#B0BEC5\",\"#B0BEC5\",\"#B0BEC5\",\"#B0BEC5\",\"red\"]]}],\"label\":\"Topic 9\",\"method\":\"update\"}]}],\"shapes\":[{\"line\":{\"color\":\"#CFD8DC\",\"width\":2},\"type\":\"line\",\"x0\":-3.5606107950210575,\"x1\":-3.5606107950210575,\"y0\":2.3975027322769167,\"y1\":18.477996921539308},{\"line\":{\"color\":\"#9E9E9E\",\"width\":2},\"type\":\"line\",\"x0\":-13.218750858306885,\"x1\":6.09752926826477,\"y0\":10.437749826908112,\"y1\":10.437749826908112}],\"annotations\":[{\"showarrow\":false,\"text\":\"D1\",\"x\":-13.218750858306885,\"y\":10.437749826908112,\"yshift\":10},{\"showarrow\":false,\"text\":\"D2\",\"x\":-3.5606107950210575,\"xshift\":10,\"y\":18.477996921539308}]},                        {\"responsive\": true}                    ).then(function(){\n",
              "                            \n",
              "var gd = document.getElementById('764063f6-3e58-4217-8d46-4a6fa5a18748');\n",
              "var x = new MutationObserver(function (mutations, observer) {{\n",
              "        var display = window.getComputedStyle(gd).display;\n",
              "        if (!display || display === 'none') {{\n",
              "            console.log([gd, 'removed!']);\n",
              "            Plotly.purge(gd);\n",
              "            observer.disconnect();\n",
              "        }}\n",
              "}});\n",
              "\n",
              "// Listen for the removal of the full notebook cells\n",
              "var notebookContainer = gd.closest('#notebook-container');\n",
              "if (notebookContainer) {{\n",
              "    x.observe(notebookContainer, {childList: true});\n",
              "}}\n",
              "\n",
              "// Listen for the clearing of the current output cell\n",
              "var outputEl = gd.closest('.output');\n",
              "if (outputEl) {{\n",
              "    x.observe(outputEl, {childList: true});\n",
              "}}\n",
              "\n",
              "                        })                };                            </script>        </div>\n",
              "</body>\n",
              "</html>"
            ]
          },
          "metadata": {}
        }
      ]
    },
    {
      "cell_type": "code",
      "source": [
        "topic_model.visualize_barchart(top_n_topics=10)"
      ],
      "metadata": {
        "colab": {
          "base_uri": "https://localhost:8080/",
          "height": 767
        },
        "id": "JybOV4-50le4",
        "outputId": "0986fe8b-3de7-409e-a746-afa973ca604e"
      },
      "execution_count": 63,
      "outputs": [
        {
          "output_type": "display_data",
          "data": {
            "text/html": [
              "<html>\n",
              "<head><meta charset=\"utf-8\" /></head>\n",
              "<body>\n",
              "    <div>            <script src=\"https://cdnjs.cloudflare.com/ajax/libs/mathjax/2.7.5/MathJax.js?config=TeX-AMS-MML_SVG\"></script><script type=\"text/javascript\">if (window.MathJax) {MathJax.Hub.Config({SVG: {font: \"STIX-Web\"}});}</script>                <script type=\"text/javascript\">window.PlotlyConfig = {MathJaxConfig: 'local'};</script>\n",
              "        <script src=\"https://cdn.plot.ly/plotly-2.8.3.min.js\"></script>                <div id=\"eebe925c-22e8-4e57-9890-36042ca1af16\" class=\"plotly-graph-div\" style=\"height:750px; width:1000px;\"></div>            <script type=\"text/javascript\">                                    window.PLOTLYENV=window.PLOTLYENV || {};                                    if (document.getElementById(\"eebe925c-22e8-4e57-9890-36042ca1af16\")) {                    Plotly.newPlot(                        \"eebe925c-22e8-4e57-9890-36042ca1af16\",                        [{\"marker\":{\"color\":\"#D55E00\"},\"orientation\":\"h\",\"x\":[1e-05,1e-05,1e-05,1e-05,1e-05],\"y\":[\"  \",\"  \",\"  \",\"  \",\"  \"],\"type\":\"bar\",\"xaxis\":\"x\",\"yaxis\":\"y\"},{\"marker\":{\"color\":\"#0072B2\"},\"orientation\":\"h\",\"x\":[0.018909503897311414,0.01913166634879701,0.02244068554840752,0.024828224963155107,0.032957403603478326],\"y\":[\"end  \",\"worse  \",\"vote  \",\"change  \",\"changes  \"],\"type\":\"bar\",\"xaxis\":\"x2\",\"yaxis\":\"y2\"},{\"marker\":{\"color\":\"#CC79A7\"},\"orientation\":\"h\",\"x\":[0.023290124653148683,0.03052347109836549,0.03375720268924731,0.036507183779609174,0.08396937483738576],\"y\":[\"spam  \",\"replies  \",\"technotweet  \",\"day  \",\"tweets  \"],\"type\":\"bar\",\"xaxis\":\"x3\",\"yaxis\":\"y3\"},{\"marker\":{\"color\":\"#E69F00\"},\"orientation\":\"h\",\"x\":[0.02315865201250143,0.028180826040982425,0.04238699997558007,0.04676097515045833,0.06672022540108981],\"y\":[\"ryan  \",\"understand  \",\"technical  \",\"pvtryan  \",\"bethr  \"],\"type\":\"bar\",\"xaxis\":\"x4\",\"yaxis\":\"y4\"},{\"marker\":{\"color\":\"#56B4E9\"},\"orientation\":\"h\",\"x\":[0.023869570546579573,0.02648794650709812,0.031962245493060565,0.03457739541027923,0.1874599718162817],\"y\":[\"mean  \",\"dread  \",\"immense  \",\"word  \",\"enthusiasm  \"],\"type\":\"bar\",\"xaxis\":\"x5\",\"yaxis\":\"y5\"},{\"marker\":{\"color\":\"#009E73\"},\"orientation\":\"h\",\"x\":[0.043563246071494595,0.04742709996514525,0.04974686645432351,0.05928387495643156,0.06830379119421244],\"y\":[\"yasyszcjosh  \",\"imstillhungry  \",\"xevondagoat  \",\"louranni  \",\"ochriana  \"],\"type\":\"bar\",\"xaxis\":\"x6\",\"yaxis\":\"y6\"},{\"marker\":{\"color\":\"#F0E442\"},\"orientation\":\"h\",\"x\":[0.025198169391249546,0.025633120347613253,0.028181798089633822,0.042846984078879456,0.06756121452989822],\"y\":[\"access  \",\"ads  \",\"pay  \",\"content  \",\"free  \"],\"type\":\"bar\",\"xaxis\":\"x7\",\"yaxis\":\"y7\"},{\"marker\":{\"color\":\"#D55E00\"},\"orientation\":\"h\",\"x\":[0.13345509971792277,0.14579658553151736,0.16698923810433863,0.25755792864171245,0.26691019943584554],\"y\":[\"lmfao  \",\"fck  \",\"janrusk  \",\"bruh  \",\"common  \"],\"type\":\"bar\",\"xaxis\":\"x8\",\"yaxis\":\"y8\"},{\"marker\":{\"color\":\"#0072B2\"},\"orientation\":\"h\",\"x\":[0.10326882716267832,0.11281878642319795,0.14051118607729787,0.16010125371631032,0.23442501867532853],\"y\":[\"embarrassing  \",\"evil  \",\"suck  \",\"hate  \",\"complicated  \"],\"type\":\"bar\",\"xaxis\":\"x9\",\"yaxis\":\"y9\"},{\"marker\":{\"color\":\"#CC79A7\"},\"orientation\":\"h\",\"x\":[0.09989567731382974,0.10576590570202687,0.10784927327286878,0.20184957689958885,0.891454878338475],\"y\":[\"fucked  \",\"fuckers  \",\"fucking  \",\"clowns  \",\"fuck  \"],\"type\":\"bar\",\"xaxis\":\"x10\",\"yaxis\":\"y10\"}],                        {\"template\":{\"data\":{\"barpolar\":[{\"marker\":{\"line\":{\"color\":\"white\",\"width\":0.5},\"pattern\":{\"fillmode\":\"overlay\",\"size\":10,\"solidity\":0.2}},\"type\":\"barpolar\"}],\"bar\":[{\"error_x\":{\"color\":\"#2a3f5f\"},\"error_y\":{\"color\":\"#2a3f5f\"},\"marker\":{\"line\":{\"color\":\"white\",\"width\":0.5},\"pattern\":{\"fillmode\":\"overlay\",\"size\":10,\"solidity\":0.2}},\"type\":\"bar\"}],\"carpet\":[{\"aaxis\":{\"endlinecolor\":\"#2a3f5f\",\"gridcolor\":\"#C8D4E3\",\"linecolor\":\"#C8D4E3\",\"minorgridcolor\":\"#C8D4E3\",\"startlinecolor\":\"#2a3f5f\"},\"baxis\":{\"endlinecolor\":\"#2a3f5f\",\"gridcolor\":\"#C8D4E3\",\"linecolor\":\"#C8D4E3\",\"minorgridcolor\":\"#C8D4E3\",\"startlinecolor\":\"#2a3f5f\"},\"type\":\"carpet\"}],\"choropleth\":[{\"colorbar\":{\"outlinewidth\":0,\"ticks\":\"\"},\"type\":\"choropleth\"}],\"contourcarpet\":[{\"colorbar\":{\"outlinewidth\":0,\"ticks\":\"\"},\"type\":\"contourcarpet\"}],\"contour\":[{\"colorbar\":{\"outlinewidth\":0,\"ticks\":\"\"},\"colorscale\":[[0.0,\"#0d0887\"],[0.1111111111111111,\"#46039f\"],[0.2222222222222222,\"#7201a8\"],[0.3333333333333333,\"#9c179e\"],[0.4444444444444444,\"#bd3786\"],[0.5555555555555556,\"#d8576b\"],[0.6666666666666666,\"#ed7953\"],[0.7777777777777778,\"#fb9f3a\"],[0.8888888888888888,\"#fdca26\"],[1.0,\"#f0f921\"]],\"type\":\"contour\"}],\"heatmapgl\":[{\"colorbar\":{\"outlinewidth\":0,\"ticks\":\"\"},\"colorscale\":[[0.0,\"#0d0887\"],[0.1111111111111111,\"#46039f\"],[0.2222222222222222,\"#7201a8\"],[0.3333333333333333,\"#9c179e\"],[0.4444444444444444,\"#bd3786\"],[0.5555555555555556,\"#d8576b\"],[0.6666666666666666,\"#ed7953\"],[0.7777777777777778,\"#fb9f3a\"],[0.8888888888888888,\"#fdca26\"],[1.0,\"#f0f921\"]],\"type\":\"heatmapgl\"}],\"heatmap\":[{\"colorbar\":{\"outlinewidth\":0,\"ticks\":\"\"},\"colorscale\":[[0.0,\"#0d0887\"],[0.1111111111111111,\"#46039f\"],[0.2222222222222222,\"#7201a8\"],[0.3333333333333333,\"#9c179e\"],[0.4444444444444444,\"#bd3786\"],[0.5555555555555556,\"#d8576b\"],[0.6666666666666666,\"#ed7953\"],[0.7777777777777778,\"#fb9f3a\"],[0.8888888888888888,\"#fdca26\"],[1.0,\"#f0f921\"]],\"type\":\"heatmap\"}],\"histogram2dcontour\":[{\"colorbar\":{\"outlinewidth\":0,\"ticks\":\"\"},\"colorscale\":[[0.0,\"#0d0887\"],[0.1111111111111111,\"#46039f\"],[0.2222222222222222,\"#7201a8\"],[0.3333333333333333,\"#9c179e\"],[0.4444444444444444,\"#bd3786\"],[0.5555555555555556,\"#d8576b\"],[0.6666666666666666,\"#ed7953\"],[0.7777777777777778,\"#fb9f3a\"],[0.8888888888888888,\"#fdca26\"],[1.0,\"#f0f921\"]],\"type\":\"histogram2dcontour\"}],\"histogram2d\":[{\"colorbar\":{\"outlinewidth\":0,\"ticks\":\"\"},\"colorscale\":[[0.0,\"#0d0887\"],[0.1111111111111111,\"#46039f\"],[0.2222222222222222,\"#7201a8\"],[0.3333333333333333,\"#9c179e\"],[0.4444444444444444,\"#bd3786\"],[0.5555555555555556,\"#d8576b\"],[0.6666666666666666,\"#ed7953\"],[0.7777777777777778,\"#fb9f3a\"],[0.8888888888888888,\"#fdca26\"],[1.0,\"#f0f921\"]],\"type\":\"histogram2d\"}],\"histogram\":[{\"marker\":{\"pattern\":{\"fillmode\":\"overlay\",\"size\":10,\"solidity\":0.2}},\"type\":\"histogram\"}],\"mesh3d\":[{\"colorbar\":{\"outlinewidth\":0,\"ticks\":\"\"},\"type\":\"mesh3d\"}],\"parcoords\":[{\"line\":{\"colorbar\":{\"outlinewidth\":0,\"ticks\":\"\"}},\"type\":\"parcoords\"}],\"pie\":[{\"automargin\":true,\"type\":\"pie\"}],\"scatter3d\":[{\"line\":{\"colorbar\":{\"outlinewidth\":0,\"ticks\":\"\"}},\"marker\":{\"colorbar\":{\"outlinewidth\":0,\"ticks\":\"\"}},\"type\":\"scatter3d\"}],\"scattercarpet\":[{\"marker\":{\"colorbar\":{\"outlinewidth\":0,\"ticks\":\"\"}},\"type\":\"scattercarpet\"}],\"scattergeo\":[{\"marker\":{\"colorbar\":{\"outlinewidth\":0,\"ticks\":\"\"}},\"type\":\"scattergeo\"}],\"scattergl\":[{\"marker\":{\"colorbar\":{\"outlinewidth\":0,\"ticks\":\"\"}},\"type\":\"scattergl\"}],\"scattermapbox\":[{\"marker\":{\"colorbar\":{\"outlinewidth\":0,\"ticks\":\"\"}},\"type\":\"scattermapbox\"}],\"scatterpolargl\":[{\"marker\":{\"colorbar\":{\"outlinewidth\":0,\"ticks\":\"\"}},\"type\":\"scatterpolargl\"}],\"scatterpolar\":[{\"marker\":{\"colorbar\":{\"outlinewidth\":0,\"ticks\":\"\"}},\"type\":\"scatterpolar\"}],\"scatter\":[{\"marker\":{\"colorbar\":{\"outlinewidth\":0,\"ticks\":\"\"}},\"type\":\"scatter\"}],\"scatterternary\":[{\"marker\":{\"colorbar\":{\"outlinewidth\":0,\"ticks\":\"\"}},\"type\":\"scatterternary\"}],\"surface\":[{\"colorbar\":{\"outlinewidth\":0,\"ticks\":\"\"},\"colorscale\":[[0.0,\"#0d0887\"],[0.1111111111111111,\"#46039f\"],[0.2222222222222222,\"#7201a8\"],[0.3333333333333333,\"#9c179e\"],[0.4444444444444444,\"#bd3786\"],[0.5555555555555556,\"#d8576b\"],[0.6666666666666666,\"#ed7953\"],[0.7777777777777778,\"#fb9f3a\"],[0.8888888888888888,\"#fdca26\"],[1.0,\"#f0f921\"]],\"type\":\"surface\"}],\"table\":[{\"cells\":{\"fill\":{\"color\":\"#EBF0F8\"},\"line\":{\"color\":\"white\"}},\"header\":{\"fill\":{\"color\":\"#C8D4E3\"},\"line\":{\"color\":\"white\"}},\"type\":\"table\"}]},\"layout\":{\"annotationdefaults\":{\"arrowcolor\":\"#2a3f5f\",\"arrowhead\":0,\"arrowwidth\":1},\"autotypenumbers\":\"strict\",\"coloraxis\":{\"colorbar\":{\"outlinewidth\":0,\"ticks\":\"\"}},\"colorscale\":{\"diverging\":[[0,\"#8e0152\"],[0.1,\"#c51b7d\"],[0.2,\"#de77ae\"],[0.3,\"#f1b6da\"],[0.4,\"#fde0ef\"],[0.5,\"#f7f7f7\"],[0.6,\"#e6f5d0\"],[0.7,\"#b8e186\"],[0.8,\"#7fbc41\"],[0.9,\"#4d9221\"],[1,\"#276419\"]],\"sequential\":[[0.0,\"#0d0887\"],[0.1111111111111111,\"#46039f\"],[0.2222222222222222,\"#7201a8\"],[0.3333333333333333,\"#9c179e\"],[0.4444444444444444,\"#bd3786\"],[0.5555555555555556,\"#d8576b\"],[0.6666666666666666,\"#ed7953\"],[0.7777777777777778,\"#fb9f3a\"],[0.8888888888888888,\"#fdca26\"],[1.0,\"#f0f921\"]],\"sequentialminus\":[[0.0,\"#0d0887\"],[0.1111111111111111,\"#46039f\"],[0.2222222222222222,\"#7201a8\"],[0.3333333333333333,\"#9c179e\"],[0.4444444444444444,\"#bd3786\"],[0.5555555555555556,\"#d8576b\"],[0.6666666666666666,\"#ed7953\"],[0.7777777777777778,\"#fb9f3a\"],[0.8888888888888888,\"#fdca26\"],[1.0,\"#f0f921\"]]},\"colorway\":[\"#636efa\",\"#EF553B\",\"#00cc96\",\"#ab63fa\",\"#FFA15A\",\"#19d3f3\",\"#FF6692\",\"#B6E880\",\"#FF97FF\",\"#FECB52\"],\"font\":{\"color\":\"#2a3f5f\"},\"geo\":{\"bgcolor\":\"white\",\"lakecolor\":\"white\",\"landcolor\":\"white\",\"showlakes\":true,\"showland\":true,\"subunitcolor\":\"#C8D4E3\"},\"hoverlabel\":{\"align\":\"left\"},\"hovermode\":\"closest\",\"mapbox\":{\"style\":\"light\"},\"paper_bgcolor\":\"white\",\"plot_bgcolor\":\"white\",\"polar\":{\"angularaxis\":{\"gridcolor\":\"#EBF0F8\",\"linecolor\":\"#EBF0F8\",\"ticks\":\"\"},\"bgcolor\":\"white\",\"radialaxis\":{\"gridcolor\":\"#EBF0F8\",\"linecolor\":\"#EBF0F8\",\"ticks\":\"\"}},\"scene\":{\"xaxis\":{\"backgroundcolor\":\"white\",\"gridcolor\":\"#DFE8F3\",\"gridwidth\":2,\"linecolor\":\"#EBF0F8\",\"showbackground\":true,\"ticks\":\"\",\"zerolinecolor\":\"#EBF0F8\"},\"yaxis\":{\"backgroundcolor\":\"white\",\"gridcolor\":\"#DFE8F3\",\"gridwidth\":2,\"linecolor\":\"#EBF0F8\",\"showbackground\":true,\"ticks\":\"\",\"zerolinecolor\":\"#EBF0F8\"},\"zaxis\":{\"backgroundcolor\":\"white\",\"gridcolor\":\"#DFE8F3\",\"gridwidth\":2,\"linecolor\":\"#EBF0F8\",\"showbackground\":true,\"ticks\":\"\",\"zerolinecolor\":\"#EBF0F8\"}},\"shapedefaults\":{\"line\":{\"color\":\"#2a3f5f\"}},\"ternary\":{\"aaxis\":{\"gridcolor\":\"#DFE8F3\",\"linecolor\":\"#A2B1C6\",\"ticks\":\"\"},\"baxis\":{\"gridcolor\":\"#DFE8F3\",\"linecolor\":\"#A2B1C6\",\"ticks\":\"\"},\"bgcolor\":\"white\",\"caxis\":{\"gridcolor\":\"#DFE8F3\",\"linecolor\":\"#A2B1C6\",\"ticks\":\"\"}},\"title\":{\"x\":0.05},\"xaxis\":{\"automargin\":true,\"gridcolor\":\"#EBF0F8\",\"linecolor\":\"#EBF0F8\",\"ticks\":\"\",\"title\":{\"standoff\":15},\"zerolinecolor\":\"#EBF0F8\",\"zerolinewidth\":2},\"yaxis\":{\"automargin\":true,\"gridcolor\":\"#EBF0F8\",\"linecolor\":\"#EBF0F8\",\"ticks\":\"\",\"title\":{\"standoff\":15},\"zerolinecolor\":\"#EBF0F8\",\"zerolinewidth\":2}}},\"xaxis\":{\"anchor\":\"y\",\"domain\":[0.0,0.175],\"showgrid\":true},\"yaxis\":{\"anchor\":\"x\",\"domain\":[0.7555555555555555,1.0],\"showgrid\":true},\"xaxis2\":{\"anchor\":\"y2\",\"domain\":[0.275,0.45],\"showgrid\":true},\"yaxis2\":{\"anchor\":\"x2\",\"domain\":[0.7555555555555555,1.0],\"showgrid\":true},\"xaxis3\":{\"anchor\":\"y3\",\"domain\":[0.55,0.7250000000000001],\"showgrid\":true},\"yaxis3\":{\"anchor\":\"x3\",\"domain\":[0.7555555555555555,1.0],\"showgrid\":true},\"xaxis4\":{\"anchor\":\"y4\",\"domain\":[0.825,1.0],\"showgrid\":true},\"yaxis4\":{\"anchor\":\"x4\",\"domain\":[0.7555555555555555,1.0],\"showgrid\":true},\"xaxis5\":{\"anchor\":\"y5\",\"domain\":[0.0,0.175],\"showgrid\":true},\"yaxis5\":{\"anchor\":\"x5\",\"domain\":[0.37777777777777777,0.6222222222222222],\"showgrid\":true},\"xaxis6\":{\"anchor\":\"y6\",\"domain\":[0.275,0.45],\"showgrid\":true},\"yaxis6\":{\"anchor\":\"x6\",\"domain\":[0.37777777777777777,0.6222222222222222],\"showgrid\":true},\"xaxis7\":{\"anchor\":\"y7\",\"domain\":[0.55,0.7250000000000001],\"showgrid\":true},\"yaxis7\":{\"anchor\":\"x7\",\"domain\":[0.37777777777777777,0.6222222222222222],\"showgrid\":true},\"xaxis8\":{\"anchor\":\"y8\",\"domain\":[0.825,1.0],\"showgrid\":true},\"yaxis8\":{\"anchor\":\"x8\",\"domain\":[0.37777777777777777,0.6222222222222222],\"showgrid\":true},\"xaxis9\":{\"anchor\":\"y9\",\"domain\":[0.0,0.175],\"showgrid\":true},\"yaxis9\":{\"anchor\":\"x9\",\"domain\":[0.0,0.24444444444444446],\"showgrid\":true},\"xaxis10\":{\"anchor\":\"y10\",\"domain\":[0.275,0.45],\"showgrid\":true},\"yaxis10\":{\"anchor\":\"x10\",\"domain\":[0.0,0.24444444444444446],\"showgrid\":true},\"xaxis11\":{\"anchor\":\"y11\",\"domain\":[0.55,0.7250000000000001],\"showgrid\":true},\"yaxis11\":{\"anchor\":\"x11\",\"domain\":[0.0,0.24444444444444446],\"showgrid\":true},\"xaxis12\":{\"anchor\":\"y12\",\"domain\":[0.825,1.0],\"showgrid\":true},\"yaxis12\":{\"anchor\":\"x12\",\"domain\":[0.0,0.24444444444444446],\"showgrid\":true},\"annotations\":[{\"font\":{\"size\":16},\"showarrow\":false,\"text\":\"Topic 0\",\"x\":0.0875,\"xanchor\":\"center\",\"xref\":\"paper\",\"y\":1.0,\"yanchor\":\"bottom\",\"yref\":\"paper\"},{\"font\":{\"size\":16},\"showarrow\":false,\"text\":\"Topic 1\",\"x\":0.36250000000000004,\"xanchor\":\"center\",\"xref\":\"paper\",\"y\":1.0,\"yanchor\":\"bottom\",\"yref\":\"paper\"},{\"font\":{\"size\":16},\"showarrow\":false,\"text\":\"Topic 2\",\"x\":0.6375000000000001,\"xanchor\":\"center\",\"xref\":\"paper\",\"y\":1.0,\"yanchor\":\"bottom\",\"yref\":\"paper\"},{\"font\":{\"size\":16},\"showarrow\":false,\"text\":\"Topic 3\",\"x\":0.9125,\"xanchor\":\"center\",\"xref\":\"paper\",\"y\":1.0,\"yanchor\":\"bottom\",\"yref\":\"paper\"},{\"font\":{\"size\":16},\"showarrow\":false,\"text\":\"Topic 4\",\"x\":0.0875,\"xanchor\":\"center\",\"xref\":\"paper\",\"y\":0.6222222222222222,\"yanchor\":\"bottom\",\"yref\":\"paper\"},{\"font\":{\"size\":16},\"showarrow\":false,\"text\":\"Topic 5\",\"x\":0.36250000000000004,\"xanchor\":\"center\",\"xref\":\"paper\",\"y\":0.6222222222222222,\"yanchor\":\"bottom\",\"yref\":\"paper\"},{\"font\":{\"size\":16},\"showarrow\":false,\"text\":\"Topic 6\",\"x\":0.6375000000000001,\"xanchor\":\"center\",\"xref\":\"paper\",\"y\":0.6222222222222222,\"yanchor\":\"bottom\",\"yref\":\"paper\"},{\"font\":{\"size\":16},\"showarrow\":false,\"text\":\"Topic 7\",\"x\":0.9125,\"xanchor\":\"center\",\"xref\":\"paper\",\"y\":0.6222222222222222,\"yanchor\":\"bottom\",\"yref\":\"paper\"},{\"font\":{\"size\":16},\"showarrow\":false,\"text\":\"Topic 8\",\"x\":0.0875,\"xanchor\":\"center\",\"xref\":\"paper\",\"y\":0.24444444444444446,\"yanchor\":\"bottom\",\"yref\":\"paper\"},{\"font\":{\"size\":16},\"showarrow\":false,\"text\":\"Topic 9\",\"x\":0.36250000000000004,\"xanchor\":\"center\",\"xref\":\"paper\",\"y\":0.24444444444444446,\"yanchor\":\"bottom\",\"yref\":\"paper\"}],\"title\":{\"font\":{\"size\":22,\"color\":\"Black\"},\"text\":\"Topic Word Scores\",\"x\":0.5,\"xanchor\":\"center\",\"yanchor\":\"top\"},\"hoverlabel\":{\"font\":{\"size\":16,\"family\":\"Rockwell\"},\"bgcolor\":\"white\"},\"showlegend\":false,\"width\":1000,\"height\":750},                        {\"responsive\": true}                    ).then(function(){\n",
              "                            \n",
              "var gd = document.getElementById('eebe925c-22e8-4e57-9890-36042ca1af16');\n",
              "var x = new MutationObserver(function (mutations, observer) {{\n",
              "        var display = window.getComputedStyle(gd).display;\n",
              "        if (!display || display === 'none') {{\n",
              "            console.log([gd, 'removed!']);\n",
              "            Plotly.purge(gd);\n",
              "            observer.disconnect();\n",
              "        }}\n",
              "}});\n",
              "\n",
              "// Listen for the removal of the full notebook cells\n",
              "var notebookContainer = gd.closest('#notebook-container');\n",
              "if (notebookContainer) {{\n",
              "    x.observe(notebookContainer, {childList: true});\n",
              "}}\n",
              "\n",
              "// Listen for the clearing of the current output cell\n",
              "var outputEl = gd.closest('.output');\n",
              "if (outputEl) {{\n",
              "    x.observe(outputEl, {childList: true});\n",
              "}}\n",
              "\n",
              "                        })                };                            </script>        </div>\n",
              "</body>\n",
              "</html>"
            ]
          },
          "metadata": {}
        }
      ]
    },
    {
      "cell_type": "code",
      "source": [
        "#Customized BERT Topic"
      ],
      "metadata": {
        "id": "3qWusbXp0lOa"
      },
      "execution_count": 40,
      "outputs": []
    },
    {
      "cell_type": "code",
      "source": [
        "UMAP"
      ],
      "metadata": {
        "colab": {
          "base_uri": "https://localhost:8080/"
        },
        "id": "Kiv01ueG8Xq9",
        "outputId": "1e914c6c-1164-4b88-d484-91329c5812ed"
      },
      "execution_count": null,
      "outputs": [
        {
          "output_type": "execute_result",
          "data": {
            "text/plain": [
              "<module 'umap' from '/usr/local/lib/python3.9/dist-packages/umap/__init__.py'>"
            ]
          },
          "metadata": {},
          "execution_count": 43
        }
      ]
    },
    {
      "cell_type": "code",
      "source": [
        "embedding_model = SentenceTransformer(\"all-MiniLM-L6-v2\")\n",
        "\n",
        "umap_model = IncrementalPCA(n_components=5)\n",
        "hdbscan = HDBSCAN(min_cluster_size=15, metric='euclidean', cluster_selection_method='eom', prediction_data=True)\n",
        "\n",
        "vectorizer_model = CountVectorizer(stop_words=\"english\")\n",
        "ctfidf = ClassTfidfTransformer()\n",
        "\n",
        "topic_model = BERTopic(embedding_model = embedding_model, umap_model = umap_model, \n",
        "                       hdbscan_model = hdbscan, vectorizer_model = vectorizer_model, \n",
        "                       ctfidf_model = ctfidf, verbose = True)"
      ],
      "metadata": {
        "id": "l1WWd7167nPR"
      },
      "execution_count": 41,
      "outputs": []
    },
    {
      "cell_type": "code",
      "source": [
        "topics, probabilities = topic_model.fit_transform(docs)\n",
        "topic_model.get_topic_info()"
      ],
      "metadata": {
        "colab": {
          "base_uri": "https://localhost:8080/",
          "height": 380,
          "referenced_widgets": [
            "2e93891999af4019a324f2a1096d14e1",
            "1b6c7d2c1c74457aa3fc0434fdccf17f",
            "2104f560d70e4b24a5320a4e8f98a50e",
            "d2eccd68eb9742e8b8c504aa07ac5361",
            "b7407f2ba1ab4de7b71621bef9cb6e83",
            "7b2ad765bccb4873b929fa598f69d6ad",
            "0eb8f57c6d00411f9b6190f3dba409a1",
            "4b9b1167dd0845cd86165b0e36048244",
            "c5734b2801114d31a8e7b7753878aa56",
            "30791a62f4f6413fb483d29c85026165",
            "6c04405e61d64afebf6e3bbf7fbba6b5"
          ]
        },
        "id": "JVg8Nk3r7oi5",
        "outputId": "00cf7657-0bd2-4457-d04c-60fbff43d5b7"
      },
      "execution_count": 42,
      "outputs": [
        {
          "output_type": "display_data",
          "data": {
            "text/plain": [
              "Batches:   0%|          | 0/171 [00:00<?, ?it/s]"
            ],
            "application/vnd.jupyter.widget-view+json": {
              "version_major": 2,
              "version_minor": 0,
              "model_id": "2e93891999af4019a324f2a1096d14e1"
            }
          },
          "metadata": {}
        },
        {
          "output_type": "stream",
          "name": "stderr",
          "text": [
            "2023-03-17 18:24:26,047 - BERTopic - Transformed documents to Embeddings\n",
            "2023-03-17 18:24:26,520 - BERTopic - Reduced dimensionality\n",
            "2023-03-17 18:24:26,936 - BERTopic - Clustered reduced embeddings\n"
          ]
        },
        {
          "output_type": "execute_result",
          "data": {
            "text/plain": [
              "   Topic  Count                                     Name\n",
              "0     -1   3027           -1_enthusiasm_access_free_like\n",
              "1      0   1876                   0_like_free_tweets_pay\n",
              "2      1    358                                    1____\n",
              "3      2    109                   2_fuck_wtf_lmao_stupid\n",
              "4      3     38               3_enthusiasm_sure_yeah_huh\n",
              "5      4     24              4_mebot_remember_tesv_hello\n",
              "6      5     19  5_enthusiasm_immense_upcoming_criticism\n",
              "7      6     19                      6_dick_die_kill_wen"
            ],
            "text/html": [
              "\n",
              "  <div id=\"df-c36765e3-2506-4648-977f-f5292864b864\">\n",
              "    <div class=\"colab-df-container\">\n",
              "      <div>\n",
              "<style scoped>\n",
              "    .dataframe tbody tr th:only-of-type {\n",
              "        vertical-align: middle;\n",
              "    }\n",
              "\n",
              "    .dataframe tbody tr th {\n",
              "        vertical-align: top;\n",
              "    }\n",
              "\n",
              "    .dataframe thead th {\n",
              "        text-align: right;\n",
              "    }\n",
              "</style>\n",
              "<table border=\"1\" class=\"dataframe\">\n",
              "  <thead>\n",
              "    <tr style=\"text-align: right;\">\n",
              "      <th></th>\n",
              "      <th>Topic</th>\n",
              "      <th>Count</th>\n",
              "      <th>Name</th>\n",
              "    </tr>\n",
              "  </thead>\n",
              "  <tbody>\n",
              "    <tr>\n",
              "      <th>0</th>\n",
              "      <td>-1</td>\n",
              "      <td>3027</td>\n",
              "      <td>-1_enthusiasm_access_free_like</td>\n",
              "    </tr>\n",
              "    <tr>\n",
              "      <th>1</th>\n",
              "      <td>0</td>\n",
              "      <td>1876</td>\n",
              "      <td>0_like_free_tweets_pay</td>\n",
              "    </tr>\n",
              "    <tr>\n",
              "      <th>2</th>\n",
              "      <td>1</td>\n",
              "      <td>358</td>\n",
              "      <td>1____</td>\n",
              "    </tr>\n",
              "    <tr>\n",
              "      <th>3</th>\n",
              "      <td>2</td>\n",
              "      <td>109</td>\n",
              "      <td>2_fuck_wtf_lmao_stupid</td>\n",
              "    </tr>\n",
              "    <tr>\n",
              "      <th>4</th>\n",
              "      <td>3</td>\n",
              "      <td>38</td>\n",
              "      <td>3_enthusiasm_sure_yeah_huh</td>\n",
              "    </tr>\n",
              "    <tr>\n",
              "      <th>5</th>\n",
              "      <td>4</td>\n",
              "      <td>24</td>\n",
              "      <td>4_mebot_remember_tesv_hello</td>\n",
              "    </tr>\n",
              "    <tr>\n",
              "      <th>6</th>\n",
              "      <td>5</td>\n",
              "      <td>19</td>\n",
              "      <td>5_enthusiasm_immense_upcoming_criticism</td>\n",
              "    </tr>\n",
              "    <tr>\n",
              "      <th>7</th>\n",
              "      <td>6</td>\n",
              "      <td>19</td>\n",
              "      <td>6_dick_die_kill_wen</td>\n",
              "    </tr>\n",
              "  </tbody>\n",
              "</table>\n",
              "</div>\n",
              "      <button class=\"colab-df-convert\" onclick=\"convertToInteractive('df-c36765e3-2506-4648-977f-f5292864b864')\"\n",
              "              title=\"Convert this dataframe to an interactive table.\"\n",
              "              style=\"display:none;\">\n",
              "        \n",
              "  <svg xmlns=\"http://www.w3.org/2000/svg\" height=\"24px\"viewBox=\"0 0 24 24\"\n",
              "       width=\"24px\">\n",
              "    <path d=\"M0 0h24v24H0V0z\" fill=\"none\"/>\n",
              "    <path d=\"M18.56 5.44l.94 2.06.94-2.06 2.06-.94-2.06-.94-.94-2.06-.94 2.06-2.06.94zm-11 1L8.5 8.5l.94-2.06 2.06-.94-2.06-.94L8.5 2.5l-.94 2.06-2.06.94zm10 10l.94 2.06.94-2.06 2.06-.94-2.06-.94-.94-2.06-.94 2.06-2.06.94z\"/><path d=\"M17.41 7.96l-1.37-1.37c-.4-.4-.92-.59-1.43-.59-.52 0-1.04.2-1.43.59L10.3 9.45l-7.72 7.72c-.78.78-.78 2.05 0 2.83L4 21.41c.39.39.9.59 1.41.59.51 0 1.02-.2 1.41-.59l7.78-7.78 2.81-2.81c.8-.78.8-2.07 0-2.86zM5.41 20L4 18.59l7.72-7.72 1.47 1.35L5.41 20z\"/>\n",
              "  </svg>\n",
              "      </button>\n",
              "      \n",
              "  <style>\n",
              "    .colab-df-container {\n",
              "      display:flex;\n",
              "      flex-wrap:wrap;\n",
              "      gap: 12px;\n",
              "    }\n",
              "\n",
              "    .colab-df-convert {\n",
              "      background-color: #E8F0FE;\n",
              "      border: none;\n",
              "      border-radius: 50%;\n",
              "      cursor: pointer;\n",
              "      display: none;\n",
              "      fill: #1967D2;\n",
              "      height: 32px;\n",
              "      padding: 0 0 0 0;\n",
              "      width: 32px;\n",
              "    }\n",
              "\n",
              "    .colab-df-convert:hover {\n",
              "      background-color: #E2EBFA;\n",
              "      box-shadow: 0px 1px 2px rgba(60, 64, 67, 0.3), 0px 1px 3px 1px rgba(60, 64, 67, 0.15);\n",
              "      fill: #174EA6;\n",
              "    }\n",
              "\n",
              "    [theme=dark] .colab-df-convert {\n",
              "      background-color: #3B4455;\n",
              "      fill: #D2E3FC;\n",
              "    }\n",
              "\n",
              "    [theme=dark] .colab-df-convert:hover {\n",
              "      background-color: #434B5C;\n",
              "      box-shadow: 0px 1px 3px 1px rgba(0, 0, 0, 0.15);\n",
              "      filter: drop-shadow(0px 1px 2px rgba(0, 0, 0, 0.3));\n",
              "      fill: #FFFFFF;\n",
              "    }\n",
              "  </style>\n",
              "\n",
              "      <script>\n",
              "        const buttonEl =\n",
              "          document.querySelector('#df-c36765e3-2506-4648-977f-f5292864b864 button.colab-df-convert');\n",
              "        buttonEl.style.display =\n",
              "          google.colab.kernel.accessAllowed ? 'block' : 'none';\n",
              "\n",
              "        async function convertToInteractive(key) {\n",
              "          const element = document.querySelector('#df-c36765e3-2506-4648-977f-f5292864b864');\n",
              "          const dataTable =\n",
              "            await google.colab.kernel.invokeFunction('convertToInteractive',\n",
              "                                                     [key], {});\n",
              "          if (!dataTable) return;\n",
              "\n",
              "          const docLinkHtml = 'Like what you see? Visit the ' +\n",
              "            '<a target=\"_blank\" href=https://colab.research.google.com/notebooks/data_table.ipynb>data table notebook</a>'\n",
              "            + ' to learn more about interactive tables.';\n",
              "          element.innerHTML = '';\n",
              "          dataTable['output_type'] = 'display_data';\n",
              "          await google.colab.output.renderOutput(dataTable, element);\n",
              "          const docLink = document.createElement('div');\n",
              "          docLink.innerHTML = docLinkHtml;\n",
              "          element.appendChild(docLink);\n",
              "        }\n",
              "      </script>\n",
              "    </div>\n",
              "  </div>\n",
              "  "
            ]
          },
          "metadata": {},
          "execution_count": 42
        }
      ]
    },
    {
      "cell_type": "code",
      "source": [
        "topic_model.visualize_topics(top_n_topics=10)"
      ],
      "metadata": {
        "colab": {
          "base_uri": "https://localhost:8080/",
          "height": 667
        },
        "id": "dbGa1_D57ohA",
        "outputId": "9a7632ff-664a-46e9-8ce5-31d0ca7bfaca"
      },
      "execution_count": 45,
      "outputs": [
        {
          "output_type": "display_data",
          "data": {
            "text/html": [
              "<html>\n",
              "<head><meta charset=\"utf-8\" /></head>\n",
              "<body>\n",
              "    <div>            <script src=\"https://cdnjs.cloudflare.com/ajax/libs/mathjax/2.7.5/MathJax.js?config=TeX-AMS-MML_SVG\"></script><script type=\"text/javascript\">if (window.MathJax) {MathJax.Hub.Config({SVG: {font: \"STIX-Web\"}});}</script>                <script type=\"text/javascript\">window.PlotlyConfig = {MathJaxConfig: 'local'};</script>\n",
              "        <script src=\"https://cdn.plot.ly/plotly-2.8.3.min.js\"></script>                <div id=\"1d8ced85-a0d3-46df-9532-5002b960dea5\" class=\"plotly-graph-div\" style=\"height:650px; width:650px;\"></div>            <script type=\"text/javascript\">                                    window.PLOTLYENV=window.PLOTLYENV || {};                                    if (document.getElementById(\"1d8ced85-a0d3-46df-9532-5002b960dea5\")) {                    Plotly.newPlot(                        \"1d8ced85-a0d3-46df-9532-5002b960dea5\",                        [{\"customdata\":[[0,\"like | free | tweets | pay | dont\",1876],[1,\" |  |  |  | \",358],[2,\"fuck | wtf | lmao | stupid | rip\",109],[3,\"enthusiasm | sure | yeah | huh | try\",38],[4,\"mebot | remember | tesv | hello | remembermebot\",24],[5,\"enthusiasm | immense | upcoming | criticism | changes\",19],[6,\"dick | die | kill | wen | end\",19]],\"hovertemplate\":\"<b>Topic %{customdata[0]}</b><br>%{customdata[1]}<br>Size: %{customdata[2]}\",\"legendgroup\":\"\",\"marker\":{\"color\":\"#B0BEC5\",\"size\":[1876,358,109,38,24,19,19],\"sizemode\":\"area\",\"sizeref\":1.1725,\"symbol\":\"circle\",\"line\":{\"color\":\"DarkSlateGrey\",\"width\":2}},\"mode\":\"markers\",\"name\":\"\",\"orientation\":\"v\",\"showlegend\":false,\"x\":[11.327262878417969,null,10.620201110839844,9.644526481628418,10.880267143249512,10.177549362182617,11.764062881469727],\"xaxis\":\"x\",\"y\":[-12.108841896057129,null,-6.853652477264404,-6.8366827964782715,-11.52318286895752,-6.495461463928223,-11.595596313476562],\"yaxis\":\"y\",\"type\":\"scatter\"}],                        {\"template\":{\"data\":{\"barpolar\":[{\"marker\":{\"line\":{\"color\":\"white\",\"width\":0.5},\"pattern\":{\"fillmode\":\"overlay\",\"size\":10,\"solidity\":0.2}},\"type\":\"barpolar\"}],\"bar\":[{\"error_x\":{\"color\":\"rgb(36,36,36)\"},\"error_y\":{\"color\":\"rgb(36,36,36)\"},\"marker\":{\"line\":{\"color\":\"white\",\"width\":0.5},\"pattern\":{\"fillmode\":\"overlay\",\"size\":10,\"solidity\":0.2}},\"type\":\"bar\"}],\"carpet\":[{\"aaxis\":{\"endlinecolor\":\"rgb(36,36,36)\",\"gridcolor\":\"white\",\"linecolor\":\"white\",\"minorgridcolor\":\"white\",\"startlinecolor\":\"rgb(36,36,36)\"},\"baxis\":{\"endlinecolor\":\"rgb(36,36,36)\",\"gridcolor\":\"white\",\"linecolor\":\"white\",\"minorgridcolor\":\"white\",\"startlinecolor\":\"rgb(36,36,36)\"},\"type\":\"carpet\"}],\"choropleth\":[{\"colorbar\":{\"outlinewidth\":1,\"tickcolor\":\"rgb(36,36,36)\",\"ticks\":\"outside\"},\"type\":\"choropleth\"}],\"contourcarpet\":[{\"colorbar\":{\"outlinewidth\":1,\"tickcolor\":\"rgb(36,36,36)\",\"ticks\":\"outside\"},\"type\":\"contourcarpet\"}],\"contour\":[{\"colorbar\":{\"outlinewidth\":1,\"tickcolor\":\"rgb(36,36,36)\",\"ticks\":\"outside\"},\"colorscale\":[[0.0,\"#440154\"],[0.1111111111111111,\"#482878\"],[0.2222222222222222,\"#3e4989\"],[0.3333333333333333,\"#31688e\"],[0.4444444444444444,\"#26828e\"],[0.5555555555555556,\"#1f9e89\"],[0.6666666666666666,\"#35b779\"],[0.7777777777777778,\"#6ece58\"],[0.8888888888888888,\"#b5de2b\"],[1.0,\"#fde725\"]],\"type\":\"contour\"}],\"heatmapgl\":[{\"colorbar\":{\"outlinewidth\":1,\"tickcolor\":\"rgb(36,36,36)\",\"ticks\":\"outside\"},\"colorscale\":[[0.0,\"#440154\"],[0.1111111111111111,\"#482878\"],[0.2222222222222222,\"#3e4989\"],[0.3333333333333333,\"#31688e\"],[0.4444444444444444,\"#26828e\"],[0.5555555555555556,\"#1f9e89\"],[0.6666666666666666,\"#35b779\"],[0.7777777777777778,\"#6ece58\"],[0.8888888888888888,\"#b5de2b\"],[1.0,\"#fde725\"]],\"type\":\"heatmapgl\"}],\"heatmap\":[{\"colorbar\":{\"outlinewidth\":1,\"tickcolor\":\"rgb(36,36,36)\",\"ticks\":\"outside\"},\"colorscale\":[[0.0,\"#440154\"],[0.1111111111111111,\"#482878\"],[0.2222222222222222,\"#3e4989\"],[0.3333333333333333,\"#31688e\"],[0.4444444444444444,\"#26828e\"],[0.5555555555555556,\"#1f9e89\"],[0.6666666666666666,\"#35b779\"],[0.7777777777777778,\"#6ece58\"],[0.8888888888888888,\"#b5de2b\"],[1.0,\"#fde725\"]],\"type\":\"heatmap\"}],\"histogram2dcontour\":[{\"colorbar\":{\"outlinewidth\":1,\"tickcolor\":\"rgb(36,36,36)\",\"ticks\":\"outside\"},\"colorscale\":[[0.0,\"#440154\"],[0.1111111111111111,\"#482878\"],[0.2222222222222222,\"#3e4989\"],[0.3333333333333333,\"#31688e\"],[0.4444444444444444,\"#26828e\"],[0.5555555555555556,\"#1f9e89\"],[0.6666666666666666,\"#35b779\"],[0.7777777777777778,\"#6ece58\"],[0.8888888888888888,\"#b5de2b\"],[1.0,\"#fde725\"]],\"type\":\"histogram2dcontour\"}],\"histogram2d\":[{\"colorbar\":{\"outlinewidth\":1,\"tickcolor\":\"rgb(36,36,36)\",\"ticks\":\"outside\"},\"colorscale\":[[0.0,\"#440154\"],[0.1111111111111111,\"#482878\"],[0.2222222222222222,\"#3e4989\"],[0.3333333333333333,\"#31688e\"],[0.4444444444444444,\"#26828e\"],[0.5555555555555556,\"#1f9e89\"],[0.6666666666666666,\"#35b779\"],[0.7777777777777778,\"#6ece58\"],[0.8888888888888888,\"#b5de2b\"],[1.0,\"#fde725\"]],\"type\":\"histogram2d\"}],\"histogram\":[{\"marker\":{\"line\":{\"color\":\"white\",\"width\":0.6}},\"type\":\"histogram\"}],\"mesh3d\":[{\"colorbar\":{\"outlinewidth\":1,\"tickcolor\":\"rgb(36,36,36)\",\"ticks\":\"outside\"},\"type\":\"mesh3d\"}],\"parcoords\":[{\"line\":{\"colorbar\":{\"outlinewidth\":1,\"tickcolor\":\"rgb(36,36,36)\",\"ticks\":\"outside\"}},\"type\":\"parcoords\"}],\"pie\":[{\"automargin\":true,\"type\":\"pie\"}],\"scatter3d\":[{\"line\":{\"colorbar\":{\"outlinewidth\":1,\"tickcolor\":\"rgb(36,36,36)\",\"ticks\":\"outside\"}},\"marker\":{\"colorbar\":{\"outlinewidth\":1,\"tickcolor\":\"rgb(36,36,36)\",\"ticks\":\"outside\"}},\"type\":\"scatter3d\"}],\"scattercarpet\":[{\"marker\":{\"colorbar\":{\"outlinewidth\":1,\"tickcolor\":\"rgb(36,36,36)\",\"ticks\":\"outside\"}},\"type\":\"scattercarpet\"}],\"scattergeo\":[{\"marker\":{\"colorbar\":{\"outlinewidth\":1,\"tickcolor\":\"rgb(36,36,36)\",\"ticks\":\"outside\"}},\"type\":\"scattergeo\"}],\"scattergl\":[{\"marker\":{\"colorbar\":{\"outlinewidth\":1,\"tickcolor\":\"rgb(36,36,36)\",\"ticks\":\"outside\"}},\"type\":\"scattergl\"}],\"scattermapbox\":[{\"marker\":{\"colorbar\":{\"outlinewidth\":1,\"tickcolor\":\"rgb(36,36,36)\",\"ticks\":\"outside\"}},\"type\":\"scattermapbox\"}],\"scatterpolargl\":[{\"marker\":{\"colorbar\":{\"outlinewidth\":1,\"tickcolor\":\"rgb(36,36,36)\",\"ticks\":\"outside\"}},\"type\":\"scatterpolargl\"}],\"scatterpolar\":[{\"marker\":{\"colorbar\":{\"outlinewidth\":1,\"tickcolor\":\"rgb(36,36,36)\",\"ticks\":\"outside\"}},\"type\":\"scatterpolar\"}],\"scatter\":[{\"marker\":{\"colorbar\":{\"outlinewidth\":1,\"tickcolor\":\"rgb(36,36,36)\",\"ticks\":\"outside\"}},\"type\":\"scatter\"}],\"scatterternary\":[{\"marker\":{\"colorbar\":{\"outlinewidth\":1,\"tickcolor\":\"rgb(36,36,36)\",\"ticks\":\"outside\"}},\"type\":\"scatterternary\"}],\"surface\":[{\"colorbar\":{\"outlinewidth\":1,\"tickcolor\":\"rgb(36,36,36)\",\"ticks\":\"outside\"},\"colorscale\":[[0.0,\"#440154\"],[0.1111111111111111,\"#482878\"],[0.2222222222222222,\"#3e4989\"],[0.3333333333333333,\"#31688e\"],[0.4444444444444444,\"#26828e\"],[0.5555555555555556,\"#1f9e89\"],[0.6666666666666666,\"#35b779\"],[0.7777777777777778,\"#6ece58\"],[0.8888888888888888,\"#b5de2b\"],[1.0,\"#fde725\"]],\"type\":\"surface\"}],\"table\":[{\"cells\":{\"fill\":{\"color\":\"rgb(237,237,237)\"},\"line\":{\"color\":\"white\"}},\"header\":{\"fill\":{\"color\":\"rgb(217,217,217)\"},\"line\":{\"color\":\"white\"}},\"type\":\"table\"}]},\"layout\":{\"annotationdefaults\":{\"arrowhead\":0,\"arrowwidth\":1},\"autotypenumbers\":\"strict\",\"coloraxis\":{\"colorbar\":{\"outlinewidth\":1,\"tickcolor\":\"rgb(36,36,36)\",\"ticks\":\"outside\"}},\"colorscale\":{\"diverging\":[[0.0,\"rgb(103,0,31)\"],[0.1,\"rgb(178,24,43)\"],[0.2,\"rgb(214,96,77)\"],[0.3,\"rgb(244,165,130)\"],[0.4,\"rgb(253,219,199)\"],[0.5,\"rgb(247,247,247)\"],[0.6,\"rgb(209,229,240)\"],[0.7,\"rgb(146,197,222)\"],[0.8,\"rgb(67,147,195)\"],[0.9,\"rgb(33,102,172)\"],[1.0,\"rgb(5,48,97)\"]],\"sequential\":[[0.0,\"#440154\"],[0.1111111111111111,\"#482878\"],[0.2222222222222222,\"#3e4989\"],[0.3333333333333333,\"#31688e\"],[0.4444444444444444,\"#26828e\"],[0.5555555555555556,\"#1f9e89\"],[0.6666666666666666,\"#35b779\"],[0.7777777777777778,\"#6ece58\"],[0.8888888888888888,\"#b5de2b\"],[1.0,\"#fde725\"]],\"sequentialminus\":[[0.0,\"#440154\"],[0.1111111111111111,\"#482878\"],[0.2222222222222222,\"#3e4989\"],[0.3333333333333333,\"#31688e\"],[0.4444444444444444,\"#26828e\"],[0.5555555555555556,\"#1f9e89\"],[0.6666666666666666,\"#35b779\"],[0.7777777777777778,\"#6ece58\"],[0.8888888888888888,\"#b5de2b\"],[1.0,\"#fde725\"]]},\"colorway\":[\"#1F77B4\",\"#FF7F0E\",\"#2CA02C\",\"#D62728\",\"#9467BD\",\"#8C564B\",\"#E377C2\",\"#7F7F7F\",\"#BCBD22\",\"#17BECF\"],\"font\":{\"color\":\"rgb(36,36,36)\"},\"geo\":{\"bgcolor\":\"white\",\"lakecolor\":\"white\",\"landcolor\":\"white\",\"showlakes\":true,\"showland\":true,\"subunitcolor\":\"white\"},\"hoverlabel\":{\"align\":\"left\"},\"hovermode\":\"closest\",\"mapbox\":{\"style\":\"light\"},\"paper_bgcolor\":\"white\",\"plot_bgcolor\":\"white\",\"polar\":{\"angularaxis\":{\"gridcolor\":\"rgb(232,232,232)\",\"linecolor\":\"rgb(36,36,36)\",\"showgrid\":false,\"showline\":true,\"ticks\":\"outside\"},\"bgcolor\":\"white\",\"radialaxis\":{\"gridcolor\":\"rgb(232,232,232)\",\"linecolor\":\"rgb(36,36,36)\",\"showgrid\":false,\"showline\":true,\"ticks\":\"outside\"}},\"scene\":{\"xaxis\":{\"backgroundcolor\":\"white\",\"gridcolor\":\"rgb(232,232,232)\",\"gridwidth\":2,\"linecolor\":\"rgb(36,36,36)\",\"showbackground\":true,\"showgrid\":false,\"showline\":true,\"ticks\":\"outside\",\"zeroline\":false,\"zerolinecolor\":\"rgb(36,36,36)\"},\"yaxis\":{\"backgroundcolor\":\"white\",\"gridcolor\":\"rgb(232,232,232)\",\"gridwidth\":2,\"linecolor\":\"rgb(36,36,36)\",\"showbackground\":true,\"showgrid\":false,\"showline\":true,\"ticks\":\"outside\",\"zeroline\":false,\"zerolinecolor\":\"rgb(36,36,36)\"},\"zaxis\":{\"backgroundcolor\":\"white\",\"gridcolor\":\"rgb(232,232,232)\",\"gridwidth\":2,\"linecolor\":\"rgb(36,36,36)\",\"showbackground\":true,\"showgrid\":false,\"showline\":true,\"ticks\":\"outside\",\"zeroline\":false,\"zerolinecolor\":\"rgb(36,36,36)\"}},\"shapedefaults\":{\"fillcolor\":\"black\",\"line\":{\"width\":0},\"opacity\":0.3},\"ternary\":{\"aaxis\":{\"gridcolor\":\"rgb(232,232,232)\",\"linecolor\":\"rgb(36,36,36)\",\"showgrid\":false,\"showline\":true,\"ticks\":\"outside\"},\"baxis\":{\"gridcolor\":\"rgb(232,232,232)\",\"linecolor\":\"rgb(36,36,36)\",\"showgrid\":false,\"showline\":true,\"ticks\":\"outside\"},\"bgcolor\":\"white\",\"caxis\":{\"gridcolor\":\"rgb(232,232,232)\",\"linecolor\":\"rgb(36,36,36)\",\"showgrid\":false,\"showline\":true,\"ticks\":\"outside\"}},\"title\":{\"x\":0.05},\"xaxis\":{\"automargin\":true,\"gridcolor\":\"rgb(232,232,232)\",\"linecolor\":\"rgb(36,36,36)\",\"showgrid\":false,\"showline\":true,\"ticks\":\"outside\",\"title\":{\"standoff\":15},\"zeroline\":false,\"zerolinecolor\":\"rgb(36,36,36)\"},\"yaxis\":{\"automargin\":true,\"gridcolor\":\"rgb(232,232,232)\",\"linecolor\":\"rgb(36,36,36)\",\"showgrid\":false,\"showline\":true,\"ticks\":\"outside\",\"title\":{\"standoff\":15},\"zeroline\":false,\"zerolinecolor\":\"rgb(36,36,36)\"}}},\"xaxis\":{\"anchor\":\"y\",\"domain\":[0.0,1.0],\"title\":{\"text\":\"\"},\"visible\":false,\"range\":[8.197847509384156,13.528672313690185]},\"yaxis\":{\"anchor\":\"x\",\"domain\":[0.0,1.0],\"title\":{\"text\":\"\"},\"visible\":false,\"range\":[-13.925168180465699,-5.521142244338989]},\"legend\":{\"tracegroupgap\":0,\"itemsizing\":\"constant\"},\"margin\":{\"t\":60},\"title\":{\"font\":{\"size\":22,\"color\":\"Black\"},\"text\":\"<b>Intertopic Distance Map</b>\",\"y\":0.95,\"x\":0.5,\"xanchor\":\"center\",\"yanchor\":\"top\"},\"hoverlabel\":{\"font\":{\"size\":16,\"family\":\"Rockwell\"},\"bgcolor\":\"white\"},\"width\":650,\"height\":650,\"sliders\":[{\"active\":0,\"pad\":{\"t\":50},\"steps\":[{\"args\":[{\"marker.color\":[[\"red\",\"#B0BEC5\",\"#B0BEC5\",\"#B0BEC5\",\"#B0BEC5\",\"#B0BEC5\",\"#B0BEC5\"]]}],\"label\":\"Topic 0\",\"method\":\"update\"},{\"args\":[{\"marker.color\":[[\"#B0BEC5\",\"red\",\"#B0BEC5\",\"#B0BEC5\",\"#B0BEC5\",\"#B0BEC5\",\"#B0BEC5\"]]}],\"label\":\"Topic 1\",\"method\":\"update\"},{\"args\":[{\"marker.color\":[[\"#B0BEC5\",\"#B0BEC5\",\"red\",\"#B0BEC5\",\"#B0BEC5\",\"#B0BEC5\",\"#B0BEC5\"]]}],\"label\":\"Topic 2\",\"method\":\"update\"},{\"args\":[{\"marker.color\":[[\"#B0BEC5\",\"#B0BEC5\",\"#B0BEC5\",\"red\",\"#B0BEC5\",\"#B0BEC5\",\"#B0BEC5\"]]}],\"label\":\"Topic 3\",\"method\":\"update\"},{\"args\":[{\"marker.color\":[[\"#B0BEC5\",\"#B0BEC5\",\"#B0BEC5\",\"#B0BEC5\",\"red\",\"#B0BEC5\",\"#B0BEC5\"]]}],\"label\":\"Topic 4\",\"method\":\"update\"},{\"args\":[{\"marker.color\":[[\"#B0BEC5\",\"#B0BEC5\",\"#B0BEC5\",\"#B0BEC5\",\"#B0BEC5\",\"red\",\"#B0BEC5\"]]}],\"label\":\"Topic 5\",\"method\":\"update\"},{\"args\":[{\"marker.color\":[[\"#B0BEC5\",\"#B0BEC5\",\"#B0BEC5\",\"#B0BEC5\",\"#B0BEC5\",\"#B0BEC5\",\"red\"]]}],\"label\":\"Topic 6\",\"method\":\"update\"}]}],\"shapes\":[{\"line\":{\"color\":\"#CFD8DC\",\"width\":2},\"type\":\"line\",\"x0\":10.86325991153717,\"x1\":10.86325991153717,\"y0\":-13.925168180465699,\"y1\":-5.521142244338989},{\"line\":{\"color\":\"#9E9E9E\",\"width\":2},\"type\":\"line\",\"x0\":8.197847509384156,\"x1\":13.528672313690185,\"y0\":-9.723155212402343,\"y1\":-9.723155212402343}],\"annotations\":[{\"showarrow\":false,\"text\":\"D1\",\"x\":8.197847509384156,\"y\":-9.723155212402343,\"yshift\":10},{\"showarrow\":false,\"text\":\"D2\",\"x\":10.86325991153717,\"xshift\":10,\"y\":-5.521142244338989}]},                        {\"responsive\": true}                    ).then(function(){\n",
              "                            \n",
              "var gd = document.getElementById('1d8ced85-a0d3-46df-9532-5002b960dea5');\n",
              "var x = new MutationObserver(function (mutations, observer) {{\n",
              "        var display = window.getComputedStyle(gd).display;\n",
              "        if (!display || display === 'none') {{\n",
              "            console.log([gd, 'removed!']);\n",
              "            Plotly.purge(gd);\n",
              "            observer.disconnect();\n",
              "        }}\n",
              "}});\n",
              "\n",
              "// Listen for the removal of the full notebook cells\n",
              "var notebookContainer = gd.closest('#notebook-container');\n",
              "if (notebookContainer) {{\n",
              "    x.observe(notebookContainer, {childList: true});\n",
              "}}\n",
              "\n",
              "// Listen for the clearing of the current output cell\n",
              "var outputEl = gd.closest('.output');\n",
              "if (outputEl) {{\n",
              "    x.observe(outputEl, {childList: true});\n",
              "}}\n",
              "\n",
              "                        })                };                            </script>        </div>\n",
              "</body>\n",
              "</html>"
            ]
          },
          "metadata": {}
        }
      ]
    },
    {
      "cell_type": "code",
      "source": [
        "topic_model.visualize_barchart(top_n_topics=10)"
      ],
      "metadata": {
        "colab": {
          "base_uri": "https://localhost:8080/",
          "height": 517
        },
        "id": "te62nVvT7ofP",
        "outputId": "08d8fcb2-eb9a-4eac-ba5a-93b13cd0609a"
      },
      "execution_count": 46,
      "outputs": [
        {
          "output_type": "display_data",
          "data": {
            "text/html": [
              "<html>\n",
              "<head><meta charset=\"utf-8\" /></head>\n",
              "<body>\n",
              "    <div>            <script src=\"https://cdnjs.cloudflare.com/ajax/libs/mathjax/2.7.5/MathJax.js?config=TeX-AMS-MML_SVG\"></script><script type=\"text/javascript\">if (window.MathJax) {MathJax.Hub.Config({SVG: {font: \"STIX-Web\"}});}</script>                <script type=\"text/javascript\">window.PlotlyConfig = {MathJaxConfig: 'local'};</script>\n",
              "        <script src=\"https://cdn.plot.ly/plotly-2.8.3.min.js\"></script>                <div id=\"6ad91755-39e2-4854-b9a5-03339ab41b7d\" class=\"plotly-graph-div\" style=\"height:500px; width:1000px;\"></div>            <script type=\"text/javascript\">                                    window.PLOTLYENV=window.PLOTLYENV || {};                                    if (document.getElementById(\"6ad91755-39e2-4854-b9a5-03339ab41b7d\")) {                    Plotly.newPlot(                        \"6ad91755-39e2-4854-b9a5-03339ab41b7d\",                        [{\"marker\":{\"color\":\"#D55E00\"},\"orientation\":\"h\",\"x\":[0.017863048893089394,0.01864878778545547,0.021054004511291153,0.023990121608058197,0.02461795513848125],\"y\":[\"dont  \",\"pay  \",\"tweets  \",\"free  \",\"like  \"],\"type\":\"bar\",\"xaxis\":\"x\",\"yaxis\":\"y\"},{\"marker\":{\"color\":\"#0072B2\"},\"orientation\":\"h\",\"x\":[1e-05,1e-05,1e-05,1e-05,1e-05],\"y\":[\"  \",\"  \",\"  \",\"  \",\"  \"],\"type\":\"bar\",\"xaxis\":\"x2\",\"yaxis\":\"y2\"},{\"marker\":{\"color\":\"#CC79A7\"},\"orientation\":\"h\",\"x\":[0.21117839910148556,0.22441476189907225,0.24195802897880583,0.36668517527203853,1.2848226777384877],\"y\":[\"rip  \",\"stupid  \",\"lmao  \",\"wtf  \",\"fuck  \"],\"type\":\"bar\",\"xaxis\":\"x3\",\"yaxis\":\"y3\"},{\"marker\":{\"color\":\"#E69F00\"},\"orientation\":\"h\",\"x\":[0.11531380389943098,0.12220722764318394,0.182013343402467,0.1826477563236508,2.4809970092373232],\"y\":[\"try  \",\"huh  \",\"yeah  \",\"sure  \",\"enthusiasm  \"],\"type\":\"bar\",\"xaxis\":\"x4\",\"yaxis\":\"y4\"},{\"marker\":{\"color\":\"#56B4E9\"},\"orientation\":\"h\",\"x\":[0.29333765470563933,0.7636750860150842,0.8644264410831419,1.25827321227812,1.3402737766071249],\"y\":[\"remembermebot  \",\"hello  \",\"tesv  \",\"remember  \",\"mebot  \"],\"type\":\"bar\",\"xaxis\":\"x5\",\"yaxis\":\"y5\"},{\"marker\":{\"color\":\"#009E73\"},\"orientation\":\"h\",\"x\":[0.1308261151010214,0.1541407285456089,0.18764324045359643,0.5057940289051281,0.6484424001415732],\"y\":[\"changes  \",\"criticism  \",\"upcoming  \",\"immense  \",\"enthusiasm  \"],\"type\":\"bar\",\"xaxis\":\"x6\",\"yaxis\":\"y6\"},{\"marker\":{\"color\":\"#F0E442\"},\"orientation\":\"h\",\"x\":[0.4686188027819834,0.839072252736229,0.999217102616305,1.7263834126546445,1.7724928085425578],\"y\":[\"end  \",\"wen  \",\"kill  \",\"die  \",\"dick  \"],\"type\":\"bar\",\"xaxis\":\"x7\",\"yaxis\":\"y7\"}],                        {\"template\":{\"data\":{\"barpolar\":[{\"marker\":{\"line\":{\"color\":\"white\",\"width\":0.5},\"pattern\":{\"fillmode\":\"overlay\",\"size\":10,\"solidity\":0.2}},\"type\":\"barpolar\"}],\"bar\":[{\"error_x\":{\"color\":\"#2a3f5f\"},\"error_y\":{\"color\":\"#2a3f5f\"},\"marker\":{\"line\":{\"color\":\"white\",\"width\":0.5},\"pattern\":{\"fillmode\":\"overlay\",\"size\":10,\"solidity\":0.2}},\"type\":\"bar\"}],\"carpet\":[{\"aaxis\":{\"endlinecolor\":\"#2a3f5f\",\"gridcolor\":\"#C8D4E3\",\"linecolor\":\"#C8D4E3\",\"minorgridcolor\":\"#C8D4E3\",\"startlinecolor\":\"#2a3f5f\"},\"baxis\":{\"endlinecolor\":\"#2a3f5f\",\"gridcolor\":\"#C8D4E3\",\"linecolor\":\"#C8D4E3\",\"minorgridcolor\":\"#C8D4E3\",\"startlinecolor\":\"#2a3f5f\"},\"type\":\"carpet\"}],\"choropleth\":[{\"colorbar\":{\"outlinewidth\":0,\"ticks\":\"\"},\"type\":\"choropleth\"}],\"contourcarpet\":[{\"colorbar\":{\"outlinewidth\":0,\"ticks\":\"\"},\"type\":\"contourcarpet\"}],\"contour\":[{\"colorbar\":{\"outlinewidth\":0,\"ticks\":\"\"},\"colorscale\":[[0.0,\"#0d0887\"],[0.1111111111111111,\"#46039f\"],[0.2222222222222222,\"#7201a8\"],[0.3333333333333333,\"#9c179e\"],[0.4444444444444444,\"#bd3786\"],[0.5555555555555556,\"#d8576b\"],[0.6666666666666666,\"#ed7953\"],[0.7777777777777778,\"#fb9f3a\"],[0.8888888888888888,\"#fdca26\"],[1.0,\"#f0f921\"]],\"type\":\"contour\"}],\"heatmapgl\":[{\"colorbar\":{\"outlinewidth\":0,\"ticks\":\"\"},\"colorscale\":[[0.0,\"#0d0887\"],[0.1111111111111111,\"#46039f\"],[0.2222222222222222,\"#7201a8\"],[0.3333333333333333,\"#9c179e\"],[0.4444444444444444,\"#bd3786\"],[0.5555555555555556,\"#d8576b\"],[0.6666666666666666,\"#ed7953\"],[0.7777777777777778,\"#fb9f3a\"],[0.8888888888888888,\"#fdca26\"],[1.0,\"#f0f921\"]],\"type\":\"heatmapgl\"}],\"heatmap\":[{\"colorbar\":{\"outlinewidth\":0,\"ticks\":\"\"},\"colorscale\":[[0.0,\"#0d0887\"],[0.1111111111111111,\"#46039f\"],[0.2222222222222222,\"#7201a8\"],[0.3333333333333333,\"#9c179e\"],[0.4444444444444444,\"#bd3786\"],[0.5555555555555556,\"#d8576b\"],[0.6666666666666666,\"#ed7953\"],[0.7777777777777778,\"#fb9f3a\"],[0.8888888888888888,\"#fdca26\"],[1.0,\"#f0f921\"]],\"type\":\"heatmap\"}],\"histogram2dcontour\":[{\"colorbar\":{\"outlinewidth\":0,\"ticks\":\"\"},\"colorscale\":[[0.0,\"#0d0887\"],[0.1111111111111111,\"#46039f\"],[0.2222222222222222,\"#7201a8\"],[0.3333333333333333,\"#9c179e\"],[0.4444444444444444,\"#bd3786\"],[0.5555555555555556,\"#d8576b\"],[0.6666666666666666,\"#ed7953\"],[0.7777777777777778,\"#fb9f3a\"],[0.8888888888888888,\"#fdca26\"],[1.0,\"#f0f921\"]],\"type\":\"histogram2dcontour\"}],\"histogram2d\":[{\"colorbar\":{\"outlinewidth\":0,\"ticks\":\"\"},\"colorscale\":[[0.0,\"#0d0887\"],[0.1111111111111111,\"#46039f\"],[0.2222222222222222,\"#7201a8\"],[0.3333333333333333,\"#9c179e\"],[0.4444444444444444,\"#bd3786\"],[0.5555555555555556,\"#d8576b\"],[0.6666666666666666,\"#ed7953\"],[0.7777777777777778,\"#fb9f3a\"],[0.8888888888888888,\"#fdca26\"],[1.0,\"#f0f921\"]],\"type\":\"histogram2d\"}],\"histogram\":[{\"marker\":{\"pattern\":{\"fillmode\":\"overlay\",\"size\":10,\"solidity\":0.2}},\"type\":\"histogram\"}],\"mesh3d\":[{\"colorbar\":{\"outlinewidth\":0,\"ticks\":\"\"},\"type\":\"mesh3d\"}],\"parcoords\":[{\"line\":{\"colorbar\":{\"outlinewidth\":0,\"ticks\":\"\"}},\"type\":\"parcoords\"}],\"pie\":[{\"automargin\":true,\"type\":\"pie\"}],\"scatter3d\":[{\"line\":{\"colorbar\":{\"outlinewidth\":0,\"ticks\":\"\"}},\"marker\":{\"colorbar\":{\"outlinewidth\":0,\"ticks\":\"\"}},\"type\":\"scatter3d\"}],\"scattercarpet\":[{\"marker\":{\"colorbar\":{\"outlinewidth\":0,\"ticks\":\"\"}},\"type\":\"scattercarpet\"}],\"scattergeo\":[{\"marker\":{\"colorbar\":{\"outlinewidth\":0,\"ticks\":\"\"}},\"type\":\"scattergeo\"}],\"scattergl\":[{\"marker\":{\"colorbar\":{\"outlinewidth\":0,\"ticks\":\"\"}},\"type\":\"scattergl\"}],\"scattermapbox\":[{\"marker\":{\"colorbar\":{\"outlinewidth\":0,\"ticks\":\"\"}},\"type\":\"scattermapbox\"}],\"scatterpolargl\":[{\"marker\":{\"colorbar\":{\"outlinewidth\":0,\"ticks\":\"\"}},\"type\":\"scatterpolargl\"}],\"scatterpolar\":[{\"marker\":{\"colorbar\":{\"outlinewidth\":0,\"ticks\":\"\"}},\"type\":\"scatterpolar\"}],\"scatter\":[{\"marker\":{\"colorbar\":{\"outlinewidth\":0,\"ticks\":\"\"}},\"type\":\"scatter\"}],\"scatterternary\":[{\"marker\":{\"colorbar\":{\"outlinewidth\":0,\"ticks\":\"\"}},\"type\":\"scatterternary\"}],\"surface\":[{\"colorbar\":{\"outlinewidth\":0,\"ticks\":\"\"},\"colorscale\":[[0.0,\"#0d0887\"],[0.1111111111111111,\"#46039f\"],[0.2222222222222222,\"#7201a8\"],[0.3333333333333333,\"#9c179e\"],[0.4444444444444444,\"#bd3786\"],[0.5555555555555556,\"#d8576b\"],[0.6666666666666666,\"#ed7953\"],[0.7777777777777778,\"#fb9f3a\"],[0.8888888888888888,\"#fdca26\"],[1.0,\"#f0f921\"]],\"type\":\"surface\"}],\"table\":[{\"cells\":{\"fill\":{\"color\":\"#EBF0F8\"},\"line\":{\"color\":\"white\"}},\"header\":{\"fill\":{\"color\":\"#C8D4E3\"},\"line\":{\"color\":\"white\"}},\"type\":\"table\"}]},\"layout\":{\"annotationdefaults\":{\"arrowcolor\":\"#2a3f5f\",\"arrowhead\":0,\"arrowwidth\":1},\"autotypenumbers\":\"strict\",\"coloraxis\":{\"colorbar\":{\"outlinewidth\":0,\"ticks\":\"\"}},\"colorscale\":{\"diverging\":[[0,\"#8e0152\"],[0.1,\"#c51b7d\"],[0.2,\"#de77ae\"],[0.3,\"#f1b6da\"],[0.4,\"#fde0ef\"],[0.5,\"#f7f7f7\"],[0.6,\"#e6f5d0\"],[0.7,\"#b8e186\"],[0.8,\"#7fbc41\"],[0.9,\"#4d9221\"],[1,\"#276419\"]],\"sequential\":[[0.0,\"#0d0887\"],[0.1111111111111111,\"#46039f\"],[0.2222222222222222,\"#7201a8\"],[0.3333333333333333,\"#9c179e\"],[0.4444444444444444,\"#bd3786\"],[0.5555555555555556,\"#d8576b\"],[0.6666666666666666,\"#ed7953\"],[0.7777777777777778,\"#fb9f3a\"],[0.8888888888888888,\"#fdca26\"],[1.0,\"#f0f921\"]],\"sequentialminus\":[[0.0,\"#0d0887\"],[0.1111111111111111,\"#46039f\"],[0.2222222222222222,\"#7201a8\"],[0.3333333333333333,\"#9c179e\"],[0.4444444444444444,\"#bd3786\"],[0.5555555555555556,\"#d8576b\"],[0.6666666666666666,\"#ed7953\"],[0.7777777777777778,\"#fb9f3a\"],[0.8888888888888888,\"#fdca26\"],[1.0,\"#f0f921\"]]},\"colorway\":[\"#636efa\",\"#EF553B\",\"#00cc96\",\"#ab63fa\",\"#FFA15A\",\"#19d3f3\",\"#FF6692\",\"#B6E880\",\"#FF97FF\",\"#FECB52\"],\"font\":{\"color\":\"#2a3f5f\"},\"geo\":{\"bgcolor\":\"white\",\"lakecolor\":\"white\",\"landcolor\":\"white\",\"showlakes\":true,\"showland\":true,\"subunitcolor\":\"#C8D4E3\"},\"hoverlabel\":{\"align\":\"left\"},\"hovermode\":\"closest\",\"mapbox\":{\"style\":\"light\"},\"paper_bgcolor\":\"white\",\"plot_bgcolor\":\"white\",\"polar\":{\"angularaxis\":{\"gridcolor\":\"#EBF0F8\",\"linecolor\":\"#EBF0F8\",\"ticks\":\"\"},\"bgcolor\":\"white\",\"radialaxis\":{\"gridcolor\":\"#EBF0F8\",\"linecolor\":\"#EBF0F8\",\"ticks\":\"\"}},\"scene\":{\"xaxis\":{\"backgroundcolor\":\"white\",\"gridcolor\":\"#DFE8F3\",\"gridwidth\":2,\"linecolor\":\"#EBF0F8\",\"showbackground\":true,\"ticks\":\"\",\"zerolinecolor\":\"#EBF0F8\"},\"yaxis\":{\"backgroundcolor\":\"white\",\"gridcolor\":\"#DFE8F3\",\"gridwidth\":2,\"linecolor\":\"#EBF0F8\",\"showbackground\":true,\"ticks\":\"\",\"zerolinecolor\":\"#EBF0F8\"},\"zaxis\":{\"backgroundcolor\":\"white\",\"gridcolor\":\"#DFE8F3\",\"gridwidth\":2,\"linecolor\":\"#EBF0F8\",\"showbackground\":true,\"ticks\":\"\",\"zerolinecolor\":\"#EBF0F8\"}},\"shapedefaults\":{\"line\":{\"color\":\"#2a3f5f\"}},\"ternary\":{\"aaxis\":{\"gridcolor\":\"#DFE8F3\",\"linecolor\":\"#A2B1C6\",\"ticks\":\"\"},\"baxis\":{\"gridcolor\":\"#DFE8F3\",\"linecolor\":\"#A2B1C6\",\"ticks\":\"\"},\"bgcolor\":\"white\",\"caxis\":{\"gridcolor\":\"#DFE8F3\",\"linecolor\":\"#A2B1C6\",\"ticks\":\"\"}},\"title\":{\"x\":0.05},\"xaxis\":{\"automargin\":true,\"gridcolor\":\"#EBF0F8\",\"linecolor\":\"#EBF0F8\",\"ticks\":\"\",\"title\":{\"standoff\":15},\"zerolinecolor\":\"#EBF0F8\",\"zerolinewidth\":2},\"yaxis\":{\"automargin\":true,\"gridcolor\":\"#EBF0F8\",\"linecolor\":\"#EBF0F8\",\"ticks\":\"\",\"title\":{\"standoff\":15},\"zerolinecolor\":\"#EBF0F8\",\"zerolinewidth\":2}}},\"xaxis\":{\"anchor\":\"y\",\"domain\":[0.0,0.175],\"showgrid\":true},\"yaxis\":{\"anchor\":\"x\",\"domain\":[0.6000000000000001,1.0],\"showgrid\":true},\"xaxis2\":{\"anchor\":\"y2\",\"domain\":[0.275,0.45],\"showgrid\":true},\"yaxis2\":{\"anchor\":\"x2\",\"domain\":[0.6000000000000001,1.0],\"showgrid\":true},\"xaxis3\":{\"anchor\":\"y3\",\"domain\":[0.55,0.7250000000000001],\"showgrid\":true},\"yaxis3\":{\"anchor\":\"x3\",\"domain\":[0.6000000000000001,1.0],\"showgrid\":true},\"xaxis4\":{\"anchor\":\"y4\",\"domain\":[0.825,1.0],\"showgrid\":true},\"yaxis4\":{\"anchor\":\"x4\",\"domain\":[0.6000000000000001,1.0],\"showgrid\":true},\"xaxis5\":{\"anchor\":\"y5\",\"domain\":[0.0,0.175],\"showgrid\":true},\"yaxis5\":{\"anchor\":\"x5\",\"domain\":[0.0,0.4],\"showgrid\":true},\"xaxis6\":{\"anchor\":\"y6\",\"domain\":[0.275,0.45],\"showgrid\":true},\"yaxis6\":{\"anchor\":\"x6\",\"domain\":[0.0,0.4],\"showgrid\":true},\"xaxis7\":{\"anchor\":\"y7\",\"domain\":[0.55,0.7250000000000001],\"showgrid\":true},\"yaxis7\":{\"anchor\":\"x7\",\"domain\":[0.0,0.4],\"showgrid\":true},\"xaxis8\":{\"anchor\":\"y8\",\"domain\":[0.825,1.0],\"showgrid\":true},\"yaxis8\":{\"anchor\":\"x8\",\"domain\":[0.0,0.4],\"showgrid\":true},\"annotations\":[{\"font\":{\"size\":16},\"showarrow\":false,\"text\":\"Topic 0\",\"x\":0.0875,\"xanchor\":\"center\",\"xref\":\"paper\",\"y\":1.0,\"yanchor\":\"bottom\",\"yref\":\"paper\"},{\"font\":{\"size\":16},\"showarrow\":false,\"text\":\"Topic 1\",\"x\":0.36250000000000004,\"xanchor\":\"center\",\"xref\":\"paper\",\"y\":1.0,\"yanchor\":\"bottom\",\"yref\":\"paper\"},{\"font\":{\"size\":16},\"showarrow\":false,\"text\":\"Topic 2\",\"x\":0.6375000000000001,\"xanchor\":\"center\",\"xref\":\"paper\",\"y\":1.0,\"yanchor\":\"bottom\",\"yref\":\"paper\"},{\"font\":{\"size\":16},\"showarrow\":false,\"text\":\"Topic 3\",\"x\":0.9125,\"xanchor\":\"center\",\"xref\":\"paper\",\"y\":1.0,\"yanchor\":\"bottom\",\"yref\":\"paper\"},{\"font\":{\"size\":16},\"showarrow\":false,\"text\":\"Topic 4\",\"x\":0.0875,\"xanchor\":\"center\",\"xref\":\"paper\",\"y\":0.4,\"yanchor\":\"bottom\",\"yref\":\"paper\"},{\"font\":{\"size\":16},\"showarrow\":false,\"text\":\"Topic 5\",\"x\":0.36250000000000004,\"xanchor\":\"center\",\"xref\":\"paper\",\"y\":0.4,\"yanchor\":\"bottom\",\"yref\":\"paper\"},{\"font\":{\"size\":16},\"showarrow\":false,\"text\":\"Topic 6\",\"x\":0.6375000000000001,\"xanchor\":\"center\",\"xref\":\"paper\",\"y\":0.4,\"yanchor\":\"bottom\",\"yref\":\"paper\"}],\"title\":{\"font\":{\"size\":22,\"color\":\"Black\"},\"text\":\"Topic Word Scores\",\"x\":0.5,\"xanchor\":\"center\",\"yanchor\":\"top\"},\"hoverlabel\":{\"font\":{\"size\":16,\"family\":\"Rockwell\"},\"bgcolor\":\"white\"},\"showlegend\":false,\"width\":1000,\"height\":500},                        {\"responsive\": true}                    ).then(function(){\n",
              "                            \n",
              "var gd = document.getElementById('6ad91755-39e2-4854-b9a5-03339ab41b7d');\n",
              "var x = new MutationObserver(function (mutations, observer) {{\n",
              "        var display = window.getComputedStyle(gd).display;\n",
              "        if (!display || display === 'none') {{\n",
              "            console.log([gd, 'removed!']);\n",
              "            Plotly.purge(gd);\n",
              "            observer.disconnect();\n",
              "        }}\n",
              "}});\n",
              "\n",
              "// Listen for the removal of the full notebook cells\n",
              "var notebookContainer = gd.closest('#notebook-container');\n",
              "if (notebookContainer) {{\n",
              "    x.observe(notebookContainer, {childList: true});\n",
              "}}\n",
              "\n",
              "// Listen for the clearing of the current output cell\n",
              "var outputEl = gd.closest('.output');\n",
              "if (outputEl) {{\n",
              "    x.observe(outputEl, {childList: true});\n",
              "}}\n",
              "\n",
              "                        })                };                            </script>        </div>\n",
              "</body>\n",
              "</html>"
            ]
          },
          "metadata": {}
        }
      ]
    },
    {
      "cell_type": "code",
      "source": [
        "df.columns"
      ],
      "metadata": {
        "id": "6WP2H6-f7odi",
        "colab": {
          "base_uri": "https://localhost:8080/"
        },
        "outputId": "3875b582-cba9-44d4-a5ac-a59c379d00cd"
      },
      "execution_count": 49,
      "outputs": [
        {
          "output_type": "execute_result",
          "data": {
            "text/plain": [
              "Index(['Unnamed: 0', 'author_id', 'username', 'author_followers',\n",
              "       'author_tweets', 'author_description', 'author_location', 'text',\n",
              "       'created_at', 'retweets', 'replies', 'likes', 'quote_count',\n",
              "       'conversation_id', 'in_reply_to_user', 'media_key', 'url',\n",
              "       'referenced_tweet', 'referenced_tweet_type', 'position', 'clean_text',\n",
              "       'tokens', 'tokenized_text', 'Translation', 'translated_tokens'],\n",
              "      dtype='object')"
            ]
          },
          "metadata": {},
          "execution_count": 49
        }
      ]
    },
    {
      "cell_type": "code",
      "source": [
        "import tensorflow\n",
        "import tensorflow_hub as hub"
      ],
      "metadata": {
        "id": "Aa_7o2LL7obW"
      },
      "execution_count": 47,
      "outputs": []
    },
    {
      "cell_type": "code",
      "source": [
        "use4 = hub.load(\"https://tfhub.dev/google/universal-sentence-encoder/4\")"
      ],
      "metadata": {
        "id": "KS_nZZoo7oZo"
      },
      "execution_count": 65,
      "outputs": []
    },
    {
      "cell_type": "code",
      "source": [
        "use4_embeddings = use4(df['translated_tokens'])\n",
        "use = np.array(use4_embeddings)"
      ],
      "metadata": {
        "id": "IfvcUi3N7oXk"
      },
      "execution_count": 66,
      "outputs": []
    },
    {
      "cell_type": "code",
      "source": [
        "topic_model.fit_transform(docs, use)"
      ],
      "metadata": {
        "id": "40SwLoOB7oVp"
      },
      "execution_count": 82,
      "outputs": []
    },
    {
      "cell_type": "code",
      "source": [
        "topic_model.visualize_topics(top_n_topics=10)"
      ],
      "metadata": {
        "colab": {
          "base_uri": "https://localhost:8080/",
          "height": 667
        },
        "id": "PTtUTJeX7oTy",
        "outputId": "17b84b91-439b-44f5-e69d-47db10fffba4"
      },
      "execution_count": 68,
      "outputs": [
        {
          "output_type": "display_data",
          "data": {
            "text/html": [
              "<html>\n",
              "<head><meta charset=\"utf-8\" /></head>\n",
              "<body>\n",
              "    <div>            <script src=\"https://cdnjs.cloudflare.com/ajax/libs/mathjax/2.7.5/MathJax.js?config=TeX-AMS-MML_SVG\"></script><script type=\"text/javascript\">if (window.MathJax) {MathJax.Hub.Config({SVG: {font: \"STIX-Web\"}});}</script>                <script type=\"text/javascript\">window.PlotlyConfig = {MathJaxConfig: 'local'};</script>\n",
              "        <script src=\"https://cdn.plot.ly/plotly-2.8.3.min.js\"></script>                <div id=\"1b01cf94-4ee4-471d-b0eb-b0b6508df3e7\" class=\"plotly-graph-div\" style=\"height:650px; width:650px;\"></div>            <script type=\"text/javascript\">                                    window.PLOTLYENV=window.PLOTLYENV || {};                                    if (document.getElementById(\"1b01cf94-4ee4-471d-b0eb-b0b6508df3e7\")) {                    Plotly.newPlot(                        \"1b01cf94-4ee4-471d-b0eb-b0b6508df3e7\",                        [{\"customdata\":[[0,\" |  |  |  | \",359],[1,\"fuck | lmao | fucking | guys | yall\",247],[2,\"smt | saramambotche | ratioscrazy | ioflorentini | janrusk\",184],[3,\"access | academic | research | free | tier\",150],[4,\"tweets | day | tweeting | limit | replies\",142],[5,\"susanti | neeeeni | sweetsquote | replygpt | faccherito\",136],[6,\"month | pay | free | previously | paying\",115],[7,\"enthusiasm | spell | word | strong | existential\",99],[8,\"bots | bot | isadora | urss | tittertakeover\",90],[9,\"bethr | technical | pvtryan | context | phrasing\",69]],\"hovertemplate\":\"<b>Topic %{customdata[0]}</b><br>%{customdata[1]}<br>Size: %{customdata[2]}\",\"legendgroup\":\"\",\"marker\":{\"color\":\"#B0BEC5\",\"size\":[359,247,184,150,142,136,115,99,90,69],\"sizemode\":\"area\",\"sizeref\":0.224375,\"symbol\":\"circle\",\"line\":{\"color\":\"DarkSlateGrey\",\"width\":2}},\"mode\":\"markers\",\"name\":\"\",\"orientation\":\"v\",\"showlegend\":false,\"x\":[null,14.11792278289795,17.211734771728516,14.994041442871094,16.349040985107422,16.949665069580078,14.660889625549316,13.6324462890625,16.06102752685547,16.490095138549805],\"xaxis\":\"x\",\"y\":[null,13.505303382873535,15.489984512329102,14.379498481750488,16.308040618896484,16.056713104248047,13.839077949523926,13.246464729309082,15.872071266174316,14.73823356628418],\"yaxis\":\"y\",\"type\":\"scatter\"}],                        {\"template\":{\"data\":{\"barpolar\":[{\"marker\":{\"line\":{\"color\":\"white\",\"width\":0.5},\"pattern\":{\"fillmode\":\"overlay\",\"size\":10,\"solidity\":0.2}},\"type\":\"barpolar\"}],\"bar\":[{\"error_x\":{\"color\":\"rgb(36,36,36)\"},\"error_y\":{\"color\":\"rgb(36,36,36)\"},\"marker\":{\"line\":{\"color\":\"white\",\"width\":0.5},\"pattern\":{\"fillmode\":\"overlay\",\"size\":10,\"solidity\":0.2}},\"type\":\"bar\"}],\"carpet\":[{\"aaxis\":{\"endlinecolor\":\"rgb(36,36,36)\",\"gridcolor\":\"white\",\"linecolor\":\"white\",\"minorgridcolor\":\"white\",\"startlinecolor\":\"rgb(36,36,36)\"},\"baxis\":{\"endlinecolor\":\"rgb(36,36,36)\",\"gridcolor\":\"white\",\"linecolor\":\"white\",\"minorgridcolor\":\"white\",\"startlinecolor\":\"rgb(36,36,36)\"},\"type\":\"carpet\"}],\"choropleth\":[{\"colorbar\":{\"outlinewidth\":1,\"tickcolor\":\"rgb(36,36,36)\",\"ticks\":\"outside\"},\"type\":\"choropleth\"}],\"contourcarpet\":[{\"colorbar\":{\"outlinewidth\":1,\"tickcolor\":\"rgb(36,36,36)\",\"ticks\":\"outside\"},\"type\":\"contourcarpet\"}],\"contour\":[{\"colorbar\":{\"outlinewidth\":1,\"tickcolor\":\"rgb(36,36,36)\",\"ticks\":\"outside\"},\"colorscale\":[[0.0,\"#440154\"],[0.1111111111111111,\"#482878\"],[0.2222222222222222,\"#3e4989\"],[0.3333333333333333,\"#31688e\"],[0.4444444444444444,\"#26828e\"],[0.5555555555555556,\"#1f9e89\"],[0.6666666666666666,\"#35b779\"],[0.7777777777777778,\"#6ece58\"],[0.8888888888888888,\"#b5de2b\"],[1.0,\"#fde725\"]],\"type\":\"contour\"}],\"heatmapgl\":[{\"colorbar\":{\"outlinewidth\":1,\"tickcolor\":\"rgb(36,36,36)\",\"ticks\":\"outside\"},\"colorscale\":[[0.0,\"#440154\"],[0.1111111111111111,\"#482878\"],[0.2222222222222222,\"#3e4989\"],[0.3333333333333333,\"#31688e\"],[0.4444444444444444,\"#26828e\"],[0.5555555555555556,\"#1f9e89\"],[0.6666666666666666,\"#35b779\"],[0.7777777777777778,\"#6ece58\"],[0.8888888888888888,\"#b5de2b\"],[1.0,\"#fde725\"]],\"type\":\"heatmapgl\"}],\"heatmap\":[{\"colorbar\":{\"outlinewidth\":1,\"tickcolor\":\"rgb(36,36,36)\",\"ticks\":\"outside\"},\"colorscale\":[[0.0,\"#440154\"],[0.1111111111111111,\"#482878\"],[0.2222222222222222,\"#3e4989\"],[0.3333333333333333,\"#31688e\"],[0.4444444444444444,\"#26828e\"],[0.5555555555555556,\"#1f9e89\"],[0.6666666666666666,\"#35b779\"],[0.7777777777777778,\"#6ece58\"],[0.8888888888888888,\"#b5de2b\"],[1.0,\"#fde725\"]],\"type\":\"heatmap\"}],\"histogram2dcontour\":[{\"colorbar\":{\"outlinewidth\":1,\"tickcolor\":\"rgb(36,36,36)\",\"ticks\":\"outside\"},\"colorscale\":[[0.0,\"#440154\"],[0.1111111111111111,\"#482878\"],[0.2222222222222222,\"#3e4989\"],[0.3333333333333333,\"#31688e\"],[0.4444444444444444,\"#26828e\"],[0.5555555555555556,\"#1f9e89\"],[0.6666666666666666,\"#35b779\"],[0.7777777777777778,\"#6ece58\"],[0.8888888888888888,\"#b5de2b\"],[1.0,\"#fde725\"]],\"type\":\"histogram2dcontour\"}],\"histogram2d\":[{\"colorbar\":{\"outlinewidth\":1,\"tickcolor\":\"rgb(36,36,36)\",\"ticks\":\"outside\"},\"colorscale\":[[0.0,\"#440154\"],[0.1111111111111111,\"#482878\"],[0.2222222222222222,\"#3e4989\"],[0.3333333333333333,\"#31688e\"],[0.4444444444444444,\"#26828e\"],[0.5555555555555556,\"#1f9e89\"],[0.6666666666666666,\"#35b779\"],[0.7777777777777778,\"#6ece58\"],[0.8888888888888888,\"#b5de2b\"],[1.0,\"#fde725\"]],\"type\":\"histogram2d\"}],\"histogram\":[{\"marker\":{\"line\":{\"color\":\"white\",\"width\":0.6}},\"type\":\"histogram\"}],\"mesh3d\":[{\"colorbar\":{\"outlinewidth\":1,\"tickcolor\":\"rgb(36,36,36)\",\"ticks\":\"outside\"},\"type\":\"mesh3d\"}],\"parcoords\":[{\"line\":{\"colorbar\":{\"outlinewidth\":1,\"tickcolor\":\"rgb(36,36,36)\",\"ticks\":\"outside\"}},\"type\":\"parcoords\"}],\"pie\":[{\"automargin\":true,\"type\":\"pie\"}],\"scatter3d\":[{\"line\":{\"colorbar\":{\"outlinewidth\":1,\"tickcolor\":\"rgb(36,36,36)\",\"ticks\":\"outside\"}},\"marker\":{\"colorbar\":{\"outlinewidth\":1,\"tickcolor\":\"rgb(36,36,36)\",\"ticks\":\"outside\"}},\"type\":\"scatter3d\"}],\"scattercarpet\":[{\"marker\":{\"colorbar\":{\"outlinewidth\":1,\"tickcolor\":\"rgb(36,36,36)\",\"ticks\":\"outside\"}},\"type\":\"scattercarpet\"}],\"scattergeo\":[{\"marker\":{\"colorbar\":{\"outlinewidth\":1,\"tickcolor\":\"rgb(36,36,36)\",\"ticks\":\"outside\"}},\"type\":\"scattergeo\"}],\"scattergl\":[{\"marker\":{\"colorbar\":{\"outlinewidth\":1,\"tickcolor\":\"rgb(36,36,36)\",\"ticks\":\"outside\"}},\"type\":\"scattergl\"}],\"scattermapbox\":[{\"marker\":{\"colorbar\":{\"outlinewidth\":1,\"tickcolor\":\"rgb(36,36,36)\",\"ticks\":\"outside\"}},\"type\":\"scattermapbox\"}],\"scatterpolargl\":[{\"marker\":{\"colorbar\":{\"outlinewidth\":1,\"tickcolor\":\"rgb(36,36,36)\",\"ticks\":\"outside\"}},\"type\":\"scatterpolargl\"}],\"scatterpolar\":[{\"marker\":{\"colorbar\":{\"outlinewidth\":1,\"tickcolor\":\"rgb(36,36,36)\",\"ticks\":\"outside\"}},\"type\":\"scatterpolar\"}],\"scatter\":[{\"marker\":{\"colorbar\":{\"outlinewidth\":1,\"tickcolor\":\"rgb(36,36,36)\",\"ticks\":\"outside\"}},\"type\":\"scatter\"}],\"scatterternary\":[{\"marker\":{\"colorbar\":{\"outlinewidth\":1,\"tickcolor\":\"rgb(36,36,36)\",\"ticks\":\"outside\"}},\"type\":\"scatterternary\"}],\"surface\":[{\"colorbar\":{\"outlinewidth\":1,\"tickcolor\":\"rgb(36,36,36)\",\"ticks\":\"outside\"},\"colorscale\":[[0.0,\"#440154\"],[0.1111111111111111,\"#482878\"],[0.2222222222222222,\"#3e4989\"],[0.3333333333333333,\"#31688e\"],[0.4444444444444444,\"#26828e\"],[0.5555555555555556,\"#1f9e89\"],[0.6666666666666666,\"#35b779\"],[0.7777777777777778,\"#6ece58\"],[0.8888888888888888,\"#b5de2b\"],[1.0,\"#fde725\"]],\"type\":\"surface\"}],\"table\":[{\"cells\":{\"fill\":{\"color\":\"rgb(237,237,237)\"},\"line\":{\"color\":\"white\"}},\"header\":{\"fill\":{\"color\":\"rgb(217,217,217)\"},\"line\":{\"color\":\"white\"}},\"type\":\"table\"}]},\"layout\":{\"annotationdefaults\":{\"arrowhead\":0,\"arrowwidth\":1},\"autotypenumbers\":\"strict\",\"coloraxis\":{\"colorbar\":{\"outlinewidth\":1,\"tickcolor\":\"rgb(36,36,36)\",\"ticks\":\"outside\"}},\"colorscale\":{\"diverging\":[[0.0,\"rgb(103,0,31)\"],[0.1,\"rgb(178,24,43)\"],[0.2,\"rgb(214,96,77)\"],[0.3,\"rgb(244,165,130)\"],[0.4,\"rgb(253,219,199)\"],[0.5,\"rgb(247,247,247)\"],[0.6,\"rgb(209,229,240)\"],[0.7,\"rgb(146,197,222)\"],[0.8,\"rgb(67,147,195)\"],[0.9,\"rgb(33,102,172)\"],[1.0,\"rgb(5,48,97)\"]],\"sequential\":[[0.0,\"#440154\"],[0.1111111111111111,\"#482878\"],[0.2222222222222222,\"#3e4989\"],[0.3333333333333333,\"#31688e\"],[0.4444444444444444,\"#26828e\"],[0.5555555555555556,\"#1f9e89\"],[0.6666666666666666,\"#35b779\"],[0.7777777777777778,\"#6ece58\"],[0.8888888888888888,\"#b5de2b\"],[1.0,\"#fde725\"]],\"sequentialminus\":[[0.0,\"#440154\"],[0.1111111111111111,\"#482878\"],[0.2222222222222222,\"#3e4989\"],[0.3333333333333333,\"#31688e\"],[0.4444444444444444,\"#26828e\"],[0.5555555555555556,\"#1f9e89\"],[0.6666666666666666,\"#35b779\"],[0.7777777777777778,\"#6ece58\"],[0.8888888888888888,\"#b5de2b\"],[1.0,\"#fde725\"]]},\"colorway\":[\"#1F77B4\",\"#FF7F0E\",\"#2CA02C\",\"#D62728\",\"#9467BD\",\"#8C564B\",\"#E377C2\",\"#7F7F7F\",\"#BCBD22\",\"#17BECF\"],\"font\":{\"color\":\"rgb(36,36,36)\"},\"geo\":{\"bgcolor\":\"white\",\"lakecolor\":\"white\",\"landcolor\":\"white\",\"showlakes\":true,\"showland\":true,\"subunitcolor\":\"white\"},\"hoverlabel\":{\"align\":\"left\"},\"hovermode\":\"closest\",\"mapbox\":{\"style\":\"light\"},\"paper_bgcolor\":\"white\",\"plot_bgcolor\":\"white\",\"polar\":{\"angularaxis\":{\"gridcolor\":\"rgb(232,232,232)\",\"linecolor\":\"rgb(36,36,36)\",\"showgrid\":false,\"showline\":true,\"ticks\":\"outside\"},\"bgcolor\":\"white\",\"radialaxis\":{\"gridcolor\":\"rgb(232,232,232)\",\"linecolor\":\"rgb(36,36,36)\",\"showgrid\":false,\"showline\":true,\"ticks\":\"outside\"}},\"scene\":{\"xaxis\":{\"backgroundcolor\":\"white\",\"gridcolor\":\"rgb(232,232,232)\",\"gridwidth\":2,\"linecolor\":\"rgb(36,36,36)\",\"showbackground\":true,\"showgrid\":false,\"showline\":true,\"ticks\":\"outside\",\"zeroline\":false,\"zerolinecolor\":\"rgb(36,36,36)\"},\"yaxis\":{\"backgroundcolor\":\"white\",\"gridcolor\":\"rgb(232,232,232)\",\"gridwidth\":2,\"linecolor\":\"rgb(36,36,36)\",\"showbackground\":true,\"showgrid\":false,\"showline\":true,\"ticks\":\"outside\",\"zeroline\":false,\"zerolinecolor\":\"rgb(36,36,36)\"},\"zaxis\":{\"backgroundcolor\":\"white\",\"gridcolor\":\"rgb(232,232,232)\",\"gridwidth\":2,\"linecolor\":\"rgb(36,36,36)\",\"showbackground\":true,\"showgrid\":false,\"showline\":true,\"ticks\":\"outside\",\"zeroline\":false,\"zerolinecolor\":\"rgb(36,36,36)\"}},\"shapedefaults\":{\"fillcolor\":\"black\",\"line\":{\"width\":0},\"opacity\":0.3},\"ternary\":{\"aaxis\":{\"gridcolor\":\"rgb(232,232,232)\",\"linecolor\":\"rgb(36,36,36)\",\"showgrid\":false,\"showline\":true,\"ticks\":\"outside\"},\"baxis\":{\"gridcolor\":\"rgb(232,232,232)\",\"linecolor\":\"rgb(36,36,36)\",\"showgrid\":false,\"showline\":true,\"ticks\":\"outside\"},\"bgcolor\":\"white\",\"caxis\":{\"gridcolor\":\"rgb(232,232,232)\",\"linecolor\":\"rgb(36,36,36)\",\"showgrid\":false,\"showline\":true,\"ticks\":\"outside\"}},\"title\":{\"x\":0.05},\"xaxis\":{\"automargin\":true,\"gridcolor\":\"rgb(232,232,232)\",\"linecolor\":\"rgb(36,36,36)\",\"showgrid\":false,\"showline\":true,\"ticks\":\"outside\",\"title\":{\"standoff\":15},\"zeroline\":false,\"zerolinecolor\":\"rgb(36,36,36)\"},\"yaxis\":{\"automargin\":true,\"gridcolor\":\"rgb(232,232,232)\",\"linecolor\":\"rgb(36,36,36)\",\"showgrid\":false,\"showline\":true,\"ticks\":\"outside\",\"title\":{\"standoff\":15},\"zeroline\":false,\"zerolinecolor\":\"rgb(36,36,36)\"}}},\"xaxis\":{\"anchor\":\"y\",\"domain\":[0.0,1.0],\"title\":{\"text\":\"\"},\"visible\":false,\"range\":[11.587579345703125,19.793494987487794]},\"yaxis\":{\"anchor\":\"x\",\"domain\":[0.0,1.0],\"title\":{\"text\":\"\"},\"visible\":false,\"range\":[11.25949501991272,18.754246711730957]},\"legend\":{\"tracegroupgap\":0,\"itemsizing\":\"constant\"},\"margin\":{\"t\":60},\"title\":{\"font\":{\"size\":22,\"color\":\"Black\"},\"text\":\"<b>Intertopic Distance Map</b>\",\"y\":0.95,\"x\":0.5,\"xanchor\":\"center\",\"yanchor\":\"top\"},\"hoverlabel\":{\"font\":{\"size\":16,\"family\":\"Rockwell\"},\"bgcolor\":\"white\"},\"width\":650,\"height\":650,\"sliders\":[{\"active\":0,\"pad\":{\"t\":50},\"steps\":[{\"args\":[{\"marker.color\":[[\"red\",\"#B0BEC5\",\"#B0BEC5\",\"#B0BEC5\",\"#B0BEC5\",\"#B0BEC5\",\"#B0BEC5\",\"#B0BEC5\",\"#B0BEC5\",\"#B0BEC5\"]]}],\"label\":\"Topic 0\",\"method\":\"update\"},{\"args\":[{\"marker.color\":[[\"#B0BEC5\",\"red\",\"#B0BEC5\",\"#B0BEC5\",\"#B0BEC5\",\"#B0BEC5\",\"#B0BEC5\",\"#B0BEC5\",\"#B0BEC5\",\"#B0BEC5\"]]}],\"label\":\"Topic 1\",\"method\":\"update\"},{\"args\":[{\"marker.color\":[[\"#B0BEC5\",\"#B0BEC5\",\"red\",\"#B0BEC5\",\"#B0BEC5\",\"#B0BEC5\",\"#B0BEC5\",\"#B0BEC5\",\"#B0BEC5\",\"#B0BEC5\"]]}],\"label\":\"Topic 2\",\"method\":\"update\"},{\"args\":[{\"marker.color\":[[\"#B0BEC5\",\"#B0BEC5\",\"#B0BEC5\",\"red\",\"#B0BEC5\",\"#B0BEC5\",\"#B0BEC5\",\"#B0BEC5\",\"#B0BEC5\",\"#B0BEC5\"]]}],\"label\":\"Topic 3\",\"method\":\"update\"},{\"args\":[{\"marker.color\":[[\"#B0BEC5\",\"#B0BEC5\",\"#B0BEC5\",\"#B0BEC5\",\"red\",\"#B0BEC5\",\"#B0BEC5\",\"#B0BEC5\",\"#B0BEC5\",\"#B0BEC5\"]]}],\"label\":\"Topic 4\",\"method\":\"update\"},{\"args\":[{\"marker.color\":[[\"#B0BEC5\",\"#B0BEC5\",\"#B0BEC5\",\"#B0BEC5\",\"#B0BEC5\",\"red\",\"#B0BEC5\",\"#B0BEC5\",\"#B0BEC5\",\"#B0BEC5\"]]}],\"label\":\"Topic 5\",\"method\":\"update\"},{\"args\":[{\"marker.color\":[[\"#B0BEC5\",\"#B0BEC5\",\"#B0BEC5\",\"#B0BEC5\",\"#B0BEC5\",\"#B0BEC5\",\"red\",\"#B0BEC5\",\"#B0BEC5\",\"#B0BEC5\"]]}],\"label\":\"Topic 6\",\"method\":\"update\"},{\"args\":[{\"marker.color\":[[\"#B0BEC5\",\"#B0BEC5\",\"#B0BEC5\",\"#B0BEC5\",\"#B0BEC5\",\"#B0BEC5\",\"#B0BEC5\",\"red\",\"#B0BEC5\",\"#B0BEC5\"]]}],\"label\":\"Topic 7\",\"method\":\"update\"},{\"args\":[{\"marker.color\":[[\"#B0BEC5\",\"#B0BEC5\",\"#B0BEC5\",\"#B0BEC5\",\"#B0BEC5\",\"#B0BEC5\",\"#B0BEC5\",\"#B0BEC5\",\"red\",\"#B0BEC5\"]]}],\"label\":\"Topic 8\",\"method\":\"update\"},{\"args\":[{\"marker.color\":[[\"#B0BEC5\",\"#B0BEC5\",\"#B0BEC5\",\"#B0BEC5\",\"#B0BEC5\",\"#B0BEC5\",\"#B0BEC5\",\"#B0BEC5\",\"#B0BEC5\",\"red\"]]}],\"label\":\"Topic 9\",\"method\":\"update\"}]}],\"shapes\":[{\"line\":{\"color\":\"#CFD8DC\",\"width\":2},\"type\":\"line\",\"x0\":15.690537166595458,\"x1\":15.690537166595458,\"y0\":11.25949501991272,\"y1\":18.754246711730957},{\"line\":{\"color\":\"#9E9E9E\",\"width\":2},\"type\":\"line\",\"x0\":11.587579345703125,\"x1\":19.793494987487794,\"y0\":15.006870865821838,\"y1\":15.006870865821838}],\"annotations\":[{\"showarrow\":false,\"text\":\"D1\",\"x\":11.587579345703125,\"y\":15.006870865821838,\"yshift\":10},{\"showarrow\":false,\"text\":\"D2\",\"x\":15.690537166595458,\"xshift\":10,\"y\":18.754246711730957}]},                        {\"responsive\": true}                    ).then(function(){\n",
              "                            \n",
              "var gd = document.getElementById('1b01cf94-4ee4-471d-b0eb-b0b6508df3e7');\n",
              "var x = new MutationObserver(function (mutations, observer) {{\n",
              "        var display = window.getComputedStyle(gd).display;\n",
              "        if (!display || display === 'none') {{\n",
              "            console.log([gd, 'removed!']);\n",
              "            Plotly.purge(gd);\n",
              "            observer.disconnect();\n",
              "        }}\n",
              "}});\n",
              "\n",
              "// Listen for the removal of the full notebook cells\n",
              "var notebookContainer = gd.closest('#notebook-container');\n",
              "if (notebookContainer) {{\n",
              "    x.observe(notebookContainer, {childList: true});\n",
              "}}\n",
              "\n",
              "// Listen for the clearing of the current output cell\n",
              "var outputEl = gd.closest('.output');\n",
              "if (outputEl) {{\n",
              "    x.observe(outputEl, {childList: true});\n",
              "}}\n",
              "\n",
              "                        })                };                            </script>        </div>\n",
              "</body>\n",
              "</html>"
            ]
          },
          "metadata": {}
        }
      ]
    },
    {
      "cell_type": "code",
      "source": [
        "topic_model.visualize_barchart(top_n_topics=10)"
      ],
      "metadata": {
        "colab": {
          "base_uri": "https://localhost:8080/",
          "height": 767
        },
        "id": "jpNGl1PqFJts",
        "outputId": "cff0ab8d-e8f5-4d0b-980b-7bca9bc1a3de"
      },
      "execution_count": 69,
      "outputs": [
        {
          "output_type": "display_data",
          "data": {
            "text/html": [
              "<html>\n",
              "<head><meta charset=\"utf-8\" /></head>\n",
              "<body>\n",
              "    <div>            <script src=\"https://cdnjs.cloudflare.com/ajax/libs/mathjax/2.7.5/MathJax.js?config=TeX-AMS-MML_SVG\"></script><script type=\"text/javascript\">if (window.MathJax) {MathJax.Hub.Config({SVG: {font: \"STIX-Web\"}});}</script>                <script type=\"text/javascript\">window.PlotlyConfig = {MathJaxConfig: 'local'};</script>\n",
              "        <script src=\"https://cdn.plot.ly/plotly-2.8.3.min.js\"></script>                <div id=\"6bf2a977-16f1-4657-9a0c-a8b83d2c3774\" class=\"plotly-graph-div\" style=\"height:750px; width:1000px;\"></div>            <script type=\"text/javascript\">                                    window.PLOTLYENV=window.PLOTLYENV || {};                                    if (document.getElementById(\"6bf2a977-16f1-4657-9a0c-a8b83d2c3774\")) {                    Plotly.newPlot(                        \"6bf2a977-16f1-4657-9a0c-a8b83d2c3774\",                        [{\"marker\":{\"color\":\"#D55E00\"},\"orientation\":\"h\",\"x\":[1e-05,1e-05,1e-05,1e-05,1e-05],\"y\":[\"  \",\"  \",\"  \",\"  \",\"  \"],\"type\":\"bar\",\"xaxis\":\"x\",\"yaxis\":\"y\"},{\"marker\":{\"color\":\"#0072B2\"},\"orientation\":\"h\",\"x\":[0.039376345427064086,0.041829637671916976,0.04341313963588703,0.04712771113357697,0.05657283521567733],\"y\":[\"yall  \",\"guys  \",\"fucking  \",\"lmao  \",\"fuck  \"],\"type\":\"bar\",\"xaxis\":\"x2\",\"yaxis\":\"y2\"},{\"marker\":{\"color\":\"#CC79A7\"},\"orientation\":\"h\",\"x\":[0.04781130426435645,0.04781130426435645,0.06636453973670085,0.0833583880759579,0.1809644485819969],\"y\":[\"janrusk  \",\"ioflorentini  \",\"ratioscrazy  \",\"saramambotche  \",\"smt  \"],\"type\":\"bar\",\"xaxis\":\"x3\",\"yaxis\":\"y3\"},{\"marker\":{\"color\":\"#E69F00\"},\"orientation\":\"h\",\"x\":[0.029078690103885838,0.0324126012694729,0.04094837690527942,0.06191854963912195,0.07577882927355918],\"y\":[\"tier  \",\"free  \",\"research  \",\"academic  \",\"access  \"],\"type\":\"bar\",\"xaxis\":\"x4\",\"yaxis\":\"y4\"},{\"marker\":{\"color\":\"#56B4E9\"},\"orientation\":\"h\",\"x\":[0.02147378720576645,0.021806649793692675,0.03352782388741635,0.03633478934508548,0.10291014853341719],\"y\":[\"replies  \",\"limit  \",\"tweeting  \",\"day  \",\"tweets  \"],\"type\":\"bar\",\"xaxis\":\"x5\",\"yaxis\":\"y5\"},{\"marker\":{\"color\":\"#009E73\"},\"orientation\":\"h\",\"x\":[0.03439996784517063,0.03547253000416068,0.0432479320266071,0.0432479320266071,0.051526613327746204],\"y\":[\"faccherito  \",\"replygpt  \",\"sweetsquote  \",\"neeeeni  \",\"susanti  \"],\"type\":\"bar\",\"xaxis\":\"x6\",\"yaxis\":\"y6\"},{\"marker\":{\"color\":\"#F0E442\"},\"orientation\":\"h\",\"x\":[0.03580123478410839,0.04119913602660338,0.056531823211698515,0.06134520715166856,0.08016464668407552],\"y\":[\"paying  \",\"previously  \",\"free  \",\"pay  \",\"month  \"],\"type\":\"bar\",\"xaxis\":\"x7\",\"yaxis\":\"y7\"},{\"marker\":{\"color\":\"#D55E00\"},\"orientation\":\"h\",\"x\":[0.024336384603028286,0.030358923528239656,0.03139146693727414,0.033780148604717106,0.21733358748647721],\"y\":[\"existential  \",\"strong  \",\"word  \",\"spell  \",\"enthusiasm  \"],\"type\":\"bar\",\"xaxis\":\"x8\",\"yaxis\":\"y8\"},{\"marker\":{\"color\":\"#0072B2\"},\"orientation\":\"h\",\"x\":[0.021328774429964094,0.024898017205458662,0.024898017205458662,0.09785979552116061,0.12886049165796917],\"y\":[\"tittertakeover  \",\"urss  \",\"isadora  \",\"bot  \",\"bots  \"],\"type\":\"bar\",\"xaxis\":\"x9\",\"yaxis\":\"y9\"},{\"marker\":{\"color\":\"#CC79A7\"},\"orientation\":\"h\",\"x\":[0.02584663372649816,0.03348664606606842,0.035180917365804594,0.06395130847209834,0.07165844459866012],\"y\":[\"phrasing  \",\"context  \",\"pvtryan  \",\"technical  \",\"bethr  \"],\"type\":\"bar\",\"xaxis\":\"x10\",\"yaxis\":\"y10\"}],                        {\"template\":{\"data\":{\"barpolar\":[{\"marker\":{\"line\":{\"color\":\"white\",\"width\":0.5},\"pattern\":{\"fillmode\":\"overlay\",\"size\":10,\"solidity\":0.2}},\"type\":\"barpolar\"}],\"bar\":[{\"error_x\":{\"color\":\"#2a3f5f\"},\"error_y\":{\"color\":\"#2a3f5f\"},\"marker\":{\"line\":{\"color\":\"white\",\"width\":0.5},\"pattern\":{\"fillmode\":\"overlay\",\"size\":10,\"solidity\":0.2}},\"type\":\"bar\"}],\"carpet\":[{\"aaxis\":{\"endlinecolor\":\"#2a3f5f\",\"gridcolor\":\"#C8D4E3\",\"linecolor\":\"#C8D4E3\",\"minorgridcolor\":\"#C8D4E3\",\"startlinecolor\":\"#2a3f5f\"},\"baxis\":{\"endlinecolor\":\"#2a3f5f\",\"gridcolor\":\"#C8D4E3\",\"linecolor\":\"#C8D4E3\",\"minorgridcolor\":\"#C8D4E3\",\"startlinecolor\":\"#2a3f5f\"},\"type\":\"carpet\"}],\"choropleth\":[{\"colorbar\":{\"outlinewidth\":0,\"ticks\":\"\"},\"type\":\"choropleth\"}],\"contourcarpet\":[{\"colorbar\":{\"outlinewidth\":0,\"ticks\":\"\"},\"type\":\"contourcarpet\"}],\"contour\":[{\"colorbar\":{\"outlinewidth\":0,\"ticks\":\"\"},\"colorscale\":[[0.0,\"#0d0887\"],[0.1111111111111111,\"#46039f\"],[0.2222222222222222,\"#7201a8\"],[0.3333333333333333,\"#9c179e\"],[0.4444444444444444,\"#bd3786\"],[0.5555555555555556,\"#d8576b\"],[0.6666666666666666,\"#ed7953\"],[0.7777777777777778,\"#fb9f3a\"],[0.8888888888888888,\"#fdca26\"],[1.0,\"#f0f921\"]],\"type\":\"contour\"}],\"heatmapgl\":[{\"colorbar\":{\"outlinewidth\":0,\"ticks\":\"\"},\"colorscale\":[[0.0,\"#0d0887\"],[0.1111111111111111,\"#46039f\"],[0.2222222222222222,\"#7201a8\"],[0.3333333333333333,\"#9c179e\"],[0.4444444444444444,\"#bd3786\"],[0.5555555555555556,\"#d8576b\"],[0.6666666666666666,\"#ed7953\"],[0.7777777777777778,\"#fb9f3a\"],[0.8888888888888888,\"#fdca26\"],[1.0,\"#f0f921\"]],\"type\":\"heatmapgl\"}],\"heatmap\":[{\"colorbar\":{\"outlinewidth\":0,\"ticks\":\"\"},\"colorscale\":[[0.0,\"#0d0887\"],[0.1111111111111111,\"#46039f\"],[0.2222222222222222,\"#7201a8\"],[0.3333333333333333,\"#9c179e\"],[0.4444444444444444,\"#bd3786\"],[0.5555555555555556,\"#d8576b\"],[0.6666666666666666,\"#ed7953\"],[0.7777777777777778,\"#fb9f3a\"],[0.8888888888888888,\"#fdca26\"],[1.0,\"#f0f921\"]],\"type\":\"heatmap\"}],\"histogram2dcontour\":[{\"colorbar\":{\"outlinewidth\":0,\"ticks\":\"\"},\"colorscale\":[[0.0,\"#0d0887\"],[0.1111111111111111,\"#46039f\"],[0.2222222222222222,\"#7201a8\"],[0.3333333333333333,\"#9c179e\"],[0.4444444444444444,\"#bd3786\"],[0.5555555555555556,\"#d8576b\"],[0.6666666666666666,\"#ed7953\"],[0.7777777777777778,\"#fb9f3a\"],[0.8888888888888888,\"#fdca26\"],[1.0,\"#f0f921\"]],\"type\":\"histogram2dcontour\"}],\"histogram2d\":[{\"colorbar\":{\"outlinewidth\":0,\"ticks\":\"\"},\"colorscale\":[[0.0,\"#0d0887\"],[0.1111111111111111,\"#46039f\"],[0.2222222222222222,\"#7201a8\"],[0.3333333333333333,\"#9c179e\"],[0.4444444444444444,\"#bd3786\"],[0.5555555555555556,\"#d8576b\"],[0.6666666666666666,\"#ed7953\"],[0.7777777777777778,\"#fb9f3a\"],[0.8888888888888888,\"#fdca26\"],[1.0,\"#f0f921\"]],\"type\":\"histogram2d\"}],\"histogram\":[{\"marker\":{\"pattern\":{\"fillmode\":\"overlay\",\"size\":10,\"solidity\":0.2}},\"type\":\"histogram\"}],\"mesh3d\":[{\"colorbar\":{\"outlinewidth\":0,\"ticks\":\"\"},\"type\":\"mesh3d\"}],\"parcoords\":[{\"line\":{\"colorbar\":{\"outlinewidth\":0,\"ticks\":\"\"}},\"type\":\"parcoords\"}],\"pie\":[{\"automargin\":true,\"type\":\"pie\"}],\"scatter3d\":[{\"line\":{\"colorbar\":{\"outlinewidth\":0,\"ticks\":\"\"}},\"marker\":{\"colorbar\":{\"outlinewidth\":0,\"ticks\":\"\"}},\"type\":\"scatter3d\"}],\"scattercarpet\":[{\"marker\":{\"colorbar\":{\"outlinewidth\":0,\"ticks\":\"\"}},\"type\":\"scattercarpet\"}],\"scattergeo\":[{\"marker\":{\"colorbar\":{\"outlinewidth\":0,\"ticks\":\"\"}},\"type\":\"scattergeo\"}],\"scattergl\":[{\"marker\":{\"colorbar\":{\"outlinewidth\":0,\"ticks\":\"\"}},\"type\":\"scattergl\"}],\"scattermapbox\":[{\"marker\":{\"colorbar\":{\"outlinewidth\":0,\"ticks\":\"\"}},\"type\":\"scattermapbox\"}],\"scatterpolargl\":[{\"marker\":{\"colorbar\":{\"outlinewidth\":0,\"ticks\":\"\"}},\"type\":\"scatterpolargl\"}],\"scatterpolar\":[{\"marker\":{\"colorbar\":{\"outlinewidth\":0,\"ticks\":\"\"}},\"type\":\"scatterpolar\"}],\"scatter\":[{\"marker\":{\"colorbar\":{\"outlinewidth\":0,\"ticks\":\"\"}},\"type\":\"scatter\"}],\"scatterternary\":[{\"marker\":{\"colorbar\":{\"outlinewidth\":0,\"ticks\":\"\"}},\"type\":\"scatterternary\"}],\"surface\":[{\"colorbar\":{\"outlinewidth\":0,\"ticks\":\"\"},\"colorscale\":[[0.0,\"#0d0887\"],[0.1111111111111111,\"#46039f\"],[0.2222222222222222,\"#7201a8\"],[0.3333333333333333,\"#9c179e\"],[0.4444444444444444,\"#bd3786\"],[0.5555555555555556,\"#d8576b\"],[0.6666666666666666,\"#ed7953\"],[0.7777777777777778,\"#fb9f3a\"],[0.8888888888888888,\"#fdca26\"],[1.0,\"#f0f921\"]],\"type\":\"surface\"}],\"table\":[{\"cells\":{\"fill\":{\"color\":\"#EBF0F8\"},\"line\":{\"color\":\"white\"}},\"header\":{\"fill\":{\"color\":\"#C8D4E3\"},\"line\":{\"color\":\"white\"}},\"type\":\"table\"}]},\"layout\":{\"annotationdefaults\":{\"arrowcolor\":\"#2a3f5f\",\"arrowhead\":0,\"arrowwidth\":1},\"autotypenumbers\":\"strict\",\"coloraxis\":{\"colorbar\":{\"outlinewidth\":0,\"ticks\":\"\"}},\"colorscale\":{\"diverging\":[[0,\"#8e0152\"],[0.1,\"#c51b7d\"],[0.2,\"#de77ae\"],[0.3,\"#f1b6da\"],[0.4,\"#fde0ef\"],[0.5,\"#f7f7f7\"],[0.6,\"#e6f5d0\"],[0.7,\"#b8e186\"],[0.8,\"#7fbc41\"],[0.9,\"#4d9221\"],[1,\"#276419\"]],\"sequential\":[[0.0,\"#0d0887\"],[0.1111111111111111,\"#46039f\"],[0.2222222222222222,\"#7201a8\"],[0.3333333333333333,\"#9c179e\"],[0.4444444444444444,\"#bd3786\"],[0.5555555555555556,\"#d8576b\"],[0.6666666666666666,\"#ed7953\"],[0.7777777777777778,\"#fb9f3a\"],[0.8888888888888888,\"#fdca26\"],[1.0,\"#f0f921\"]],\"sequentialminus\":[[0.0,\"#0d0887\"],[0.1111111111111111,\"#46039f\"],[0.2222222222222222,\"#7201a8\"],[0.3333333333333333,\"#9c179e\"],[0.4444444444444444,\"#bd3786\"],[0.5555555555555556,\"#d8576b\"],[0.6666666666666666,\"#ed7953\"],[0.7777777777777778,\"#fb9f3a\"],[0.8888888888888888,\"#fdca26\"],[1.0,\"#f0f921\"]]},\"colorway\":[\"#636efa\",\"#EF553B\",\"#00cc96\",\"#ab63fa\",\"#FFA15A\",\"#19d3f3\",\"#FF6692\",\"#B6E880\",\"#FF97FF\",\"#FECB52\"],\"font\":{\"color\":\"#2a3f5f\"},\"geo\":{\"bgcolor\":\"white\",\"lakecolor\":\"white\",\"landcolor\":\"white\",\"showlakes\":true,\"showland\":true,\"subunitcolor\":\"#C8D4E3\"},\"hoverlabel\":{\"align\":\"left\"},\"hovermode\":\"closest\",\"mapbox\":{\"style\":\"light\"},\"paper_bgcolor\":\"white\",\"plot_bgcolor\":\"white\",\"polar\":{\"angularaxis\":{\"gridcolor\":\"#EBF0F8\",\"linecolor\":\"#EBF0F8\",\"ticks\":\"\"},\"bgcolor\":\"white\",\"radialaxis\":{\"gridcolor\":\"#EBF0F8\",\"linecolor\":\"#EBF0F8\",\"ticks\":\"\"}},\"scene\":{\"xaxis\":{\"backgroundcolor\":\"white\",\"gridcolor\":\"#DFE8F3\",\"gridwidth\":2,\"linecolor\":\"#EBF0F8\",\"showbackground\":true,\"ticks\":\"\",\"zerolinecolor\":\"#EBF0F8\"},\"yaxis\":{\"backgroundcolor\":\"white\",\"gridcolor\":\"#DFE8F3\",\"gridwidth\":2,\"linecolor\":\"#EBF0F8\",\"showbackground\":true,\"ticks\":\"\",\"zerolinecolor\":\"#EBF0F8\"},\"zaxis\":{\"backgroundcolor\":\"white\",\"gridcolor\":\"#DFE8F3\",\"gridwidth\":2,\"linecolor\":\"#EBF0F8\",\"showbackground\":true,\"ticks\":\"\",\"zerolinecolor\":\"#EBF0F8\"}},\"shapedefaults\":{\"line\":{\"color\":\"#2a3f5f\"}},\"ternary\":{\"aaxis\":{\"gridcolor\":\"#DFE8F3\",\"linecolor\":\"#A2B1C6\",\"ticks\":\"\"},\"baxis\":{\"gridcolor\":\"#DFE8F3\",\"linecolor\":\"#A2B1C6\",\"ticks\":\"\"},\"bgcolor\":\"white\",\"caxis\":{\"gridcolor\":\"#DFE8F3\",\"linecolor\":\"#A2B1C6\",\"ticks\":\"\"}},\"title\":{\"x\":0.05},\"xaxis\":{\"automargin\":true,\"gridcolor\":\"#EBF0F8\",\"linecolor\":\"#EBF0F8\",\"ticks\":\"\",\"title\":{\"standoff\":15},\"zerolinecolor\":\"#EBF0F8\",\"zerolinewidth\":2},\"yaxis\":{\"automargin\":true,\"gridcolor\":\"#EBF0F8\",\"linecolor\":\"#EBF0F8\",\"ticks\":\"\",\"title\":{\"standoff\":15},\"zerolinecolor\":\"#EBF0F8\",\"zerolinewidth\":2}}},\"xaxis\":{\"anchor\":\"y\",\"domain\":[0.0,0.175],\"showgrid\":true},\"yaxis\":{\"anchor\":\"x\",\"domain\":[0.7555555555555555,1.0],\"showgrid\":true},\"xaxis2\":{\"anchor\":\"y2\",\"domain\":[0.275,0.45],\"showgrid\":true},\"yaxis2\":{\"anchor\":\"x2\",\"domain\":[0.7555555555555555,1.0],\"showgrid\":true},\"xaxis3\":{\"anchor\":\"y3\",\"domain\":[0.55,0.7250000000000001],\"showgrid\":true},\"yaxis3\":{\"anchor\":\"x3\",\"domain\":[0.7555555555555555,1.0],\"showgrid\":true},\"xaxis4\":{\"anchor\":\"y4\",\"domain\":[0.825,1.0],\"showgrid\":true},\"yaxis4\":{\"anchor\":\"x4\",\"domain\":[0.7555555555555555,1.0],\"showgrid\":true},\"xaxis5\":{\"anchor\":\"y5\",\"domain\":[0.0,0.175],\"showgrid\":true},\"yaxis5\":{\"anchor\":\"x5\",\"domain\":[0.37777777777777777,0.6222222222222222],\"showgrid\":true},\"xaxis6\":{\"anchor\":\"y6\",\"domain\":[0.275,0.45],\"showgrid\":true},\"yaxis6\":{\"anchor\":\"x6\",\"domain\":[0.37777777777777777,0.6222222222222222],\"showgrid\":true},\"xaxis7\":{\"anchor\":\"y7\",\"domain\":[0.55,0.7250000000000001],\"showgrid\":true},\"yaxis7\":{\"anchor\":\"x7\",\"domain\":[0.37777777777777777,0.6222222222222222],\"showgrid\":true},\"xaxis8\":{\"anchor\":\"y8\",\"domain\":[0.825,1.0],\"showgrid\":true},\"yaxis8\":{\"anchor\":\"x8\",\"domain\":[0.37777777777777777,0.6222222222222222],\"showgrid\":true},\"xaxis9\":{\"anchor\":\"y9\",\"domain\":[0.0,0.175],\"showgrid\":true},\"yaxis9\":{\"anchor\":\"x9\",\"domain\":[0.0,0.24444444444444446],\"showgrid\":true},\"xaxis10\":{\"anchor\":\"y10\",\"domain\":[0.275,0.45],\"showgrid\":true},\"yaxis10\":{\"anchor\":\"x10\",\"domain\":[0.0,0.24444444444444446],\"showgrid\":true},\"xaxis11\":{\"anchor\":\"y11\",\"domain\":[0.55,0.7250000000000001],\"showgrid\":true},\"yaxis11\":{\"anchor\":\"x11\",\"domain\":[0.0,0.24444444444444446],\"showgrid\":true},\"xaxis12\":{\"anchor\":\"y12\",\"domain\":[0.825,1.0],\"showgrid\":true},\"yaxis12\":{\"anchor\":\"x12\",\"domain\":[0.0,0.24444444444444446],\"showgrid\":true},\"annotations\":[{\"font\":{\"size\":16},\"showarrow\":false,\"text\":\"Topic 0\",\"x\":0.0875,\"xanchor\":\"center\",\"xref\":\"paper\",\"y\":1.0,\"yanchor\":\"bottom\",\"yref\":\"paper\"},{\"font\":{\"size\":16},\"showarrow\":false,\"text\":\"Topic 1\",\"x\":0.36250000000000004,\"xanchor\":\"center\",\"xref\":\"paper\",\"y\":1.0,\"yanchor\":\"bottom\",\"yref\":\"paper\"},{\"font\":{\"size\":16},\"showarrow\":false,\"text\":\"Topic 2\",\"x\":0.6375000000000001,\"xanchor\":\"center\",\"xref\":\"paper\",\"y\":1.0,\"yanchor\":\"bottom\",\"yref\":\"paper\"},{\"font\":{\"size\":16},\"showarrow\":false,\"text\":\"Topic 3\",\"x\":0.9125,\"xanchor\":\"center\",\"xref\":\"paper\",\"y\":1.0,\"yanchor\":\"bottom\",\"yref\":\"paper\"},{\"font\":{\"size\":16},\"showarrow\":false,\"text\":\"Topic 4\",\"x\":0.0875,\"xanchor\":\"center\",\"xref\":\"paper\",\"y\":0.6222222222222222,\"yanchor\":\"bottom\",\"yref\":\"paper\"},{\"font\":{\"size\":16},\"showarrow\":false,\"text\":\"Topic 5\",\"x\":0.36250000000000004,\"xanchor\":\"center\",\"xref\":\"paper\",\"y\":0.6222222222222222,\"yanchor\":\"bottom\",\"yref\":\"paper\"},{\"font\":{\"size\":16},\"showarrow\":false,\"text\":\"Topic 6\",\"x\":0.6375000000000001,\"xanchor\":\"center\",\"xref\":\"paper\",\"y\":0.6222222222222222,\"yanchor\":\"bottom\",\"yref\":\"paper\"},{\"font\":{\"size\":16},\"showarrow\":false,\"text\":\"Topic 7\",\"x\":0.9125,\"xanchor\":\"center\",\"xref\":\"paper\",\"y\":0.6222222222222222,\"yanchor\":\"bottom\",\"yref\":\"paper\"},{\"font\":{\"size\":16},\"showarrow\":false,\"text\":\"Topic 8\",\"x\":0.0875,\"xanchor\":\"center\",\"xref\":\"paper\",\"y\":0.24444444444444446,\"yanchor\":\"bottom\",\"yref\":\"paper\"},{\"font\":{\"size\":16},\"showarrow\":false,\"text\":\"Topic 9\",\"x\":0.36250000000000004,\"xanchor\":\"center\",\"xref\":\"paper\",\"y\":0.24444444444444446,\"yanchor\":\"bottom\",\"yref\":\"paper\"}],\"title\":{\"font\":{\"size\":22,\"color\":\"Black\"},\"text\":\"Topic Word Scores\",\"x\":0.5,\"xanchor\":\"center\",\"yanchor\":\"top\"},\"hoverlabel\":{\"font\":{\"size\":16,\"family\":\"Rockwell\"},\"bgcolor\":\"white\"},\"showlegend\":false,\"width\":1000,\"height\":750},                        {\"responsive\": true}                    ).then(function(){\n",
              "                            \n",
              "var gd = document.getElementById('6bf2a977-16f1-4657-9a0c-a8b83d2c3774');\n",
              "var x = new MutationObserver(function (mutations, observer) {{\n",
              "        var display = window.getComputedStyle(gd).display;\n",
              "        if (!display || display === 'none') {{\n",
              "            console.log([gd, 'removed!']);\n",
              "            Plotly.purge(gd);\n",
              "            observer.disconnect();\n",
              "        }}\n",
              "}});\n",
              "\n",
              "// Listen for the removal of the full notebook cells\n",
              "var notebookContainer = gd.closest('#notebook-container');\n",
              "if (notebookContainer) {{\n",
              "    x.observe(notebookContainer, {childList: true});\n",
              "}}\n",
              "\n",
              "// Listen for the clearing of the current output cell\n",
              "var outputEl = gd.closest('.output');\n",
              "if (outputEl) {{\n",
              "    x.observe(outputEl, {childList: true});\n",
              "}}\n",
              "\n",
              "                        })                };                            </script>        </div>\n",
              "</body>\n",
              "</html>"
            ]
          },
          "metadata": {}
        }
      ]
    },
    {
      "cell_type": "code",
      "source": [
        "topic_model.visualize_barchart(top_n_topics=10)\n",
        "topic_model.visualize_heatmap(n_clusters=10, width=1000, height=1000)"
      ],
      "metadata": {
        "colab": {
          "base_uri": "https://localhost:8080/",
          "height": 1000
        },
        "id": "kqOzgulN7oRt",
        "outputId": "035ad75b-ee4a-43af-a207-37b20fe67e42"
      },
      "execution_count": 70,
      "outputs": [
        {
          "output_type": "stream",
          "name": "stderr",
          "text": [
            "/usr/local/lib/python3.9/dist-packages/plotly/express/_imshow.py:354: DeprecationWarning:\n",
            "\n",
            "`np.bool` is a deprecated alias for the builtin `bool`. To silence this warning, use `bool` by itself. Doing this will not modify any behavior and is safe. If you specifically wanted the numpy scalar type, use `np.bool_` here.\n",
            "Deprecated in NumPy 1.20; for more details and guidance: https://numpy.org/devdocs/release/1.20.0-notes.html#deprecations\n",
            "\n"
          ]
        },
        {
          "output_type": "display_data",
          "data": {
            "text/html": [
              "<html>\n",
              "<head><meta charset=\"utf-8\" /></head>\n",
              "<body>\n",
              "    <div>            <script src=\"https://cdnjs.cloudflare.com/ajax/libs/mathjax/2.7.5/MathJax.js?config=TeX-AMS-MML_SVG\"></script><script type=\"text/javascript\">if (window.MathJax) {MathJax.Hub.Config({SVG: {font: \"STIX-Web\"}});}</script>                <script type=\"text/javascript\">window.PlotlyConfig = {MathJaxConfig: 'local'};</script>\n",
              "        <script src=\"https://cdn.plot.ly/plotly-2.8.3.min.js\"></script>                <div id=\"8fb8abdc-0c1e-47d6-89b2-5ec50ea92ed7\" class=\"plotly-graph-div\" style=\"height:1000px; width:1000px;\"></div>            <script type=\"text/javascript\">                                    window.PLOTLYENV=window.PLOTLYENV || {};                                    if (document.getElementById(\"8fb8abdc-0c1e-47d6-89b2-5ec50ea92ed7\")) {                    Plotly.newPlot(                        \"8fb8abdc-0c1e-47d6-89b2-5ec50ea92ed7\",                        [{\"coloraxis\":\"coloraxis\",\"name\":\"0\",\"x\":[\"0___\",\"1_fuck_lmao_fucking\",\"12_fuck_crap_fck\",\"16_agreed_right_heismauri\",\"19_lol_heh_lmao\",\"50_this_hmm_enthusiasts\",\"54_thank_thanks_ty\",\"56_bruh_bro_untag\",\"64_wtf_wth_wut\",\"72_boooooooo_booooo_wtffff\",\"2_smt_saramambotche_ratiosc...\",\"5_susanti_neeeeni_sweetsquote\",\"35_stanzobrand_orxarmy_yasy...\",\"63_tum_claro_vtnc\",\"3_access_academic_research\",\"13_days_changes_launch\",\"14_content_revenue_ads\",\"15_website_site_broken\",\"18_platform_killing_destroy...\",\"24_bots_bot_spam\",\"30_delete_remove_suspended\",\"31_allat_wen_playin\",\"32_upcoming_changes_immense\",\"41_spam_reduce_spamming\",\"44_money_sell_rent\",\"57_application_developer_ac...\",\"65_money_no_trossss\",\"71_users_affect_regular\",\"75_accounts_automated_bot\",\"4_tweets_day_tweeting\",\"11_app_uninstall_apps\",\"17_oauth_sms_user\",\"29_limit_limits_follow\",\"36_common_sd_matc\",\"38_earthquake_alerts_alert\",\"39_ecosystem_success_commit...\",\"47_consciousness_conscious_...\",\"49_replygpt_lawyer_hhhrrrrg...\",\"73_mastodon_administer_fact...\",\"76_tweetdeck_ho_stops\",\"6_month_pay_free\",\"20_changes_vote_change\",\"42_update_updates_menfess\",\"70_february_details_introdu...\",\"7_enthusiasm_spell_word\",\"21_enthusiasm_immensifies_ehm\",\"37_immense_enthusiasm_arms\",\"8_bots_bot_isadora\",\"26_stupid_silly_idiot\",\"40_decision_decisions_awful\",\"52_mebot_remember_tesv\",\"62_goodbye_bye_time\",\"66_losers_embarrassing_path...\",\"74_garbage_trash_ideas\",\"9_bethr_technical_pvtryan\",\"22_social_media_network\",\"23_speech_freedom_free\",\"34_ceo_fired_moron\",\"43_screen_alttextutil_party\",\"48_dev_devs_pvtryan\",\"51_ryan_pvt_bether\",\"58_trump_terrorist_paullomax\",\"59_tesla_crypto_rjcc\",\"61_blue_cheryl_benson\",\"67_developers_devs_trusting\",\"69_pronouns_rstevens_bio\",\"77_screenshot_possibilities...\",\"10_chapter_long_stop\",\"25_chalet_hasnt_dont\",\"27_hate_love_plug\",\"28_answer_saramambotche_dep...\",\"33_dick_suck_mouth\",\"46_admit_wrong_fetish\",\"53_idea_good_finally\",\"55_good_ok_great\",\"68_expensive_saramambiche_c...\",\"78_explain_means_translate\",\"79_ha_staggeringly_rebel\",\"45_ratio_ratiobot_dannolan\",\"60_luciascarlet_lucia_salav...\"],\"y\":[\"0___\",\"1_fuck_lmao_fucking\",\"12_fuck_crap_fck\",\"16_agreed_right_heismauri\",\"19_lol_heh_lmao\",\"50_this_hmm_enthusiasts\",\"54_thank_thanks_ty\",\"56_bruh_bro_untag\",\"64_wtf_wth_wut\",\"72_boooooooo_booooo_wtffff\",\"2_smt_saramambotche_ratiosc...\",\"5_susanti_neeeeni_sweetsquote\",\"35_stanzobrand_orxarmy_yasy...\",\"63_tum_claro_vtnc\",\"3_access_academic_research\",\"13_days_changes_launch\",\"14_content_revenue_ads\",\"15_website_site_broken\",\"18_platform_killing_destroy...\",\"24_bots_bot_spam\",\"30_delete_remove_suspended\",\"31_allat_wen_playin\",\"32_upcoming_changes_immense\",\"41_spam_reduce_spamming\",\"44_money_sell_rent\",\"57_application_developer_ac...\",\"65_money_no_trossss\",\"71_users_affect_regular\",\"75_accounts_automated_bot\",\"4_tweets_day_tweeting\",\"11_app_uninstall_apps\",\"17_oauth_sms_user\",\"29_limit_limits_follow\",\"36_common_sd_matc\",\"38_earthquake_alerts_alert\",\"39_ecosystem_success_commit...\",\"47_consciousness_conscious_...\",\"49_replygpt_lawyer_hhhrrrrg...\",\"73_mastodon_administer_fact...\",\"76_tweetdeck_ho_stops\",\"6_month_pay_free\",\"20_changes_vote_change\",\"42_update_updates_menfess\",\"70_february_details_introdu...\",\"7_enthusiasm_spell_word\",\"21_enthusiasm_immensifies_ehm\",\"37_immense_enthusiasm_arms\",\"8_bots_bot_isadora\",\"26_stupid_silly_idiot\",\"40_decision_decisions_awful\",\"52_mebot_remember_tesv\",\"62_goodbye_bye_time\",\"66_losers_embarrassing_path...\",\"74_garbage_trash_ideas\",\"9_bethr_technical_pvtryan\",\"22_social_media_network\",\"23_speech_freedom_free\",\"34_ceo_fired_moron\",\"43_screen_alttextutil_party\",\"48_dev_devs_pvtryan\",\"51_ryan_pvt_bether\",\"58_trump_terrorist_paullomax\",\"59_tesla_crypto_rjcc\",\"61_blue_cheryl_benson\",\"67_developers_devs_trusting\",\"69_pronouns_rstevens_bio\",\"77_screenshot_possibilities...\",\"10_chapter_long_stop\",\"25_chalet_hasnt_dont\",\"27_hate_love_plug\",\"28_answer_saramambotche_dep...\",\"33_dick_suck_mouth\",\"46_admit_wrong_fetish\",\"53_idea_good_finally\",\"55_good_ok_great\",\"68_expensive_saramambiche_c...\",\"78_explain_means_translate\",\"79_ha_staggeringly_rebel\",\"45_ratio_ratiobot_dannolan\",\"60_luciascarlet_lucia_salav...\"],\"z\":[[1.0,0.6460458133091362,0.5651984349003683,0.7185905492675702,0.5866354496015413,0.7421495481759827,0.5265723387022054,0.6262644119610786,0.5346093666129823,0.49077325626992585,0.49117454968352137,0.45737406723793794,0.4570015661815991,0.5326192826755878,0.44669572585453676,0.5888822851936282,0.5679189099593605,0.4592482756733681,0.5622647667448288,0.5628492823046783,0.5397927667077771,0.6190213770330286,0.5943290177801656,0.477352188894246,0.5570232819416854,0.5100599231809919,0.582775506176261,0.5730528768027711,0.5226092561355458,0.3980230856048637,0.4423406178214944,0.4027271480265132,0.4321420126755959,0.4348610274923241,0.37664929567431393,0.42477527463339226,0.4476336299400676,0.47751626114604273,0.41710995350631774,0.46844610023701594,0.6056571147093728,0.49615962302273536,0.5115301550111033,0.5236023802113985,0.4884558910558804,0.4957564332980938,0.5060283259640809,0.48978616204930714,0.48791985964590945,0.5358957795258901,0.528167178155108,0.5130512877378,0.5681283383223412,0.4543007473489191,0.5112299075043628,0.4745441297099043,0.4866274380661776,0.49967912014443394,0.48176201460932355,0.48320752023212143,0.4985683341368809,0.44777277483762723,0.45417788681780935,0.5047121278730433,0.4933853010928533,0.48082380101295674,0.5306719484386442,0.5500232848677775,0.5593183751531976,0.5657237050659694,0.5166503563694126,0.5139292682042438,0.5562389931943305,0.6052812625643631,0.6846382257523376,0.50204153238658,0.5736975434099967,0.61244044233234,0.2946078460033231,0.30356926808004614],[0.6460458133091362,1.0000000000000002,0.8654352968548881,0.727846577977125,0.779127394269894,0.7196299301586158,0.5787385765352515,0.7501769833565307,0.7178398045286223,0.6959117486929605,0.5572731003015327,0.5151230269574683,0.5067857513392053,0.5564826291656122,0.4917288396586573,0.5499981352575734,0.5257846453556207,0.5382233713898339,0.5955589123735533,0.6496217015242081,0.5358668607217878,0.6392839110909947,0.6008302567917363,0.4884932219015754,0.5672302540105524,0.4976345457742174,0.5936304635938798,0.5968969089341918,0.5932527251767403,0.48054987922854797,0.4226410709331744,0.4072173340228116,0.4847283559885661,0.4761327300692448,0.43570919187415047,0.44308426401431605,0.47402004569386247,0.5136291139442559,0.47316412641978445,0.5089597214168272,0.5689888403598276,0.5043704900917024,0.5009443254754246,0.5279631729585182,0.529995310933273,0.530875196995633,0.5327265495256003,0.6103376450301815,0.7076608123122115,0.6350132527642842,0.5702034384066822,0.5319198906376822,0.7369003565286526,0.5523067528803397,0.5917143454358822,0.5128588831547529,0.5084105803328488,0.5897228228578056,0.5147774067591044,0.5089434771743178,0.5747407762318248,0.5161102601930506,0.4976412351649505,0.5537029278765677,0.5156050887427366,0.5516100459850746,0.5784271946027413,0.6003780869620439,0.6501453545604798,0.6437369322056348,0.6333847867686485,0.6729826298291068,0.6868052229291757,0.7081961348897334,0.7071475621730949,0.5891711728690239,0.6560610210272699,0.6916145372196187,0.4060495605113038,0.3410844877419915],[0.5651984349003683,0.8654352968548881,0.9999999999999993,0.6360000854700756,0.5682868775733674,0.6072063365077482,0.540581894197057,0.6483216956474397,0.6151045859173135,0.6040174521474597,0.5093259631046071,0.4463217352019043,0.44218319327808087,0.48384681143752584,0.40994785418354074,0.4681466999503338,0.4380683794666631,0.4880327805841482,0.4871240730229715,0.5498141812063938,0.4550595227975627,0.524884941459202,0.4916691703499476,0.4079717197470083,0.4891915761533081,0.4300801679598172,0.49697918878231473,0.5057946583194742,0.5164976400568128,0.3643022526522485,0.34192521772780554,0.3360867326593442,0.4350177700736717,0.44288090845123673,0.39509870272398917,0.3835360053019047,0.3894674722417327,0.4529322727756515,0.4131809439639242,0.4212031777813342,0.520692628061725,0.4139488441708232,0.4501178561892676,0.4625946935416081,0.44484698112602616,0.428110038494968,0.44447797423076485,0.5213984138381977,0.5654461882947084,0.5612002638001855,0.49823100953822674,0.5062132820521192,0.6192033084104743,0.4585823535595299,0.5006778953153301,0.41767956570936093,0.43523240093436355,0.5064740762217187,0.4267190895043862,0.4511561848119968,0.48451873247813326,0.42764247341343986,0.4147126968111472,0.46109787283969494,0.46277403285686974,0.45728106472370234,0.47373677439609757,0.509406717374586,0.5679735157469268,0.5687864100403814,0.5000313854758464,0.5900471748600584,0.5641502861915345,0.6307336020449863,0.6218109581185367,0.5092153962771364,0.5640307028067827,0.5740178977886038,0.36263938400300816,0.3178402665692937],[0.7185905492675702,0.727846577977125,0.6360000854700756,1.0000000000000004,0.7207630067157076,0.8044010517492075,0.6215032134303808,0.7000468368651847,0.6434267161116931,0.5932946711717588,0.5970023952113334,0.5702210985496903,0.5562789716566818,0.5773184221844185,0.5047826509839055,0.6009363673363617,0.5357691033635559,0.5182250104364208,0.599934711227435,0.5934382738184083,0.5500523610343826,0.6299779553141533,0.6386888403600856,0.49231157573443995,0.562622462518278,0.5285424142228707,0.6033140534645159,0.6241712441117975,0.5922325157977641,0.4258052781902697,0.452737388753328,0.4249841081700987,0.5001353777606486,0.5270292023945888,0.4133345110598884,0.4778173127383207,0.5449078762572757,0.5218798326698703,0.5190079875531486,0.529339033091171,0.5846305072762601,0.5209140697463458,0.5315979061681789,0.5515553797472903,0.5413832182115672,0.5173379206862463,0.5813442840638234,0.5627166252029939,0.5966449116257982,0.6211973164376319,0.6109254716046598,0.5291590645259868,0.6094582691964969,0.538708189453017,0.5889555108354632,0.5041445528189046,0.511399438410045,0.5640797869422837,0.5434613573205573,0.5738516120775821,0.5957270046519254,0.5320053511113484,0.5387824287595777,0.5401532274253459,0.5536341825839259,0.5848115518014247,0.5768174126910531,0.5804734381990966,0.6259020220751155,0.5991946408208919,0.6205835346157147,0.5791603648530119,0.7245266380263979,0.7288645831631854,0.7058110419766211,0.5897572947143507,0.6726895056480704,0.7266250860411095,0.42228133057107076,0.3925068439219839],[0.5866354496015413,0.779127394269894,0.5682868775733674,0.7207630067157076,1.0000000000000009,0.7355538230081944,0.5382927206218082,0.6865391157535718,0.661794090904825,0.6894130527652466,0.5759211901021989,0.5406436533080232,0.5504756508465197,0.577544150331668,0.4070798364758704,0.49734101416044163,0.4551972806662027,0.4206700080279703,0.5266351118116526,0.5599476437567861,0.4872427671687958,0.5873170468264346,0.5454836449859124,0.4503179956033546,0.47412896141844013,0.43860210904388097,0.5152829354869652,0.5241554184373736,0.5034863367529547,0.4116650171077585,0.37664627968209957,0.3606913849724698,0.4173924601139497,0.43507166179985113,0.3571080222863512,0.3738574796446653,0.47110482462676057,0.47588482668447296,0.4319170978483494,0.49218286280417634,0.4683759794191745,0.46308883639011694,0.43726491825568725,0.47599553141206574,0.46480918672078253,0.47324383027640576,0.4819669051609651,0.5480522554821693,0.5624291066320295,0.5118327660932197,0.5531324939166493,0.49193785241555377,0.5716721783130753,0.4742213196945163,0.5546437058935568,0.44284000441913035,0.44886432216267363,0.529094761872269,0.47983991473294807,0.4780068130325378,0.5590232351758286,0.4838076032045464,0.5008584901267848,0.4930874956354323,0.4636835603495974,0.5321585595579172,0.5373273243210162,0.5296074225556942,0.6101212794893257,0.5058837053600521,0.5489069837905949,0.5220028225201018,0.63783462975543,0.6134854800481003,0.5978706830828271,0.5281430937192457,0.6117648178958801,0.6710246095007946,0.3926279203631876,0.3261886688651169],[0.7421495481759827,0.7196299301586158,0.6072063365077482,0.8044010517492075,0.7355538230081944,1.0000000000000004,0.6120227966072262,0.6943383300111958,0.6665629507524256,0.6018409028522462,0.5685489606937368,0.5216307820821761,0.5437419327962316,0.5560646219130706,0.5048569868393291,0.6050270217297913,0.5729365846261093,0.5202641186151472,0.6080335442467606,0.6142250112728438,0.5659078008191383,0.6268766028237307,0.6131048467004436,0.5056488787063603,0.5799386673298687,0.5577531958114905,0.594418599795649,0.6532330425758687,0.5963959924705461,0.4640089758278869,0.4856506769391209,0.46385813041356166,0.4641531355777704,0.4932008700392746,0.43446285629741654,0.47260798257993464,0.5081213588092848,0.54173200169486,0.47565491221790046,0.4980889335525585,0.5787396123447636,0.5163227400897576,0.5421170588523223,0.5643680136171274,0.5175040221304765,0.5177527768187986,0.5450220296439698,0.5637057419983202,0.5346351172977141,0.5755414063206973,0.5704712083640318,0.5418447570349842,0.5880405817285416,0.5103955593335707,0.6047901602577834,0.5074535254905294,0.4998941449773876,0.5595866667855096,0.5105700856820995,0.5470813240086274,0.5787610122189237,0.4957813418968983,0.5333767771821777,0.5274691692309247,0.5491748576384926,0.5658821086820713,0.5823331164928354,0.5876992996957547,0.6512950757476301,0.5829921379796723,0.6231472532483935,0.5663653980006865,0.6310992177520585,0.6844150552148999,0.7621283658331952,0.5659236028638335,0.610504208021666,0.6720087688461298,0.39804805248598324,0.3786715671892651],[0.5265723387022054,0.5787385765352515,0.540581894197057,0.6215032134303808,0.5382927206218082,0.6120227966072262,0.9999999999999998,0.6092030416540191,0.5912838903614159,0.45687292853376577,0.5309774194149357,0.4846887944087377,0.49821835990581076,0.5086205906021173,0.5525817260434474,0.5802062243082817,0.5214253830304214,0.6217028442288833,0.5710080778433144,0.555233886812936,0.5469858234353642,0.6152405704444003,0.5793904239743131,0.4746513377030821,0.5384362063611152,0.5262866533031106,0.5293444735974966,0.585729649814771,0.5528190410317493,0.45090539356939874,0.47842095170865695,0.47690320575157147,0.5135058278717952,0.4105731351746026,0.38508337662263725,0.48265301056147114,0.49317322206661457,0.5538573909865472,0.43381769418968985,0.5159634128348382,0.5718434562288242,0.49803851490008333,0.5618677293497467,0.5309153396513597,0.4499678301149669,0.4520780873478215,0.5245314196136277,0.5293242228970788,0.46152805239052674,0.4928737856999834,0.5246242005463515,0.5036477665933152,0.4943762230662911,0.43320993912635386,0.5420990447774131,0.44000953711796154,0.4426932084885631,0.5007280591038221,0.5071237213191506,0.5454575906552848,0.551239055478038,0.4039793707650572,0.4538962992111226,0.5292120880632891,0.4890247950907885,0.4552123827663327,0.575204113933097,0.5511111545847853,0.5375003406164163,0.559522471438251,0.5469857180998708,0.49685503505453366,0.5764132759155625,0.6371383146208736,0.6805590734364786,0.49103913265620636,0.5722573665736921,0.5910595890643195,0.4313331874439156,0.3635706241762564],[0.6262644119610786,0.7501769833565307,0.6483216956474397,0.7000468368651847,0.6865391157535718,0.6943383300111958,0.6092030416540191,1.0000000000000002,0.6615027998858514,0.6205056473863493,0.5664452726836837,0.5175222403452688,0.5716488853632896,0.6088645596700828,0.5360144366257266,0.6030671307112239,0.536892936576228,0.5617785471111338,0.6392657559808202,0.6460296702395595,0.593014312101831,0.6482620648294053,0.6109418284291859,0.5106853079265022,0.622085385415297,0.5376291312275047,0.6043589783646984,0.6118217669912802,0.6012317628343131,0.4692136039654079,0.48976019350737177,0.4736911537910573,0.486168079915454,0.5187622331788285,0.4183474920498572,0.407371661317773,0.48533448485422537,0.5227948846653689,0.5368126568893852,0.5474784048832253,0.5796755702950009,0.5456489664556533,0.5316459697381088,0.5681900705839396,0.5611441677690462,0.5628888673909656,0.5727285658718729,0.5895062238614157,0.6107872565517366,0.5988251942386127,0.5783145048401497,0.5922235182178023,0.6682665156690268,0.5654815811436096,0.641980266158938,0.5066650185115884,0.5324953711288531,0.6011859731494732,0.5300710007524203,0.5492230644288125,0.6184912417345979,0.529915534562647,0.5228597079500995,0.5978824410480422,0.5313964704713061,0.5488535009440485,0.595543749333231,0.621794476559913,0.6521576782727858,0.6821131975713003,0.5807838686216686,0.6351708130120384,0.6607742642130465,0.6936372242272197,0.6975853968047391,0.5970628431526479,0.6604360242807806,0.7083677056881015,0.394824258511968,0.32805158520181527],[0.5346093666129823,0.7178398045286223,0.6151045859173135,0.6434267161116931,0.661794090904825,0.6665629507524256,0.5912838903614159,0.6615027998858514,1.0000000000000002,0.6363113977549459,0.5460759196572753,0.49706184992130786,0.5158220706006491,0.5281602112375631,0.5199821420431121,0.5866268792929388,0.5317042260569959,0.5697365733486476,0.5879557779740334,0.59547537655034,0.5829601834647886,0.648184768882544,0.5838352332421356,0.4990658454179887,0.5680111914169077,0.5643253855285993,0.6093930629217753,0.5878809635081519,0.5659551244236953,0.5101583313358335,0.4958801476535482,0.4431373460231016,0.4484364237031711,0.5120829691975681,0.3987073461904335,0.4323625992282636,0.48170371340000695,0.5382240279402106,0.45582084632151043,0.5551411705456171,0.5473281543877894,0.5331374153740283,0.5520625684800077,0.5493339013358625,0.48872834048604064,0.4573944545975992,0.5127488173419094,0.5335431855041395,0.5901127323818748,0.5769645050329819,0.5179236325333153,0.5262732779671087,0.6044248547355389,0.535170637882029,0.5899120840789,0.509781099492073,0.4697311603362969,0.560146533729656,0.526736864193535,0.5165965955164932,0.5843122128751296,0.5113895821823453,0.5048129891723951,0.537347780711858,0.4964472646290288,0.48695780185104587,0.6133057437280576,0.5920080274558366,0.6059924737106845,0.579915611626013,0.6411374639663006,0.554478193018262,0.6356658917055906,0.6549963145185856,0.640404226344194,0.5779338414915084,0.6142699406647096,0.6598743437716661,0.389001099434716,0.35259074138988666],[0.49077325626992585,0.6959117486929605,0.6040174521474597,0.5932946711717588,0.6894130527652466,0.6018409028522462,0.45687292853376577,0.6205056473863493,0.6363113977549459,0.9999999999999998,0.5378869978025698,0.5133848448025631,0.5101856599577586,0.5267645984812233,0.34675265825844315,0.4532508207749604,0.41435832695863073,0.3660203157541246,0.49593660341744505,0.5285285684539778,0.4445269295385492,0.5480696046670905,0.4953865021502699,0.3882352088712876,0.4688851455700379,0.4249751450333157,0.4844359318013295,0.5035259524493071,0.4700699143662574,0.3939098441883563,0.36145267688852484,0.33976915395115426,0.4353970853899256,0.40998439138714604,0.3831328709231674,0.3536391984014269,0.42666727851273434,0.43063630957042487,0.40924556802109846,0.45100315249673584,0.43376589953220634,0.4509228796612069,0.39162769963129884,0.47156900185943296,0.4493269335366837,0.4329488230730637,0.4449116977182205,0.5250159090477196,0.5535285999297419,0.5318512865618966,0.49643520382701267,0.5290860213945721,0.6228406170209495,0.4969480012951463,0.5392911298685535,0.4269555078593217,0.4336124901124504,0.5138273649726095,0.4366213356564554,0.43680701694392976,0.5411313068824447,0.45805400783480665,0.45576668170945533,0.4924731851341815,0.4110306600272613,0.49542194816703156,0.4997430984826835,0.5300741672027292,0.5778461516680977,0.5192927691116542,0.5243627561005006,0.5694749974240065,0.5863755019140491,0.6193899954366496,0.561418005491019,0.5024839044795403,0.5866371550974561,0.6067008887098241,0.3669871174149033,0.33223423078449876],[0.49117454968352137,0.5572731003015327,0.5093259631046071,0.5970023952113334,0.5759211901021989,0.5685489606937368,0.5309774194149357,0.5664452726836837,0.5460759196572753,0.5378869978025698,1.0000000000000002,0.7630232872474572,0.7432619885628031,0.7570643178485309,0.6001215967857465,0.5988558239769083,0.5610537751855971,0.557807752841533,0.6072299380279145,0.6403850826133473,0.5670001108458473,0.6846451701589062,0.6101845967421384,0.5928399901917618,0.5708230061420547,0.6026133279924517,0.6032113526023022,0.6602056539050445,0.6748069189168392,0.5441850376655377,0.5276917815004978,0.5499714599025971,0.5526111113597747,0.5745970731774408,0.49732110340354263,0.4891505038174375,0.5755039872464008,0.6507147473248129,0.6222433254341093,0.579673358360265,0.5564691118485905,0.5206032199321617,0.5367579051565745,0.5991160940199728,0.5283508524535911,0.47273448473771706,0.5528437228277354,0.6431057570599843,0.5306999758897504,0.5302444763355076,0.6237064889574278,0.589292499667293,0.5673223777082175,0.5644722138108229,0.6670362083900956,0.6224459723207475,0.5465959573216459,0.6256379357793362,0.6098222728455889,0.6155737610794496,0.6340986478436371,0.6357635496786922,0.615892195396432,0.5578775128178597,0.6044643323624388,0.6405022410756285,0.6147604989726556,0.5737938184982915,0.754455938512534,0.5829618211499065,0.6605729061620813,0.6339273176449477,0.6634138902910827,0.644215222776682,0.6001937820755736,0.6833816273826252,0.7062924336567602,0.6708807416952142,0.5442230121522583,0.58965964304865],[0.45737406723793794,0.5151230269574683,0.4463217352019043,0.5702210985496903,0.5406436533080232,0.5216307820821761,0.4846887944087377,0.5175222403452688,0.49706184992130786,0.5133848448025631,0.7630232872474572,1.0000000000000002,0.7510575688852882,0.7521268746435831,0.5527631694809911,0.5406485006665742,0.5262998775862843,0.5359871546730337,0.5329917557147341,0.5790683761315322,0.5434118948254824,0.6749634550059992,0.5970333486191273,0.545052373525289,0.527816965943126,0.5571403223423472,0.574375911546909,0.6256135531230638,0.5785731378681928,0.5077296736061936,0.5014841854748104,0.5241089766312226,0.5031262813024253,0.45894786386990943,0.4917185071703628,0.4546748421273128,0.5571379718765967,0.6294604862118216,0.577983320597566,0.5472274230655958,0.536895300406381,0.4700838900225593,0.501014690633695,0.5576058467707806,0.5571570752883351,0.4977574305512603,0.5509760309973003,0.594432660878182,0.5045640579278521,0.5060902887170499,0.5828267615799874,0.5676919203848148,0.5258174998874068,0.5137298078712391,0.6367192428171411,0.5717178025663638,0.5679444498424128,0.6198381129744435,0.6042382760176096,0.5706878634631158,0.6216368240596795,0.6938721883157389,0.6321809381755563,0.5973445726386931,0.5520489942870594,0.7078489285154914,0.6174906132502648,0.5597922893347251,0.7176766062235236,0.5601458829604227,0.6217631588284604,0.5728472541143041,0.677182723817618,0.5859602350442403,0.5872368119152807,0.6385287446354364,0.7080866208308048,0.6503315355626627,0.42799751741760905,0.5869682605329245],[0.4570015661815991,0.5067857513392053,0.44218319327808087,0.5562789716566818,0.5504756508465197,0.5437419327962316,0.49821835990581076,0.5716488853632896,0.5158220706006491,0.5101856599577586,0.7432619885628031,0.7510575688852882,1.0000000000000007,0.6809573407668286,0.5303803333257163,0.5654029880349525,0.5039295581728012,0.530318065871303,0.5751386355622332,0.5675935391642122,0.5540610360475859,0.6509182091838025,0.5783842494396093,0.5312562662738042,0.5462050274099983,0.542943127654932,0.5753501381094838,0.6478474482327004,0.5745937246247335,0.46693545715047213,0.4737638986037778,0.5098916611815905,0.4859716064125982,0.4266377296951589,0.46527320934877636,0.4434736416420663,0.5398696594686339,0.6301744152532938,0.5729841853489512,0.5586646897092401,0.526681709280428,0.4960101793824371,0.5335727115067169,0.5329533629175386,0.543654937538761,0.47084618091466945,0.528956647229958,0.5429997199171803,0.5080553378403155,0.46694117318483086,0.5710982053523761,0.58937794547325,0.5241598904109246,0.5420017638299548,0.6390891008055972,0.5116615085900038,0.5321666413699613,0.6301111729391337,0.5479661664770639,0.5808378750093062,0.6115023420041108,0.6415094283269357,0.5997497571269961,0.5854684502641263,0.5733895373667787,0.6647204849271008,0.5844741487793075,0.5428226034552566,0.7108390420856092,0.5548601622668062,0.6251903483064845,0.5543466666342038,0.6470954614373221,0.6011624271246914,0.6085124692115973,0.6150201772205457,0.6725585007160074,0.6349283820935718,0.4252452148864305,0.5853560433373401],[0.5326192826755878,0.5564826291656122,0.48384681143752584,0.5773184221844185,0.577544150331668,0.5560646219130706,0.5086205906021173,0.6088645596700828,0.5281602112375631,0.5267645984812233,0.7570643178485309,0.7521268746435831,0.6809573407668286,0.9999999999999997,0.5939706633734476,0.5992717283018167,0.5838446888556656,0.5507951231699668,0.6193285976421268,0.590574551380666,0.5669414346895626,0.6743744028296583,0.6036610553270856,0.5575812869178973,0.5835858954338853,0.5626626440334297,0.6249743572553152,0.6190996486697897,0.6206422647163121,0.4822432427837188,0.4881687213066077,0.5261826230878958,0.516690840005301,0.5694676905816655,0.5154836931115411,0.45922728438660576,0.5628289310741543,0.5585653027322866,0.5937475559744418,0.5511326154035661,0.5673195453431845,0.5174322285923026,0.546939299235588,0.5614241476839326,0.5336311827728255,0.47248744649784447,0.5640620922166475,0.5778932235584823,0.4991926849876982,0.501227904917672,0.6083784225594218,0.5808519159483413,0.5529690647619927,0.5216080205746578,0.6556570681668401,0.6053411907313813,0.5699696720474454,0.6251115599323667,0.6378129311313376,0.5929815370440155,0.627947539788349,0.6168363723992879,0.6297075988318142,0.5950811070318816,0.579188274759015,0.6742607054135188,0.6269379868806721,0.5905037014342239,0.7007293899652806,0.5792971990660046,0.6401898828522525,0.5875199961767669,0.6617322040141258,0.6072289287575596,0.6039428429809948,0.6218973206689928,0.7044325856490895,0.6698258310003518,0.44873166128733094,0.6278155365157465],[0.44669572585453676,0.4917288396586573,0.40994785418354074,0.5047826509839055,0.4070798364758704,0.5048569868393291,0.5525817260434474,0.5360144366257266,0.5199821420431121,0.34675265825844315,0.6001215967857465,0.5527631694809911,0.5303803333257163,0.5939706633734476,0.9999999999999998,0.6974876873367728,0.7632814447595901,0.6787316936394545,0.659175998463113,0.6275191842155146,0.674565715202261,0.721628004616296,0.6860611196685027,0.6341286927768217,0.7177681679918115,0.7651165227033687,0.7017830457624886,0.7511668414425798,0.7145741276709695,0.5400483328979471,0.5883648579815772,0.6929763515410056,0.58336137430874,0.5350611765557222,0.47342245733214683,0.5813087480493094,0.5760873186554003,0.603089944151644,0.5814281766333638,0.5324178068592079,0.693783403680736,0.5815622126494261,0.5907698574965844,0.5834705177139944,0.5594300277022852,0.5159786011773609,0.6159829858729935,0.5385900277113839,0.4746367994462528,0.5655771359934083,0.5206580368897588,0.5032120974016401,0.5177607533334245,0.5570097594476444,0.6912384219193872,0.6820995504011353,0.6678201119070514,0.610627855352438,0.7058905372874024,0.635562864645999,0.6104610028680383,0.570187566207254,0.6609763130361097,0.6600690124321704,0.6284404777731325,0.614267448739646,0.6606533060449369,0.5786263115588126,0.5523239881342108,0.576127122436046,0.6564261697267135,0.604425851218974,0.5975068056929648,0.5753346752563688,0.6126381652565137,0.6359176655434304,0.663231323015639,0.619322348591074,0.4480612747410587,0.41891907507229864],[0.5888822851936282,0.5499981352575734,0.4681466999503338,0.6009363673363617,0.49734101416044163,0.6050270217297913,0.5802062243082817,0.6030671307112239,0.5866268792929388,0.4532508207749604,0.5988558239769083,0.5406485006665742,0.5654029880349525,0.5992717283018167,0.6974876873367728,1.0000000000000004,0.7326707963871418,0.6823144546138342,0.7675646772969767,0.6797548592662545,0.7036891696609712,0.7492942807963147,0.775527741405293,0.6350672543864505,0.7037321558969906,0.7626566019798984,0.6981145048872468,0.7441645031367471,0.6971662179637008,0.6462232802388679,0.6578429406238697,0.5920869445093678,0.6261469555609255,0.5131954555086355,0.5797531999748331,0.5973391021738887,0.597275249364841,0.6071714217667743,0.5625830027621559,0.6064780044897471,0.7792906038602401,0.8393485722782701,0.7574386386653198,0.7154924998778386,0.5739459881530152,0.544060401973338,0.6211139223661076,0.5821295072054815,0.5121953681894349,0.6482920968814165,0.6070708350490959,0.6278428376108571,0.5589787629654055,0.6083383091534086,0.694406122321438,0.6354982723307148,0.6372272578525753,0.6621142328531298,0.6458455620815244,0.7288949477107192,0.6448971128457395,0.5460146810696926,0.6154832979559772,0.646014286251775,0.7054993721523225,0.6027756259396871,0.7166750126545092,0.7457589996674852,0.6207175425154533,0.690166885015261,0.6699324905338195,0.6251586428991838,0.6375776138294578,0.6616002739681199,0.6628403077203926,0.580658874879379,0.6874759027486255,0.708566307718561,0.42067719645124546,0.4290707024804147],[0.5679189099593605,0.5257846453556207,0.4380683794666631,0.5357691033635559,0.4551972806662027,0.5729365846261093,0.5214253830304214,0.536892936576228,0.5317042260569959,0.41435832695863073,0.5610537751855971,0.5262998775862843,0.5039295581728012,0.5838446888556656,0.7632814447595901,0.7326707963871418,1.0,0.6943847590512893,0.710442247944622,0.6809214860526782,0.6890565616148469,0.7162048845122906,0.6570003202298644,0.7341509458317581,0.8113024464622514,0.7130857442635197,0.8075016404965554,0.7332186439626232,0.7126050767650817,0.590374724715192,0.624985310353771,0.6277299207730866,0.5492613194489178,0.47126270196842446,0.4926508647021556,0.6204340043059786,0.5522142244429048,0.6095529300158204,0.5878861364151884,0.5766990829269893,0.7207813789586042,0.6229305356739142,0.6105293423604141,0.5879348489539079,0.5726948176826404,0.5383503480401841,0.5999899532969681,0.5614412059915921,0.462461018653346,0.5881828995911985,0.5223764815482883,0.5144913501239039,0.540303778236115,0.568969855399206,0.6951883896809473,0.7439183931994133,0.6821325007190996,0.6413396766541446,0.6580069212196855,0.6554652268193567,0.6111981125688286,0.5775543996840995,0.638414562838197,0.6566920235937,0.6357281029677695,0.6084710345733252,0.6351273830035273,0.618972089527412,0.55171022258497,0.6262015015195033,0.6736043519554205,0.6289955809341419,0.5974601671999963,0.601804738905214,0.6385333262194164,0.6261797554789876,0.6824756757117022,0.6554009450893026,0.4652916039414787,0.37402589560470756],[0.4592482756733681,0.5382233713898339,0.4880327805841482,0.5182250104364208,0.4206700080279703,0.5202641186151472,0.6217028442288833,0.5617785471111338,0.5697365733486476,0.3660203157541246,0.557807752841533,0.5359871546730337,0.530318065871303,0.5507951231699668,0.6787316936394545,0.6823144546138342,0.6943847590512893,0.9999999999999998,0.6726587269425883,0.734047239886114,0.7144594814444827,0.656753496654003,0.6331355810491974,0.6593786248694229,0.6516866848128374,0.6648835269171688,0.6345112154189171,0.6582980311773605,0.6933563727529601,0.5298236888908676,0.6451929697297855,0.622300688044485,0.5438559118422789,0.47180988182906636,0.5184241260008038,0.5544482043483624,0.5180428770646898,0.6157947217714546,0.5375173915334452,0.558179025686353,0.6329050306156847,0.6114881470987724,0.6604041214098134,0.5660164799211194,0.5249497827817334,0.48779719981809766,0.5791826067266048,0.6381690207622273,0.5500845611073307,0.5629392695987676,0.550862234119686,0.4950421283851916,0.5445119666795465,0.5514927665140845,0.6394653206406712,0.6272035143362691,0.5603433218102962,0.5737841842297293,0.6103063652531358,0.6456147966572541,0.5947772272464316,0.5472039549479619,0.5862282181148392,0.5965983931032575,0.5599818224366302,0.5524678806978152,0.670981169685481,0.6225249238097265,0.5783871111530831,0.6360875355808017,0.6424401544442813,0.6029307312112135,0.6165667101763529,0.6480007319604499,0.6259447123278665,0.5797463099454411,0.6275672606646963,0.6592246505535424,0.437123835992669,0.4125697765757199],[0.5622647667448288,0.5955589123735533,0.4871240730229715,0.599934711227435,0.5266351118116526,0.6080335442467606,0.5710080778433144,0.6392657559808202,0.5879557779740334,0.49593660341744505,0.6072299380279145,0.5329917557147341,0.5751386355622332,0.6193285976421268,0.659175998463113,0.7675646772969767,0.710442247944622,0.6726587269425883,1.0000000000000007,0.6601666627655038,0.6700181539584305,0.7031933648113065,0.6785481251329007,0.6357456122194025,0.6770140261460499,0.7412827104938872,0.699242009051379,0.6845587572192484,0.6571738759209875,0.5134463855293683,0.6456247667388549,0.5539449472368324,0.5639902835061762,0.4935565132724128,0.5355023541453434,0.6215653312140912,0.5942700112881625,0.5760499634826726,0.5524525031722758,0.5786443334239877,0.6588734007451631,0.6489941981125122,0.6309776083975149,0.6020744988815199,0.5867824314646212,0.535460799800592,0.6008863617712698,0.5928943710955129,0.5406827059552706,0.6257052907281677,0.5738376200277922,0.6059883836209667,0.6073283181759994,0.6374608843052417,0.6949434924521916,0.681681792696464,0.6227681496347603,0.6260512008555006,0.6463717651840757,0.7269030891689832,0.6378622936666287,0.5745652024681169,0.6132888105860733,0.6289647476935347,0.693046015434613,0.6321308165895589,0.6767101028843074,0.6953994393203178,0.6193489106509105,0.7066036549969901,0.6628729932505419,0.5984390727230748,0.6492266448649835,0.6563353610879861,0.6770273498569044,0.6176242878095468,0.6898543593753657,0.7154080156395148,0.46352730549551535,0.4386374174279061],[0.5628492823046783,0.6496217015242081,0.5498141812063938,0.5934382738184083,0.5599476437567861,0.6142250112728438,0.555233886812936,0.6460296702395595,0.59547537655034,0.5285285684539778,0.6403850826133473,0.5790683761315322,0.5675935391642122,0.590574551380666,0.6275191842155146,0.6797548592662545,0.6809214860526782,0.734047239886114,0.6601666627655038,1.0000000000000007,0.742807319233479,0.6850374744202707,0.6589109474204031,0.7991473305889796,0.663645344901069,0.6656682478213789,0.641648558245078,0.705182923262639,0.8481349192029195,0.6416021659586919,0.6000361744511069,0.621950341126366,0.5953727157831623,0.49699794757290655,0.5578565788943849,0.5438899479870781,0.5541856222140873,0.6242933903363863,0.5870645597229078,0.5826086677369438,0.6434463490277778,0.6229885064280842,0.6267680238910889,0.5846817796637018,0.574965925632326,0.5390995369755484,0.5760705328716513,0.9044254765876332,0.630620963302688,0.5948414311714949,0.6824114695677856,0.5608381110585381,0.6553136295185633,0.5996898478156185,0.6535899259488944,0.6198610509945985,0.5906876099699797,0.6551846767105587,0.6344193084395627,0.6579628979071118,0.641137720888439,0.635912236341357,0.6180426398137513,0.6029464611916602,0.6021272860698897,0.6194681204181804,0.7047347864048942,0.6661227147033099,0.6817989881697781,0.6898420088030681,0.7131463234944084,0.704840594851827,0.6663352739608793,0.7093319221541607,0.6477757437894766,0.6019518392964374,0.7075337352432547,0.681545972602347,0.4542744766844189,0.4137113541586142],[0.5397927667077771,0.5358668607217878,0.4550595227975627,0.5500523610343826,0.4872427671687958,0.5659078008191383,0.5469858234353642,0.593014312101831,0.5829601834647886,0.4445269295385492,0.5670001108458473,0.5434118948254824,0.5540610360475859,0.5669414346895626,0.674565715202261,0.7036891696609712,0.6890565616148469,0.7144594814444827,0.6700181539584305,0.742807319233479,1.0000000000000002,0.7033527804454729,0.6364769851760954,0.68765899819108,0.7064875184027364,0.7194701559127186,0.66850388360981,0.7137466051718141,0.7566344922505076,0.5630962340478063,0.6540108552927966,0.6665954026291927,0.606048523472035,0.4866470632444896,0.5083217738672428,0.5602991433686471,0.5548822909098042,0.604923137254772,0.5443351926575584,0.5504108752074489,0.6749705413816788,0.7022768711958998,0.6915800758553643,0.5718037713096046,0.506053467129079,0.4775050527394718,0.5763647259319165,0.6010531225744824,0.5344011832625235,0.6080486100336018,0.5868597544747434,0.6216058858020458,0.6057246035189596,0.6013091704524477,0.6385720039911118,0.5861171278204513,0.6081104785433018,0.6538274089241156,0.6115012163741976,0.6571289500659978,0.6227838459376676,0.5774530021041093,0.5959014233122104,0.5946328773840396,0.5464149090993716,0.5988888560232583,0.6997485125687448,0.7188433469404107,0.6286241317165575,0.6381633055979462,0.6610046497222348,0.6315836608442951,0.6415571014184758,0.6329973780498848,0.653708548715236,0.5678658426375636,0.68223543203987,0.6532375611191596,0.43271658961828297,0.4060086517171372],[0.6190213770330286,0.6392839110909947,0.524884941459202,0.6299779553141533,0.5873170468264346,0.6268766028237307,0.6152405704444003,0.6482620648294053,0.648184768882544,0.5480696046670905,0.6846451701589062,0.6749634550059992,0.6509182091838025,0.6743744028296583,0.721628004616296,0.7492942807963147,0.7162048845122906,0.656753496654003,0.7031933648113065,0.6850374744202707,0.7033527804454729,1.0,0.792944314956866,0.6254651826882756,0.7386070793757218,0.6970864958135062,0.743476461234559,0.7618247658244712,0.6897680267283058,0.6071317244991101,0.5860018927643083,0.5863021032198745,0.6377894285427845,0.5391984127552393,0.5720435292533846,0.5875258029953787,0.6353806144941254,0.6410745581856166,0.6164826787900556,0.6244564401994035,0.7155818190644432,0.650119244688532,0.6500030421089931,0.6586659243289387,0.6713056997937414,0.6349600832485025,0.7059786519259588,0.6135483731781866,0.5800029781487616,0.6482478958319668,0.6200198900306138,0.6676784133243296,0.6593150243049603,0.6188878620417698,0.7323674128630994,0.6851280147837528,0.693145311081857,0.6508983918552094,0.6892336874297669,0.651216111042024,0.6964675414444754,0.639113884709956,0.6422495397821538,0.6718719830946174,0.649056223499646,0.6777436730994186,0.7037896858520957,0.7532981789859441,0.6943607749931104,0.7291796009594942,0.7060574095231391,0.6899873085100918,0.6968903707602154,0.6940279219425998,0.7604651415826917,0.670769965922857,0.7749789106885886,0.774135417843266,0.4724546706420848,0.49597664767484073],[0.5943290177801656,0.6008302567917363,0.4916691703499476,0.6386888403600856,0.5454836449859124,0.6131048467004436,0.5793904239743131,0.6109418284291859,0.5838352332421356,0.4953865021502699,0.6101845967421384,0.5970333486191273,0.5783842494396093,0.6036610553270856,0.6860611196685027,0.775527741405293,0.6570003202298644,0.6331355810491974,0.6785481251329007,0.6589109474204031,0.6364769851760954,0.792944314956866,1.0,0.589254062944432,0.6555775615078853,0.701836626920743,0.6880375425837139,0.7489287635567524,0.6631602037226729,0.5971151230948579,0.5386688651241747,0.5328211367038025,0.606513686439595,0.5107464521490876,0.5777514063612962,0.6020670059758602,0.6399364806879664,0.5932120611674554,0.586302324592274,0.6193875084004954,0.6987141521921927,0.7181371692515829,0.6912638775759576,0.7086456907453997,0.805201066595103,0.7756342750356748,0.8358372562981247,0.5920448752727088,0.5669804444740826,0.6578933555228029,0.6076825412543468,0.6021911250304565,0.5950239050566895,0.6164089669597683,0.6970822149567562,0.6349816921044071,0.6503777636537995,0.6458918255449997,0.6300066861689843,0.6090229461883068,0.6362823491068926,0.6193642048852337,0.648726191474831,0.664284878640383,0.6109327610980219,0.6492202934651745,0.7067514376486551,0.6989054165522062,0.644370303277831,0.6719433757076816,0.6688156114916693,0.6598374192416385,0.7080671020099365,0.6795223781088389,0.7111939232878806,0.6454073123069017,0.7167379200532733,0.7656162032325475,0.46093471648939877,0.4402448955787901],[0.477352188894246,0.4884932219015754,0.4079717197470083,0.49231157573443995,0.4503179956033546,0.5056488787063603,0.4746513377030821,0.5106853079265022,0.4990658454179887,0.3882352088712876,0.5928399901917618,0.545052373525289,0.5312562662738042,0.5575812869178973,0.6341286927768217,0.6350672543864505,0.7341509458317581,0.6593786248694229,0.6357456122194025,0.7991473305889796,0.68765899819108,0.6254651826882756,0.589254062944432,1.0000000000000002,0.6518716841584132,0.6512151199081733,0.6620950386147207,0.6651302595964176,0.7120321043584283,0.6293208597782192,0.6002611912869615,0.6121020379123351,0.5599084990248595,0.4607162319360838,0.5132080560676721,0.5220053971473608,0.4803394136551039,0.6182154650797076,0.5661461077637215,0.5437397104573939,0.606755421260357,0.5802171293794128,0.5461595417616656,0.5160602606809103,0.5120004819130487,0.47000551067419416,0.5130359803714822,0.6488614006756532,0.4926179101385335,0.5292323821882469,0.5093110741640208,0.4308503383668758,0.556703130443523,0.5611082004920268,0.6408373146623764,0.6490495918715908,0.539373805579008,0.5715576924026472,0.5797890655453234,0.5956219162899683,0.54394500688946,0.5724914147778959,0.6055073847116574,0.5245726656795535,0.577560257086595,0.5481104660673437,0.6012110914877841,0.5537975166816889,0.5780916114573595,0.6084266891509398,0.6282538240926123,0.599597408201818,0.5942661832180506,0.6014006882891973,0.552954282078479,0.5804667104547457,0.6313370314876188,0.6037371657944037,0.46007029632774665,0.3849273976697236],[0.5570232819416854,0.5672302540105524,0.4891915761533081,0.562622462518278,0.47412896141844013,0.5799386673298687,0.5384362063611152,0.622085385415297,0.5680111914169077,0.4688851455700379,0.5708230061420547,0.527816965943126,0.5462050274099983,0.5835858954338853,0.7177681679918115,0.7037321558969906,0.8113024464622514,0.6516866848128374,0.6770140261460499,0.663645344901069,0.7064875184027364,0.7386070793757218,0.6555775615078853,0.6518716841584132,1.0,0.6890496561901783,0.8682808858678169,0.7133361367772211,0.6750326808726527,0.5265800863958573,0.5733089399549343,0.6153206670335023,0.5564076424835737,0.4912847041026934,0.49204703383179726,0.590179527701167,0.5319911096026808,0.5849047786396793,0.5884433419241085,0.5195187622111015,0.7461627697526584,0.6497653059535158,0.6134747035561199,0.5814114515888117,0.6062553217674633,0.5746041191674022,0.6019732821820554,0.5258459224125334,0.5089987224848571,0.627346317991443,0.560061885091658,0.6457973243771052,0.6000882062509363,0.576106547995948,0.6769210901475493,0.6292581804677382,0.6421685876845689,0.6590808426499258,0.6131994731365547,0.6290489844220757,0.6610339670641665,0.5950634803680837,0.6633516320000581,0.6921978547939739,0.6305606623118447,0.6021428072240491,0.6570846000181654,0.6996596422519492,0.6168433135685136,0.724344236553,0.7030129092651844,0.6860964343478562,0.6282168027805317,0.6287439317267549,0.6915312243981948,0.704976043831461,0.6888701054590354,0.6778546702354344,0.4294331442453822,0.3939549906284635],[0.5100599231809919,0.4976345457742174,0.4300801679598172,0.5285424142228707,0.43860210904388097,0.5577531958114905,0.5262866533031106,0.5376291312275047,0.5643253855285993,0.4249751450333157,0.6026133279924517,0.5571403223423472,0.542943127654932,0.5626626440334297,0.7651165227033687,0.7626566019798984,0.7130857442635197,0.6648835269171688,0.7412827104938872,0.6656682478213789,0.7194701559127186,0.6970864958135062,0.701836626920743,0.6512151199081733,0.6890496561901783,1.0000000000000004,0.6703307473045205,0.740532230008735,0.7152147159331905,0.5268610442224375,0.7344316767704805,0.6935396481519025,0.6230232497419746,0.4945158019576883,0.5423580141603539,0.6634866053298782,0.5972294331583552,0.610903109953829,0.5786773452208855,0.5297541958799727,0.6478857122411498,0.6376437009215055,0.6526467479814267,0.6183181455004092,0.5507698107214216,0.4991252399772515,0.6055379877359186,0.5803546328085618,0.4969749546358957,0.630619821772801,0.5576325891615004,0.5523511598826885,0.5541276703788236,0.5959263975778547,0.7110148580580403,0.6185815571319022,0.6157536841559023,0.6474449007717218,0.675194143943564,0.7715160825985258,0.6178311535703476,0.5720456302687834,0.6420734609954746,0.6165731581127706,0.7900395929603311,0.5795323797340461,0.6860904763384309,0.63013520969011,0.5951106380778415,0.5975980948983781,0.6567580285625599,0.6223758108568851,0.6125855547179081,0.6346919450704775,0.6290190401581923,0.5808936850150246,0.654690905328411,0.6294260618906987,0.44724357665008974,0.4184698540982976],[0.582775506176261,0.5936304635938798,0.49697918878231473,0.6033140534645159,0.5152829354869652,0.594418599795649,0.5293444735974966,0.6043589783646984,0.6093930629217753,0.4844359318013295,0.6032113526023022,0.574375911546909,0.5753501381094838,0.6249743572553152,0.7017830457624886,0.6981145048872468,0.8075016404965554,0.6345112154189171,0.699242009051379,0.641648558245078,0.66850388360981,0.743476461234559,0.6880375425837139,0.6620950386147207,0.8682808858678169,0.6703307473045205,0.9999999999999997,0.7168671356427285,0.6712876947672972,0.547593987312774,0.5645616066963011,0.578258173255537,0.5276881691303755,0.4955503058897751,0.5188301914163801,0.5793938242035539,0.5691258121877967,0.5923500685845103,0.6157636485678468,0.5545752943972311,0.7433587365409606,0.6289282520096049,0.5879634974748704,0.5893175844769974,0.6456791477205315,0.5952928404378328,0.6562437692287066,0.537120029525845,0.5409880102857696,0.6405092068851217,0.5731982130495652,0.5890771739458497,0.6086743401052177,0.6234953247455245,0.6835244556489569,0.6907834730771548,0.7136614693400791,0.6450588636878634,0.6256874811625763,0.623481754344196,0.6309087776998408,0.6469970168831873,0.69677888306155,0.672424744732436,0.6613030871769416,0.6502998674165585,0.6493482558377377,0.673485555926387,0.6453475549097272,0.6991922616314878,0.7046789823740034,0.6860187274618981,0.6588455071878925,0.6406495581896696,0.6837149796601927,0.7296783330129635,0.7150107559252941,0.7415161996584669,0.4556090336573375,0.4236218054187574],[0.5730528768027711,0.5968969089341918,0.5057946583194742,0.6241712441117975,0.5241554184373736,0.6532330425758687,0.585729649814771,0.6118217669912802,0.5878809635081519,0.5035259524493071,0.6602056539050445,0.6256135531230638,0.6478474482327004,0.6190996486697897,0.7511668414425798,0.7441645031367471,0.7332186439626232,0.6582980311773605,0.6845587572192484,0.705182923262639,0.7137466051718141,0.7618247658244712,0.7489287635567524,0.6651302595964176,0.7133361367772211,0.740532230008735,0.7168671356427285,1.0,0.758896221119804,0.6182696930900153,0.5954073465563945,0.6556935898310832,0.6030796854043737,0.550783240637283,0.5898343361783602,0.6173046013411086,0.6421297725739685,0.6485834685331905,0.6064878862317323,0.5933536361790477,0.674402792866504,0.6797465472328619,0.6429034205397274,0.6261397387362824,0.6393230395821086,0.5913652060146395,0.6533120826748682,0.6275372964698953,0.5802192612290253,0.6466158374464863,0.5918452995689829,0.575832041812134,0.6264225435736294,0.5884730863254112,0.7406913572373335,0.7172347563410244,0.6332023593521734,0.6767543976086985,0.6925536509555457,0.6850557812654559,0.6561005267681155,0.6489505383534021,0.6780381392505039,0.704794010110001,0.7097062324682201,0.7152968184680806,0.7016939348866679,0.6545164312230172,0.6726424606097521,0.6823493497730768,0.7008974804166532,0.6752033755040506,0.6847039688045465,0.6753928488366367,0.705029587598707,0.6255199513976533,0.7144509593403878,0.6892139652015026,0.464446927563668,0.4635798532792875],[0.5226092561355458,0.5932527251767403,0.5164976400568128,0.5922325157977641,0.5034863367529547,0.5963959924705461,0.5528190410317493,0.6012317628343131,0.5659551244236953,0.4700699143662574,0.6748069189168392,0.5785731378681928,0.5745937246247335,0.6206422647163121,0.7145741276709695,0.6971662179637008,0.7126050767650817,0.6933563727529601,0.6571738759209875,0.8481349192029195,0.7566344922505076,0.6897680267283058,0.6631602037226729,0.7120321043584283,0.6750326808726527,0.7152147159331905,0.6712876947672972,0.758896221119804,1.0000000000000007,0.5967261855643139,0.6332868921877541,0.6987440878742377,0.5725757917694578,0.5975441770086377,0.5382227941538871,0.5758617619404424,0.6004288358992067,0.6091273004272919,0.6047980155433591,0.5981734182313159,0.6646789233686207,0.6110671114211362,0.6252104001511253,0.5943015567078229,0.5648276234029547,0.5083506715118334,0.5769368010727693,0.8168119612485765,0.604267120308531,0.5750174245744445,0.6649661762497369,0.565322136816778,0.6048436005510578,0.6008307308309118,0.6985542912900067,0.6516367484345595,0.6003354169347774,0.6755236869951615,0.686167087087711,0.6978566406403643,0.6417219339978097,0.5893962633532974,0.6527472900859739,0.6178603287670404,0.6226096640238078,0.6383502676395976,0.6850585269144185,0.641691235713986,0.6584538206511354,0.6600476640422694,0.6656719000144143,0.66963920901342,0.6414459271247728,0.688806890621853,0.6484607917138028,0.614691804269871,0.7199270406655426,0.674116610150501,0.4875225230578569,0.4393108293556761],[0.3980230856048637,0.48054987922854797,0.3643022526522485,0.4258052781902697,0.4116650171077585,0.4640089758278869,0.45090539356939874,0.4692136039654079,0.5101583313358335,0.3939098441883563,0.5441850376655377,0.5077296736061936,0.46693545715047213,0.4822432427837188,0.5400483328979471,0.6462232802388679,0.590374724715192,0.5298236888908676,0.5134463855293683,0.6416021659586919,0.5630962340478063,0.6071317244991101,0.5971151230948579,0.6293208597782192,0.5265800863958573,0.5268610442224375,0.547593987312774,0.6182696930900153,0.5967261855643139,1.0,0.5073061808235234,0.5090759363036694,0.6250817361529779,0.4140535858923326,0.5258066445356722,0.44426385083712683,0.44862505268737835,0.6381443021477746,0.4626167469883039,0.690882614857017,0.5737851913645216,0.5530430380830323,0.546463432122077,0.5955830136170124,0.4800452024383977,0.46221781744218593,0.4787448008741999,0.540759241828322,0.4687021000236521,0.43918243118835276,0.5074241671882824,0.44998353101595506,0.4819661767043596,0.48857092101158095,0.5476402687382401,0.6251247855069948,0.5506685413053266,0.5303595188602308,0.5392330264754195,0.48713378147022646,0.5396665080968744,0.5205887035918043,0.484476438303602,0.5258334015244185,0.4968816932019358,0.4940354885864658,0.5827396196068406,0.5418165529037269,0.5598080834823789,0.5111895621573245,0.5835335836329316,0.5139576849521043,0.5121435010044184,0.5043866902593124,0.5552808440547812,0.46405796353432205,0.5504177522143914,0.5519826018602452,0.3430463703305515,0.3719933945772178],[0.4423406178214944,0.4226410709331744,0.34192521772780554,0.452737388753328,0.37664627968209957,0.4856506769391209,0.47842095170865695,0.48976019350737177,0.4958801476535482,0.36145267688852484,0.5276917815004978,0.5014841854748104,0.4737638986037778,0.4881687213066077,0.5883648579815772,0.6578429406238697,0.624985310353771,0.6451929697297855,0.6456247667388549,0.6000361744511069,0.6540108552927966,0.5860018927643083,0.5386688651241747,0.6002611912869615,0.5733089399549343,0.7344316767704805,0.5645616066963011,0.5954073465563945,0.6332868921877541,0.5073061808235234,1.0,0.7045389342577892,0.49122353633757637,0.4169143718050414,0.5133140480747705,0.5142511244495005,0.4603612183735471,0.5329738888112268,0.5002385179535276,0.5262794156395604,0.5796170420238043,0.5398868317999368,0.6168534715018461,0.5143069577418609,0.4450883474597337,0.4085461177460409,0.45934998966331264,0.5247378661474662,0.4384426064414059,0.4800952428820342,0.517172519727835,0.5043618853471667,0.4514565171938987,0.50284359554971,0.5480081302058937,0.5684713067524025,0.5194745863259025,0.516048428341644,0.6260691062419486,0.5817041531231317,0.49070824047123296,0.46618381713719775,0.5080829534046398,0.507935792462575,0.5749813071179701,0.43405003981366047,0.6102949630934229,0.565008805953242,0.5267799890183047,0.5553244419264128,0.5399024676130599,0.5144239787521021,0.4758703937916165,0.5637905506836766,0.5167430641951495,0.4717076098948577,0.541563004720079,0.5556547675027228,0.37537342899919207,0.37497140384800626],[0.4027271480265132,0.4072173340228116,0.3360867326593442,0.4249841081700987,0.3606913849724698,0.46385813041356166,0.47690320575157147,0.4736911537910573,0.4431373460231016,0.33976915395115426,0.5499714599025971,0.5241089766312226,0.5098916611815905,0.5261826230878958,0.6929763515410056,0.5920869445093678,0.6277299207730866,0.622300688044485,0.5539449472368324,0.621950341126366,0.6665954026291927,0.5863021032198745,0.5328211367038025,0.6121020379123351,0.6153206670335023,0.6935396481519025,0.578258173255537,0.6556935898310832,0.6987440878742377,0.5090759363036694,0.7045389342577892,1.0000000000000007,0.5335445073516957,0.4392623758793476,0.4880277849853688,0.47490867887643473,0.5062824568804417,0.5851380345392665,0.5005603543686334,0.4840954139784849,0.595807640978812,0.49790418145914117,0.521611385488613,0.4956565850034149,0.46282299064688653,0.4326816007857041,0.46290994051854106,0.5304468354399827,0.3934274791693819,0.42763684591704276,0.48444376963346136,0.4866859858611098,0.40486521801388925,0.45304821941109086,0.5835478100752396,0.5336357380481549,0.5271275320279465,0.5160835551975567,0.6250190940889493,0.5544915329724138,0.47264290328040426,0.5109819088046128,0.6058282978911427,0.5387185259657521,0.5297704335554334,0.49359537991005004,0.588723074835976,0.5312111188952271,0.5187235293355614,0.5197080456496447,0.5713457515511773,0.5363816199282809,0.49847245915214045,0.5497359888796987,0.546228487238618,0.48580391748210683,0.5815230078333409,0.5215562851148806,0.37700102894796683,0.3761736524453544],[0.4321420126755959,0.4847283559885661,0.4350177700736717,0.5001353777606486,0.4173924601139497,0.4641531355777704,0.5135058278717952,0.486168079915454,0.4484364237031711,0.4353970853899256,0.5526111113597747,0.5031262813024253,0.4859716064125982,0.516690840005301,0.58336137430874,0.6261469555609255,0.5492613194489178,0.5438559118422789,0.5639902835061762,0.5953727157831623,0.606048523472035,0.6377894285427845,0.606513686439595,0.5599084990248595,0.5564076424835737,0.6230232497419746,0.5276881691303755,0.6030796854043737,0.5725757917694578,0.6250817361529779,0.49122353633757637,0.5335445073516957,1.0,0.4410086032032515,0.461946051296486,0.4903335461165512,0.5068487984320246,0.5326233061305866,0.5290459171490905,0.5314954599964425,0.5458639280083076,0.5889535478118619,0.5452504850627475,0.5199218547814888,0.4706661923846571,0.4518076240678759,0.5392586764978607,0.5256767006087147,0.44878853845991706,0.49406424656267034,0.5021756159289972,0.4633742980345218,0.45179700720544114,0.4471726758403458,0.5432863524850349,0.5030515835096674,0.49037475983966455,0.5111991185947619,0.5384683185382761,0.5172542815374317,0.5725501454219517,0.48171333165741437,0.5165107720880535,0.5376614537167426,0.5182996083691956,0.48315029872500187,0.5972303817805922,0.6394713316513218,0.5342284739969925,0.5355487866657047,0.583473489384865,0.5551724272026936,0.576928547475865,0.5691613470322952,0.5950580120169744,0.4751921241175505,0.5867121676794533,0.5709446005353,0.49839763736661014,0.3502844970890598],[0.4348610274923241,0.4761327300692448,0.44288090845123673,0.5270292023945888,0.43507166179985113,0.4932008700392746,0.4105731351746026,0.5187622331788285,0.5120829691975681,0.40998439138714604,0.5745970731774408,0.45894786386990943,0.4266377296951589,0.5694676905816655,0.5350611765557222,0.5131954555086355,0.47126270196842446,0.47180988182906636,0.4935565132724128,0.49699794757290655,0.4866470632444896,0.5391984127552393,0.5107464521490876,0.4607162319360838,0.4912847041026934,0.4945158019576883,0.4955503058897751,0.550783240637283,0.5975441770086377,0.4140535858923326,0.4169143718050414,0.4392623758793476,0.4410086032032515,1.0,0.40355166383771857,0.42108201991216043,0.48060907034668177,0.48026034356396907,0.5081198370139219,0.48202446096646545,0.49099661047294035,0.4474223089970738,0.4569011162790892,0.4759526593020155,0.4334145571328356,0.3709446637155956,0.4618128783573826,0.4146475433211969,0.4852032045313307,0.45520299718136137,0.4514879635977481,0.44004053987860625,0.4837959163310451,0.5265262350607249,0.5616296121159652,0.5496562617415839,0.4722856376702285,0.48521243549718884,0.5321713593835586,0.5013588290719663,0.5696414324915273,0.4623092122005912,0.5374061534676255,0.5166834245428025,0.46322095587035095,0.5035724469930942,0.5238494174054352,0.46847906441213544,0.5391610610553639,0.5310528442458846,0.5140931813983971,0.513753790110375,0.5655030218808302,0.5119601170750316,0.5107132985437481,0.5676019079340187,0.5739790030428688,0.5721317522291165,0.4238390989838714,0.3200559897910834],[0.37664929567431393,0.43570919187415047,0.39509870272398917,0.4133345110598884,0.3571080222863512,0.43446285629741654,0.38508337662263725,0.4183474920498572,0.3987073461904335,0.3831328709231674,0.49732110340354263,0.4917185071703628,0.46527320934877636,0.5154836931115411,0.47342245733214683,0.5797531999748331,0.4926508647021556,0.5184241260008038,0.5355023541453434,0.5578565788943849,0.5083217738672428,0.5720435292533846,0.5777514063612962,0.5132080560676721,0.49204703383179726,0.5423580141603539,0.5188301914163801,0.5898343361783602,0.5382227941538871,0.5258066445356722,0.5133140480747705,0.4880277849853688,0.461946051296486,0.40355166383771857,1.0,0.49070067677173324,0.5175977798451117,0.49987088575724126,0.5118321038175774,0.4657538851724944,0.48060663987138247,0.510713939335136,0.5324760545506083,0.527182341317446,0.5243328299035419,0.4876954124957217,0.5398556768384338,0.49697587003916954,0.45198826560103955,0.47860669261677186,0.4799673670738918,0.47083405337112383,0.45321762204552135,0.49489706179370585,0.5576019112981377,0.5027972840052117,0.5007422607283857,0.5723822967582233,0.5248795877524205,0.5394585890438021,0.4709368436998661,0.5612587991734703,0.555534186026891,0.5203874325987532,0.583570630188601,0.5650467531456193,0.4934188732875937,0.5241264303563672,0.5076624616796109,0.5522979199124776,0.5336773720604783,0.5008161964775422,0.49303271373728363,0.504018202836605,0.4743951527343494,0.45509490918740547,0.5466299217804572,0.5450314457711227,0.3029228904259418,0.44669898358555704],[0.42477527463339226,0.44308426401431605,0.3835360053019047,0.4778173127383207,0.3738574796446653,0.47260798257993464,0.48265301056147114,0.407371661317773,0.4323625992282636,0.3536391984014269,0.4891505038174375,0.4546748421273128,0.4434736416420663,0.45922728438660576,0.5813087480493094,0.5973391021738887,0.6204340043059786,0.5544482043483624,0.6215653312140912,0.5438899479870781,0.5602991433686471,0.5875258029953787,0.6020670059758602,0.5220053971473608,0.590179527701167,0.6634866053298782,0.5793938242035539,0.6173046013411086,0.5758617619404424,0.44426385083712683,0.5142511244495005,0.47490867887643473,0.4903335461165512,0.42108201991216043,0.49070067677173324,0.9999999999999997,0.5502531322756179,0.5071483975597517,0.49857871314078445,0.43907103850897744,0.5143265165955312,0.53737968276737,0.47888124667514476,0.4630510013817377,0.5097893613265752,0.4702919165340732,0.5782091216973859,0.5020248558780992,0.41526194070116923,0.5778742744708959,0.4786873005338794,0.5198935053662921,0.46871782762253156,0.5493429019306998,0.5752097662796091,0.5718269839195297,0.5112665658246034,0.5209287433344981,0.5221244830811047,0.61813066736298,0.500332914875924,0.475711138573247,0.5057645948080063,0.5387110654092752,0.6374641227027773,0.597261590730747,0.5487366962952601,0.5677239704083497,0.5138490606347561,0.528166227080459,0.5361560191231934,0.5553678529132845,0.5432013202725958,0.5205147404226727,0.5362497444704879,0.485029559967214,0.5940547823359188,0.5461719526507833,0.4196765064971985,0.38440006231737833],[0.4476336299400676,0.47402004569386247,0.3894674722417327,0.5449078762572757,0.47110482462676057,0.5081213588092848,0.49317322206661457,0.48533448485422537,0.48170371340000695,0.42666727851273434,0.5755039872464008,0.5571379718765967,0.5398696594686339,0.5628289310741543,0.5760873186554003,0.597275249364841,0.5522142244429048,0.5180428770646898,0.5942700112881625,0.5541856222140873,0.5548822909098042,0.6353806144941254,0.6399364806879664,0.4803394136551039,0.5319911096026808,0.5972294331583552,0.5691258121877967,0.6421297725739685,0.6004288358992067,0.44862505268737835,0.4603612183735471,0.5062824568804417,0.5068487984320246,0.48060907034668177,0.5175977798451117,0.5502531322756179,0.9999999999999997,0.47697682659515567,0.5633183134239941,0.5198551035513617,0.5257443506016348,0.5189795689394774,0.48800709805615217,0.49726956085649393,0.5383656099649309,0.4858739032851044,0.6620106934870411,0.5503396527772155,0.536178480540781,0.5689346420334831,0.5511435023633948,0.5079647513236737,0.503657753163703,0.5640384492113157,0.6406314228137017,0.5557981080364848,0.6187403941156073,0.5272265350095553,0.5981836702773634,0.5672702731766119,0.5810890208412987,0.5663179820972273,0.5927427977392061,0.5423161410865749,0.5723055597965334,0.6475899021256127,0.5993735292693232,0.5787617378763381,0.561518242916526,0.5094307666942858,0.5789597072649353,0.5585082023872614,0.6229851031392715,0.5724906712359812,0.5623736792104347,0.5500381007826505,0.6667788460787463,0.6162699053528362,0.3782998992712566,0.42742113852241725],[0.47751626114604273,0.5136291139442559,0.4529322727756515,0.5218798326698703,0.47588482668447296,0.54173200169486,0.5538573909865472,0.5227948846653689,0.5382240279402106,0.43063630957042487,0.6507147473248129,0.6294604862118216,0.6301744152532938,0.5585653027322866,0.603089944151644,0.6071714217667743,0.6095529300158204,0.6157947217714546,0.5760499634826726,0.6242933903363863,0.604923137254772,0.6410745581856166,0.5932120611674554,0.6182154650797076,0.5849047786396793,0.610903109953829,0.5923500685845103,0.6485834685331905,0.6091273004272919,0.6381443021477746,0.5329738888112268,0.5851380345392665,0.5326233061305866,0.48026034356396907,0.49987088575724126,0.5071483975597517,0.47697682659515567,1.0000000000000007,0.5332228912618191,0.5786536614646458,0.6036176672426933,0.5247652968593094,0.5653935131023007,0.5429527942012574,0.4876765799447676,0.4522049826397887,0.5231929974499994,0.5382676327519218,0.47680342809950516,0.4933327768351578,0.5691896704288403,0.5189621480262548,0.49810177526154853,0.5059380370944533,0.6369933132986871,0.5580810967229346,0.5452545694507013,0.5852234234288013,0.6165347856258987,0.5989518110241017,0.6375434609132817,0.498741375643025,0.5741206527797276,0.569821139919205,0.5912156003823497,0.5887721232278262,0.6253867480198421,0.5653898679573557,0.6341427947523006,0.5383901951200449,0.6480290138145741,0.593804127018922,0.5874598341128651,0.5623193996220078,0.602454748341475,0.5358171575151501,0.5944658900412547,0.5845590128715967,0.39938218423824023,0.42045774049674983],[0.41710995350631774,0.47316412641978445,0.4131809439639242,0.5190079875531486,0.4319170978483494,0.47565491221790046,0.43381769418968985,0.5368126568893852,0.45582084632151043,0.40924556802109846,0.6222433254341093,0.577983320597566,0.5729841853489512,0.5937475559744418,0.5814281766333638,0.5625830027621559,0.5878861364151884,0.5375173915334452,0.5524525031722758,0.5870645597229078,0.5443351926575584,0.6164826787900556,0.586302324592274,0.5661461077637215,0.5884433419241085,0.5786773452208855,0.6157636485678468,0.6064878862317323,0.6047980155433591,0.4626167469883039,0.5002385179535276,0.5005603543686334,0.5290459171490905,0.5081198370139219,0.5118321038175774,0.49857871314078445,0.5633183134239941,0.5332228912618191,1.0000000000000004,0.5011743259990802,0.5196783711716592,0.48502596249117436,0.47863474567483666,0.5216507469432695,0.5435549268696247,0.48429641754549585,0.5889733623269112,0.5140991323304593,0.4959453499823263,0.5282541726928456,0.512005355594348,0.4804641983414578,0.5067740311477629,0.5339633572819024,0.6090917578665145,0.5873325088734158,0.5886015070970309,0.5768723839505715,0.5460955605381049,0.4898023753083163,0.528334866814567,0.5800597440438542,0.6015886471259724,0.5608932726572871,0.5194868092096564,0.6497186838117749,0.5471258548218159,0.5549134111869858,0.573464416175764,0.5584299163344475,0.6405137580136121,0.6815445162405548,0.6038073712168506,0.5565087287329964,0.5735798380548017,0.6293089176976734,0.619978458558814,0.6352196643680299,0.38534209781542156,0.4869491456912184],[0.46844610023701594,0.5089597214168272,0.4212031777813342,0.529339033091171,0.49218286280417634,0.4980889335525585,0.5159634128348382,0.5474784048832253,0.5551411705456171,0.45100315249673584,0.579673358360265,0.5472274230655958,0.5586646897092401,0.5511326154035661,0.5324178068592079,0.6064780044897471,0.5766990829269893,0.558179025686353,0.5786443334239877,0.5826086677369438,0.5504108752074489,0.6244564401994035,0.6193875084004954,0.5437397104573939,0.5195187622111015,0.5297541958799727,0.5545752943972311,0.5933536361790477,0.5981734182313159,0.690882614857017,0.5262794156395604,0.4840954139784849,0.5314954599964425,0.48202446096646545,0.4657538851724944,0.43907103850897744,0.5198551035513617,0.5786536614646458,0.5011743259990802,0.9999999999999999,0.530100686982943,0.5217657229352239,0.5603679754127958,0.518488436939171,0.5021485004479024,0.4356736007158044,0.49893773506924377,0.519378036893346,0.5270907777922309,0.47157792019501676,0.5593076679312536,0.5132878743091095,0.48625893139318155,0.5519622089146526,0.5889415688039208,0.6245481886376396,0.5167358845540775,0.548909130310479,0.5701180094871268,0.5279632677570143,0.6092143537610221,0.5366708656995625,0.5332768378505737,0.5989442274067902,0.506779027286863,0.5295206494878395,0.5947100315286723,0.5902819252770877,0.5826261252779115,0.5430668990916923,0.538702151918128,0.5126589383315662,0.5879852432035424,0.5694537395938895,0.5751100227394232,0.5164230726810692,0.6206828847790089,0.6132970429718925,0.3502936313396491,0.37233000783672854],[0.6056571147093728,0.5689888403598276,0.520692628061725,0.5846305072762601,0.4683759794191745,0.5787396123447636,0.5718434562288242,0.5796755702950009,0.5473281543877894,0.43376589953220634,0.5564691118485905,0.536895300406381,0.526681709280428,0.5673195453431845,0.693783403680736,0.7792906038602401,0.7207813789586042,0.6329050306156847,0.6588734007451631,0.6434463490277778,0.6749705413816788,0.7155818190644432,0.6987141521921927,0.606755421260357,0.7461627697526584,0.6478857122411498,0.7433587365409606,0.674402792866504,0.6646789233686207,0.5737851913645216,0.5796170420238043,0.595807640978812,0.5458639280083076,0.49099661047294035,0.48060663987138247,0.5143265165955312,0.5257443506016348,0.6036176672426933,0.5196783711716592,0.530100686982943,1.0000000000000004,0.6193091970244121,0.663470398673031,0.7095854727935085,0.5551562077176275,0.5514274993979366,0.5713876900841341,0.5123159528878866,0.5448940635454553,0.5695968133949012,0.5579850275957936,0.557332803098295,0.5304966241834795,0.549631758984189,0.6267594770628319,0.5586171699786899,0.6234187384480945,0.6201898173235522,0.5459565180368111,0.6295574190303574,0.613812069821017,0.5074948918297879,0.592944868837985,0.6337262476746206,0.5774809059882382,0.5547505219830065,0.6099888554751873,0.6927696122435124,0.6133620828262312,0.6481689623253835,0.6803122098900174,0.6146613546739172,0.5879631928508882,0.63269536904789,0.6606601204361737,0.6583975049317259,0.6268506343016849,0.6923418708077476,0.4152231857949955,0.38186352096663057],[0.49615962302273536,0.5043704900917024,0.4139488441708232,0.5209140697463458,0.46308883639011694,0.5163227400897576,0.49803851490008333,0.5456489664556533,0.5331374153740283,0.4509228796612069,0.5206032199321617,0.4700838900225593,0.4960101793824371,0.5174322285923026,0.5815622126494261,0.8393485722782701,0.6229305356739142,0.6114881470987724,0.6489941981125122,0.6229885064280842,0.7022768711958998,0.650119244688532,0.7181371692515829,0.5802171293794128,0.6497653059535158,0.6376437009215055,0.6289282520096049,0.6797465472328619,0.6110671114211362,0.5530430380830323,0.5398868317999368,0.49790418145914117,0.5889535478118619,0.4474223089970738,0.510713939335136,0.53737968276737,0.5189795689394774,0.5247652968593094,0.48502596249117436,0.5217657229352239,0.6193091970244121,0.9999999999999998,0.7282514843452921,0.5496949520974121,0.500486452150024,0.47183539666768487,0.5390554627500648,0.5103894469711572,0.4736191991291373,0.6471241881587442,0.5328345297957825,0.5632082780922826,0.5338789866505184,0.5885700244294482,0.5872422672456444,0.5462245356674407,0.5731147980073242,0.5843052398995165,0.5650861182335146,0.615845658125929,0.5848598722139506,0.5241884929845533,0.5615360972810721,0.5972842307981132,0.5752088555257833,0.5384476220382682,0.6482229259054464,0.677893739779049,0.5651402486084693,0.640929928618027,0.611146741966065,0.5672604171888349,0.5943949895135006,0.5816541056885745,0.5924572426130568,0.5248017108661446,0.6180717365468197,0.6266000488868102,0.40126817717512153,0.35098562396644717],[0.5115301550111033,0.5009443254754246,0.4501178561892676,0.5315979061681789,0.43726491825568725,0.5421170588523223,0.5618677293497467,0.5316459697381088,0.5520625684800077,0.39162769963129884,0.5367579051565745,0.501014690633695,0.5335727115067169,0.546939299235588,0.5907698574965844,0.7574386386653198,0.6105293423604141,0.6604041214098134,0.6309776083975149,0.6267680238910889,0.6915800758553643,0.6500030421089931,0.6912638775759576,0.5461595417616656,0.6134747035561199,0.6526467479814267,0.5879634974748704,0.6429034205397274,0.6252104001511253,0.546463432122077,0.6168534715018461,0.521611385488613,0.5452504850627475,0.4569011162790892,0.5324760545506083,0.47888124667514476,0.48800709805615217,0.5653935131023007,0.47863474567483666,0.5603679754127958,0.663470398673031,0.7282514843452921,0.9999999999999993,0.6224330220167431,0.46221246002455324,0.4368001310007866,0.5175028336785552,0.5349790449759706,0.4613232662505551,0.5479324112750401,0.5470526312737527,0.4857105485911357,0.46995366509948455,0.4813320343492006,0.5764049544228109,0.5295916979238973,0.4839738041913647,0.5858640768525418,0.5614497145212847,0.6223344921010168,0.5638477870057397,0.48117555759048497,0.5372058861132235,0.5810009467494809,0.5511344604696264,0.5346144845709557,0.644114243793859,0.5966083277780324,0.5796396090891622,0.5882470133573086,0.6349830713104513,0.5445905817339155,0.6117878600460525,0.6133130348295497,0.6199109531960869,0.535949059906239,0.5983778638153222,0.6230216412128329,0.386119467441442,0.40827627083174534],[0.5236023802113985,0.5279631729585182,0.4625946935416081,0.5515553797472903,0.47599553141206574,0.5643680136171274,0.5309153396513597,0.5681900705839396,0.5493339013358625,0.47156900185943296,0.5991160940199728,0.5576058467707806,0.5329533629175386,0.5614241476839326,0.5834705177139944,0.7154924998778386,0.5879348489539079,0.5660164799211194,0.6020744988815199,0.5846817796637018,0.5718037713096046,0.6586659243289387,0.7086456907453997,0.5160602606809103,0.5814114515888117,0.6183181455004092,0.5893175844769974,0.6261397387362824,0.5943015567078229,0.5955830136170124,0.5143069577418609,0.4956565850034149,0.5199218547814888,0.4759526593020155,0.527182341317446,0.4630510013817377,0.49726956085649393,0.5429527942012574,0.5216507469432695,0.518488436939171,0.7095854727935085,0.5496949520974121,0.6224330220167431,1.0000000000000007,0.5348659093463393,0.5119791593157788,0.5693769694520645,0.5209190445794064,0.5155727774611185,0.5734889685278002,0.534513144524315,0.5647318411008873,0.5390968137573111,0.5388994139403656,0.6096446957673394,0.5668089105050812,0.6013035832146268,0.610471038059595,0.5573859093743178,0.5665060601098769,0.5848954103180042,0.5732284188693835,0.5812840071091628,0.5894788407438458,0.5374451512727464,0.5537252961023431,0.5867261991674717,0.6212078810858723,0.6034049505513319,0.6337646043347771,0.6536684646799813,0.5951520454991597,0.61533951874235,0.5978893438460797,0.6263830794861595,0.5593491628946413,0.6206275516404797,0.6676552065485768,0.3665618670596399,0.3966522613291746],[0.4884558910558804,0.529995310933273,0.44484698112602616,0.5413832182115672,0.46480918672078253,0.5175040221304765,0.4499678301149669,0.5611441677690462,0.48872834048604064,0.4493269335366837,0.5283508524535911,0.5571570752883351,0.543654937538761,0.5336311827728255,0.5594300277022852,0.5739459881530152,0.5726948176826404,0.5249497827817334,0.5867824314646212,0.574965925632326,0.506053467129079,0.6713056997937414,0.805201066595103,0.5120004819130487,0.6062553217674633,0.5507698107214216,0.6456791477205315,0.6393230395821086,0.5648276234029547,0.4800452024383977,0.4450883474597337,0.46282299064688653,0.4706661923846571,0.4334145571328356,0.5243328299035419,0.5097893613265752,0.5383656099649309,0.4876765799447676,0.5435549268696247,0.5021485004479024,0.5551562077176275,0.500486452150024,0.46221246002455324,0.5348659093463393,1.0000000000000004,0.9584237924108299,0.7932458785301799,0.5233933454456254,0.4932249995341237,0.5187731051508497,0.5191021958231858,0.5804743812869972,0.5560876635435607,0.5230024775488513,0.6323710511206229,0.5577219786061204,0.6134101445375094,0.5756581565243741,0.5577977363928623,0.4705829850821571,0.5322820231547809,0.5655336862292251,0.5427005172216083,0.6038757207062,0.5340487712368434,0.5971293199322942,0.5745081135376724,0.5691357637468796,0.5517723098705917,0.6625800807710485,0.5811437221815356,0.6295551113986328,0.6142735408264575,0.5536242667027493,0.5966089550106859,0.5439756152411025,0.6443159265128943,0.6623003980428004,0.40711592341663333,0.397862588321281],[0.4957564332980938,0.530875196995633,0.428110038494968,0.5173379206862463,0.47324383027640576,0.5177527768187986,0.4520780873478215,0.5628888673909656,0.4573944545975992,0.4329488230730637,0.47273448473771706,0.4977574305512603,0.47084618091466945,0.47248744649784447,0.5159786011773609,0.544060401973338,0.5383503480401841,0.48779719981809766,0.535460799800592,0.5390995369755484,0.4775050527394718,0.6349600832485025,0.7756342750356748,0.47000551067419416,0.5746041191674022,0.4991252399772515,0.5952928404378328,0.5913652060146395,0.5083506715118334,0.46221781744218593,0.4085461177460409,0.4326816007857041,0.4518076240678759,0.3709446637155956,0.4876954124957217,0.4702919165340732,0.4858739032851044,0.4522049826397887,0.48429641754549585,0.4356736007158044,0.5514274993979366,0.47183539666768487,0.4368001310007866,0.5119791593157788,0.9584237924108299,1.0000000000000004,0.768796707833957,0.4833142031200466,0.4608231500691806,0.4766901949266956,0.48085857765300305,0.519288638875594,0.5190305440712749,0.4520277995014225,0.5871322695174126,0.5063057901158827,0.5402704542640552,0.5174964672504831,0.49439177766805453,0.4219250257502497,0.5005347702041245,0.48065589354234606,0.5001044090545504,0.5596473463748812,0.4857817612088,0.5344620931580388,0.5455521715932977,0.5304874169901349,0.49486583651210175,0.6086425678528974,0.5420592948068329,0.58728781153236,0.5706210290485746,0.5242192164172146,0.5683901818546858,0.4872665889726102,0.5745480477323802,0.6109732213825191,0.39058983367539074,0.3348066237322163],[0.5060283259640809,0.5327265495256003,0.44447797423076485,0.5813442840638234,0.4819669051609651,0.5450220296439698,0.5245314196136277,0.5727285658718729,0.5127488173419094,0.4449116977182205,0.5528437228277354,0.5509760309973003,0.528956647229958,0.5640620922166475,0.6159829858729935,0.6211139223661076,0.5999899532969681,0.5791826067266048,0.6008863617712698,0.5760705328716513,0.5763647259319165,0.7059786519259588,0.8358372562981247,0.5130359803714822,0.6019732821820554,0.6055379877359186,0.6562437692287066,0.6533120826748682,0.5769368010727693,0.4787448008741999,0.45934998966331264,0.46290994051854106,0.5392586764978607,0.4618128783573826,0.5398556768384338,0.5782091216973859,0.6620106934870411,0.5231929974499994,0.5889733623269112,0.49893773506924377,0.5713876900841341,0.5390554627500648,0.5175028336785552,0.5693769694520645,0.7932458785301799,0.768796707833957,0.9999999999999998,0.5368464014182286,0.5533851202907085,0.606083821187589,0.5372783488472559,0.5623681486359866,0.5723860548360422,0.5987377828666959,0.6394428096467121,0.5544989818528503,0.6362703375061702,0.5766482213642627,0.5710154128772781,0.5257636335467716,0.5606519126545368,0.5687924362364577,0.5769588718311467,0.5956384077531862,0.5492861847468264,0.6364717635503698,0.6561002183842153,0.6136769257504049,0.5689091777384194,0.6059081578050085,0.6023720581929887,0.6310760928190406,0.647453414111435,0.6057074518955431,0.6297330271668214,0.623293652952503,0.6745929451942825,0.7330478888183407,0.44724068842971365,0.42989735934289197],[0.48978616204930714,0.6103376450301815,0.5213984138381977,0.5627166252029939,0.5480522554821693,0.5637057419983202,0.5293242228970788,0.5895062238614157,0.5335431855041395,0.5250159090477196,0.6431057570599843,0.594432660878182,0.5429997199171803,0.5778932235584823,0.5385900277113839,0.5821295072054815,0.5614412059915921,0.6381690207622273,0.5928943710955129,0.9044254765876332,0.6010531225744824,0.6135483731781866,0.5920448752727088,0.6488614006756532,0.5258459224125334,0.5803546328085618,0.537120029525845,0.6275372964698953,0.8168119612485765,0.540759241828322,0.5247378661474662,0.5304468354399827,0.5256767006087147,0.4146475433211969,0.49697587003916954,0.5020248558780992,0.5503396527772155,0.5382676327519218,0.5140991323304593,0.519378036893346,0.5123159528878866,0.5103894469711572,0.5349790449759706,0.5209190445794064,0.5233933454456254,0.4833142031200466,0.5368464014182286,1.0000000000000002,0.5907991726781379,0.5247304397149191,0.6610431306748048,0.5116414412837438,0.6090743338304534,0.5189051427375533,0.5867601205977732,0.5578181046576687,0.5182115970822897,0.5986937018084083,0.5911583139038212,0.6181950331442578,0.5872133215473461,0.5870579188872687,0.540651210050739,0.5169484275567894,0.5864678429692725,0.5963977485672114,0.6157706522480935,0.5784762219494826,0.6284638117643133,0.61556995463533,0.571324496048592,0.6290141174260737,0.6216454389282225,0.6468942815991282,0.5758924114961227,0.5161717753062771,0.6614894506790593,0.6357014439831983,0.4396875123685373,0.4226180345601914],[0.48791985964590945,0.7076608123122115,0.5654461882947084,0.5966449116257982,0.5624291066320295,0.5346351172977141,0.46152805239052674,0.6107872565517366,0.5901127323818748,0.5535285999297419,0.5306999758897504,0.5045640579278521,0.5080553378403155,0.4991926849876982,0.4746367994462528,0.5121953681894349,0.462461018653346,0.5500845611073307,0.5406827059552706,0.630620963302688,0.5344011832625235,0.5800029781487616,0.5669804444740826,0.4926179101385335,0.5089987224848571,0.4969749546358957,0.5409880102857696,0.5802192612290253,0.604267120308531,0.4687021000236521,0.4384426064414059,0.3934274791693819,0.44878853845991706,0.4852032045313307,0.45198826560103955,0.41526194070116923,0.536178480540781,0.47680342809950516,0.4959453499823263,0.5270907777922309,0.5448940635454553,0.4736191991291373,0.4613232662505551,0.5155727774611185,0.4932249995341237,0.4608231500691806,0.5533851202907085,0.5907991726781379,1.0000000000000004,0.5846617918848085,0.5235296772153192,0.47363874390819183,0.7301736497595679,0.6254059504849437,0.5787146177083934,0.5062962752477822,0.5169045046684506,0.5744557428696828,0.5011982868706496,0.5050982023734198,0.5566720191517374,0.56215102179199,0.4866909435018889,0.5351209152400467,0.49426460918198367,0.5509258146694639,0.552453640574617,0.5667827086703613,0.6309617454862905,0.577799159766494,0.6257143933566031,0.614389185274794,0.6547281953921309,0.6490042911568142,0.6073669040779893,0.6150810664119493,0.6584529251101415,0.6744627981692471,0.35208690015247013,0.3529237267976866],[0.5358957795258901,0.6350132527642842,0.5612002638001855,0.6211973164376319,0.5118327660932197,0.5755414063206973,0.4928737856999834,0.5988251942386127,0.5769645050329819,0.5318512865618966,0.5302444763355076,0.5060902887170499,0.46694117318483086,0.501227904917672,0.5655771359934083,0.6482920968814165,0.5881828995911985,0.5629392695987676,0.6257052907281677,0.5948414311714949,0.6080486100336018,0.6482478958319668,0.6578933555228029,0.5292323821882469,0.627346317991443,0.630619821772801,0.6405092068851217,0.6466158374464863,0.5750174245744445,0.43918243118835276,0.4800952428820342,0.42763684591704276,0.49406424656267034,0.45520299718136137,0.47860669261677186,0.5778742744708959,0.5689346420334831,0.4933327768351578,0.5282541726928456,0.47157792019501676,0.5695968133949012,0.6471241881587442,0.5479324112750401,0.5734889685278002,0.5187731051508497,0.4766901949266956,0.606083821187589,0.5247304397149191,0.5846617918848085,1.0000000000000004,0.5204733853505878,0.5695620106360393,0.6444575186186943,0.6577273630634138,0.6191864011781063,0.5641891670541598,0.5835282582462705,0.6025133394129336,0.532963421265485,0.5796633688901347,0.5988385900731572,0.5427349575898057,0.5213238844888942,0.609395161332291,0.5969408723816233,0.5914912329137216,0.6087312887225076,0.6354855833891172,0.5917337297108209,0.6530676727072329,0.6386481899360459,0.6659466647914407,0.6701746807800785,0.6657953193445159,0.6934318012979441,0.6196366863299467,0.642834963580295,0.6802405806685498,0.35114451973310035,0.3530480458505501],[0.528167178155108,0.5702034384066822,0.49823100953822674,0.6109254716046598,0.5531324939166493,0.5704712083640318,0.5246242005463515,0.5783145048401497,0.5179236325333153,0.49643520382701267,0.6237064889574278,0.5828267615799874,0.5710982053523761,0.6083784225594218,0.5206580368897588,0.6070708350490959,0.5223764815482883,0.550862234119686,0.5738376200277922,0.6824114695677856,0.5868597544747434,0.6200198900306138,0.6076825412543468,0.5093110741640208,0.560061885091658,0.5576325891615004,0.5731982130495652,0.5918452995689829,0.6649661762497369,0.5074241671882824,0.517172519727835,0.48444376963346136,0.5021756159289972,0.4514879635977481,0.4799673670738918,0.4786873005338794,0.5511435023633948,0.5691896704288403,0.512005355594348,0.5593076679312536,0.5579850275957936,0.5328345297957825,0.5470526312737527,0.534513144524315,0.5191021958231858,0.48085857765300305,0.5372783488472559,0.6610431306748048,0.5235296772153192,0.5204733853505878,1.0000000000000004,0.5870321699614042,0.5354964531519903,0.5336106744524021,0.5698793838142331,0.49214267320396593,0.537160504455553,0.5413097511312905,0.5480208441343106,0.5841412086847746,0.597603002701118,0.5607765412917793,0.5690672522664292,0.5123761163553748,0.5220221484535406,0.58587006647283,0.5756277403656187,0.6211060150656613,0.6774174724491047,0.5872438514453877,0.583257972528695,0.6118842709462115,0.6294846365957762,0.6347343393074935,0.5763346810280311,0.5557100377421509,0.6571355166625172,0.6269563697090269,0.4359339109511224,0.3952595605360604],[0.5130512877378,0.5319198906376822,0.5062132820521192,0.5291590645259868,0.49193785241555377,0.5418447570349842,0.5036477665933152,0.5922235182178023,0.5262732779671087,0.5290860213945721,0.589292499667293,0.5676919203848148,0.58937794547325,0.5808519159483413,0.5032120974016401,0.6278428376108571,0.5144913501239039,0.4950421283851916,0.6059883836209667,0.5608381110585381,0.6216058858020458,0.6676784133243296,0.6021911250304565,0.4308503383668758,0.6457973243771052,0.5523511598826885,0.5890771739458497,0.575832041812134,0.565322136816778,0.44998353101595506,0.5043618853471667,0.4866859858611098,0.4633742980345218,0.44004053987860625,0.47083405337112383,0.5198935053662921,0.5079647513236737,0.5189621480262548,0.4804641983414578,0.5132878743091095,0.557332803098295,0.5632082780922826,0.4857105485911357,0.5647318411008873,0.5804743812869972,0.519288638875594,0.5623681486359866,0.5116414412837438,0.47363874390819183,0.5695620106360393,0.5870321699614042,1.0000000000000009,0.5920480232894207,0.6000989892106366,0.5607403256023609,0.47491634441876956,0.5727540432080132,0.5944121718052177,0.5422514154182267,0.5447016692185557,0.5745845389452482,0.5495794706213418,0.5201658778986916,0.5610972190937469,0.5462637367952847,0.5626872512639354,0.5806388338519852,0.7484896102909367,0.6088979690013373,0.6432607826931003,0.5627683570911413,0.573652908957859,0.582297673793075,0.5510541344020645,0.651649534329483,0.5479498983524446,0.6375784405040268,0.6154444553803113,0.3462919878684184,0.4398777390427479],[0.5681283383223412,0.7369003565286526,0.6192033084104743,0.6094582691964969,0.5716721783130753,0.5880405817285416,0.4943762230662911,0.6682665156690268,0.6044248547355389,0.6228406170209495,0.5673223777082175,0.5258174998874068,0.5241598904109246,0.5529690647619927,0.5177607533334245,0.5589787629654055,0.540303778236115,0.5445119666795465,0.6073283181759994,0.6553136295185633,0.6057246035189596,0.6593150243049603,0.5950239050566895,0.556703130443523,0.6000882062509363,0.5541276703788236,0.6086743401052177,0.6264225435736294,0.6048436005510578,0.4819661767043596,0.4514565171938987,0.40486521801388925,0.45179700720544114,0.4837959163310451,0.45321762204552135,0.46871782762253156,0.503657753163703,0.49810177526154853,0.5067740311477629,0.48625893139318155,0.5304966241834795,0.5338789866505184,0.46995366509948455,0.5390968137573111,0.5560876635435607,0.5190305440712749,0.5723860548360422,0.6090743338304534,0.7301736497595679,0.6444575186186943,0.5354964531519903,0.5920480232894207,0.9999999999999996,0.6674401179959779,0.6050690648322459,0.5669887016443467,0.5504354826004128,0.5970454716561254,0.5482004595897105,0.5785328347176835,0.5902191065244945,0.5877539439875737,0.4936891670124003,0.5208468204442631,0.5663764748354448,0.5914516935760978,0.5715041607869652,0.5966409170186431,0.6306558826485877,0.6689732082005471,0.6020922931296504,0.6878844497523606,0.708068109241687,0.6692868767297402,0.676177569402054,0.6099445943888151,0.6878776497781199,0.7063502003518246,0.4085238324326401,0.3871270225097204],[0.4543007473489191,0.5523067528803397,0.4585823535595299,0.538708189453017,0.4742213196945163,0.5103955593335707,0.43320993912635386,0.5654815811436096,0.535170637882029,0.4969480012951463,0.5644722138108229,0.5137298078712391,0.5420017638299548,0.5216080205746578,0.5570097594476444,0.6083383091534086,0.568969855399206,0.5514927665140845,0.6374608843052417,0.5996898478156185,0.6013091704524477,0.6188878620417698,0.6164089669597683,0.5611082004920268,0.576106547995948,0.5959263975778547,0.6234953247455245,0.5884730863254112,0.6008307308309118,0.48857092101158095,0.50284359554971,0.45304821941109086,0.4471726758403458,0.5265262350607249,0.49489706179370585,0.5493429019306998,0.5640384492113157,0.5059380370944533,0.5339633572819024,0.5519622089146526,0.549631758984189,0.5885700244294482,0.4813320343492006,0.5388994139403656,0.5230024775488513,0.4520277995014225,0.5987377828666959,0.5189051427375533,0.6254059504849437,0.6577273630634138,0.5336106744524021,0.6000989892106366,0.6674401179959779,1.0000000000000002,0.5938861452161994,0.5559781098059723,0.5838674029486766,0.5560031491191758,0.5608464906579608,0.5818027781307034,0.5681472882177607,0.5825795343747764,0.5815405723407685,0.5706264559521455,0.5542560592796657,0.5772319886248884,0.5616714070234409,0.6019311185516847,0.612352124447348,0.6056014206891582,0.5772346596864358,0.5984352286911551,0.6165596392492989,0.6346194525742052,0.5968793215339299,0.6633493642604027,0.6478524220797512,0.6697358931104587,0.324845958523577,0.37591156337988646],[0.5112299075043628,0.5917143454358822,0.5006778953153301,0.5889555108354632,0.5546437058935568,0.6047901602577834,0.5420990447774131,0.641980266158938,0.5899120840789,0.5392911298685535,0.6670362083900956,0.6367192428171411,0.6390891008055972,0.6556570681668401,0.6912384219193872,0.694406122321438,0.6951883896809473,0.6394653206406712,0.6949434924521916,0.6535899259488944,0.6385720039911118,0.7323674128630994,0.6970822149567562,0.6408373146623764,0.6769210901475493,0.7110148580580403,0.6835244556489569,0.7406913572373335,0.6985542912900067,0.5476402687382401,0.5480081302058937,0.5835478100752396,0.5432863524850349,0.5616296121159652,0.5576019112981377,0.5752097662796091,0.6406314228137017,0.6369933132986871,0.6090917578665145,0.5889415688039208,0.6267594770628319,0.5872422672456444,0.5764049544228109,0.6096446957673394,0.6323710511206229,0.5871322695174126,0.6394428096467121,0.5867601205977732,0.5787146177083934,0.6191864011781063,0.5698793838142331,0.5607403256023609,0.6050690648322459,0.5938861452161994,0.9999999999999998,0.6837395908721247,0.6381502277453728,0.6643523202987967,0.6579578215027391,0.7101535313843736,0.7680154593706965,0.5896425390303818,0.6506454153859698,0.6537049367640869,0.6901331238967425,0.6784614557380142,0.6810350083580352,0.6654587194544288,0.6701284029251291,0.6386505270554892,0.669479110174938,0.6736329160148833,0.6627598612548332,0.615906824675479,0.6439916202531705,0.6140959242959807,0.7290659641098951,0.7152304112136558,0.4573755995445187,0.4169979599992798],[0.4745441297099043,0.5128588831547529,0.41767956570936093,0.5041445528189046,0.44284000441913035,0.5074535254905294,0.44000953711796154,0.5066650185115884,0.509781099492073,0.4269555078593217,0.6224459723207475,0.5717178025663638,0.5116615085900038,0.6053411907313813,0.6820995504011353,0.6354982723307148,0.7439183931994133,0.6272035143362691,0.681681792696464,0.6198610509945985,0.5861171278204513,0.6851280147837528,0.6349816921044071,0.6490495918715908,0.6292581804677382,0.6185815571319022,0.6907834730771548,0.7172347563410244,0.6516367484345595,0.6251247855069948,0.5684713067524025,0.5336357380481549,0.5030515835096674,0.5496562617415839,0.5027972840052117,0.5718269839195297,0.5557981080364848,0.5580810967229346,0.5873325088734158,0.6245481886376396,0.5586171699786899,0.5462245356674407,0.5295916979238973,0.5668089105050812,0.5577219786061204,0.5063057901158827,0.5544989818528503,0.5578181046576687,0.5062962752477822,0.5641891670541598,0.49214267320396593,0.47491634441876956,0.5669887016443467,0.5559781098059723,0.6837395908721247,0.9999999999999996,0.6608573233516282,0.5646826223760661,0.6678045634203538,0.6086703794052504,0.6078349169561459,0.622673839431247,0.6046267762222539,0.6227830217025886,0.6301923462424289,0.6492812009603632,0.6196010243359227,0.5566590462037911,0.5657556183858832,0.6107477806531655,0.611508016816331,0.60923368097431,0.620021145295377,0.5608197205995362,0.5772487777626671,0.5549103360037415,0.6718068376766031,0.6595623807252942,0.39522176699446476,0.44933743059919196],[0.4866274380661776,0.5084105803328488,0.43523240093436355,0.511399438410045,0.44886432216267363,0.4998941449773876,0.4426932084885631,0.5324953711288531,0.4697311603362969,0.4336124901124504,0.5465959573216459,0.5679444498424128,0.5321666413699613,0.5699696720474454,0.6678201119070514,0.6372272578525753,0.6821325007190996,0.5603433218102962,0.6227681496347603,0.5906876099699797,0.6081104785433018,0.693145311081857,0.6503777636537995,0.539373805579008,0.6421685876845689,0.6157536841559023,0.7136614693400791,0.6332023593521734,0.6003354169347774,0.5506685413053266,0.5194745863259025,0.5271275320279465,0.49037475983966455,0.4722856376702285,0.5007422607283857,0.5112665658246034,0.6187403941156073,0.5452545694507013,0.5886015070970309,0.5167358845540775,0.6234187384480945,0.5731147980073242,0.4839738041913647,0.6013035832146268,0.6134101445375094,0.5402704542640552,0.6362703375061702,0.5182115970822897,0.5169045046684506,0.5835282582462705,0.537160504455553,0.5727540432080132,0.5504354826004128,0.5838674029486766,0.6381502277453728,0.6608573233516282,0.9999999999999998,0.6042551899618837,0.6451458149813676,0.5278532368340294,0.5823575312119122,0.6482421197265873,0.5989416507793972,0.6224135309407667,0.5701753688234747,0.6799636902642539,0.6095406868681381,0.6208624522737827,0.603035122036983,0.6133271599091845,0.6251469850120621,0.6261778438793062,0.5868480022607654,0.5225193374666592,0.5933728895875521,0.5913491131777522,0.6659846769096085,0.6717326301115305,0.38476515088915986,0.38785250855515363],[0.49967912014443394,0.5897228228578056,0.5064740762217187,0.5640797869422837,0.529094761872269,0.5595866667855096,0.5007280591038221,0.6011859731494732,0.560146533729656,0.5138273649726095,0.6256379357793362,0.6198381129744435,0.6301111729391337,0.6251115599323667,0.610627855352438,0.6621142328531298,0.6413396766541446,0.5737841842297293,0.6260512008555006,0.6551846767105587,0.6538274089241156,0.6508983918552094,0.6458918255449997,0.5715576924026472,0.6590808426499258,0.6474449007717218,0.6450588636878634,0.6767543976086985,0.6755236869951615,0.5303595188602308,0.516048428341644,0.5160835551975567,0.5111991185947619,0.48521243549718884,0.5723822967582233,0.5209287433344981,0.5272265350095553,0.5852234234288013,0.5768723839505715,0.548909130310479,0.6201898173235522,0.5843052398995165,0.5858640768525418,0.610471038059595,0.5756581565243741,0.5174964672504831,0.5766482213642627,0.5986937018084083,0.5744557428696828,0.6025133394129336,0.5413097511312905,0.5944121718052177,0.5970454716561254,0.5560031491191758,0.6643523202987967,0.5646826223760661,0.6042551899618837,1.0000000000000009,0.5888843777895457,0.6337762264223211,0.6176657448155122,0.6964803941866797,0.6415175527628025,0.6525552103025232,0.617213036366818,0.6588583147787741,0.6368468550917444,0.6355708315365016,0.6345344957452119,0.6463335035795669,0.6747188989050269,0.6882433945755193,0.6498978714360637,0.6239397318126196,0.6377198279279505,0.5939781312852593,0.6864281437989928,0.6625908873105689,0.43772957859748873,0.4338051135853258],[0.48176201460932355,0.5147774067591044,0.4267190895043862,0.5434613573205573,0.47983991473294807,0.5105700856820995,0.5071237213191506,0.5300710007524203,0.526736864193535,0.4366213356564554,0.6098222728455889,0.6042382760176096,0.5479661664770639,0.6378129311313376,0.7058905372874024,0.6458455620815244,0.6580069212196855,0.6103063652531358,0.6463717651840757,0.6344193084395627,0.6115012163741976,0.6892336874297669,0.6300066861689843,0.5797890655453234,0.6131994731365547,0.675194143943564,0.6256874811625763,0.6925536509555457,0.686167087087711,0.5392330264754195,0.6260691062419486,0.6250190940889493,0.5384683185382761,0.5321713593835586,0.5248795877524205,0.5221244830811047,0.5981836702773634,0.6165347856258987,0.5460955605381049,0.5701180094871268,0.5459565180368111,0.5650861182335146,0.5614497145212847,0.5573859093743178,0.5577977363928623,0.49439177766805453,0.5710154128772781,0.5911583139038212,0.5011982868706496,0.532963421265485,0.5480208441343106,0.5422514154182267,0.5482004595897105,0.5608464906579608,0.6579578215027391,0.6678045634203538,0.6451458149813676,0.5888843777895457,1.0000000000000004,0.62006677367151,0.6355432838916164,0.5769634575171971,0.5998648562428295,0.6356388318849127,0.6131151606795944,0.6225632783398207,0.7521526427876214,0.5697256219278949,0.5630179271385205,0.5993551777678197,0.6231445785054979,0.5922002527461712,0.6126167105598938,0.5915047277310239,0.573709614017835,0.5417244748304549,0.6578381663451218,0.62916912010855,0.4078622786750412,0.40682314035453665],[0.48320752023212143,0.5089434771743178,0.4511561848119968,0.5738516120775821,0.4780068130325378,0.5470813240086274,0.5454575906552848,0.5492230644288125,0.5165965955164932,0.43680701694392976,0.6155737610794496,0.5706878634631158,0.5808378750093062,0.5929815370440155,0.635562864645999,0.7288949477107192,0.6554652268193567,0.6456147966572541,0.7269030891689832,0.6579628979071118,0.6571289500659978,0.651216111042024,0.6090229461883068,0.5956219162899683,0.6290489844220757,0.7715160825985258,0.623481754344196,0.6850557812654559,0.6978566406403643,0.48713378147022646,0.5817041531231317,0.5544915329724138,0.5172542815374317,0.5013588290719663,0.5394585890438021,0.61813066736298,0.5672702731766119,0.5989518110241017,0.4898023753083163,0.5279632677570143,0.6295574190303574,0.615845658125929,0.6223344921010168,0.5665060601098769,0.4705829850821571,0.4219250257502497,0.5257636335467716,0.6181950331442578,0.5050982023734198,0.5796633688901347,0.5841412086847746,0.5447016692185557,0.5785328347176835,0.5818027781307034,0.7101535313843736,0.6086703794052504,0.5278532368340294,0.6337762264223211,0.62006677367151,1.0000000000000004,0.6830819689260557,0.5350203784593306,0.5977419798646877,0.5719489002037249,0.8055319816523411,0.625478323309161,0.6526783393664892,0.6066659596447592,0.6117495789320966,0.6378262606825491,0.6083095825470842,0.6107782996827122,0.6281498922071324,0.613177158656046,0.5828638485434149,0.5420219695316771,0.6697571194354164,0.6416985273416382,0.439834159251712,0.43151413197439065],[0.4985683341368809,0.5747407762318248,0.48451873247813326,0.5957270046519254,0.5590232351758286,0.5787610122189237,0.551239055478038,0.6184912417345979,0.5843122128751296,0.5411313068824447,0.6340986478436371,0.6216368240596795,0.6115023420041108,0.627947539788349,0.6104610028680383,0.6448971128457395,0.6111981125688286,0.5947772272464316,0.6378622936666287,0.641137720888439,0.6227838459376676,0.6964675414444754,0.6362823491068926,0.54394500688946,0.6610339670641665,0.6178311535703476,0.6309087776998408,0.6561005267681155,0.6417219339978097,0.5396665080968744,0.49070824047123296,0.47264290328040426,0.5725501454219517,0.5696414324915273,0.4709368436998661,0.500332914875924,0.5810890208412987,0.6375434609132817,0.528334866814567,0.6092143537610221,0.613812069821017,0.5848598722139506,0.5638477870057397,0.5848954103180042,0.5322820231547809,0.5005347702041245,0.5606519126545368,0.5872133215473461,0.5566720191517374,0.5988385900731572,0.597603002701118,0.5745845389452482,0.5902191065244945,0.5681472882177607,0.7680154593706965,0.6078349169561459,0.5823575312119122,0.6176657448155122,0.6355432838916164,0.6830819689260557,0.9999999999999994,0.5557180616672213,0.6166776600697008,0.6560609580718255,0.6006295234966169,0.6050297189042223,0.676145280482565,0.6579576162063475,0.6627769128044458,0.6302602763330516,0.6528712608666546,0.6323214879847479,0.690650399356292,0.6293670921324847,0.6331385910195699,0.6183042931539162,0.6543755743235069,0.6541039919429159,0.4403442786307274,0.42410840793938376],[0.44777277483762723,0.5161102601930506,0.42764247341343986,0.5320053511113484,0.4838076032045464,0.4957813418968983,0.4039793707650572,0.529915534562647,0.5113895821823453,0.45805400783480665,0.6357635496786922,0.6938721883157389,0.6415094283269357,0.6168363723992879,0.570187566207254,0.5460146810696926,0.5775543996840995,0.5472039549479619,0.5745652024681169,0.635912236341357,0.5774530021041093,0.639113884709956,0.6193642048852337,0.5724914147778959,0.5950634803680837,0.5720456302687834,0.6469970168831873,0.6489505383534021,0.5893962633532974,0.5205887035918043,0.46618381713719775,0.5109819088046128,0.48171333165741437,0.4623092122005912,0.5612587991734703,0.475711138573247,0.5663179820972273,0.498741375643025,0.5800597440438542,0.5366708656995625,0.5074948918297879,0.5241884929845533,0.48117555759048497,0.5732284188693835,0.5655336862292251,0.48065589354234606,0.5687924362364577,0.5870579188872687,0.56215102179199,0.5427349575898057,0.5607765412917793,0.5495794706213418,0.5877539439875737,0.5825795343747764,0.5896425390303818,0.622673839431247,0.6482421197265873,0.6964803941866797,0.5769634575171971,0.5350203784593306,0.5557180616672213,1.0000000000000002,0.6789668323372624,0.631868477821925,0.5753265696598122,0.6808085316806249,0.5884432874540653,0.562377161400168,0.6362824245450991,0.6043084766408559,0.6470152023876096,0.6599361451862253,0.6855898881613647,0.5747156611859583,0.5940035843913918,0.6067334494370958,0.7189618882887095,0.6643987993245974,0.3977600398503096,0.49387449847336906],[0.45417788681780935,0.4976412351649505,0.4147126968111472,0.5387824287595777,0.5008584901267848,0.5333767771821777,0.4538962992111226,0.5228597079500995,0.5048129891723951,0.45576668170945533,0.615892195396432,0.6321809381755563,0.5997497571269961,0.6297075988318142,0.6609763130361097,0.6154832979559772,0.638414562838197,0.5862282181148392,0.6132888105860733,0.6180426398137513,0.5959014233122104,0.6422495397821538,0.648726191474831,0.6055073847116574,0.6633516320000581,0.6420734609954746,0.69677888306155,0.6780381392505039,0.6527472900859739,0.484476438303602,0.5080829534046398,0.6058282978911427,0.5165107720880535,0.5374061534676255,0.555534186026891,0.5057645948080063,0.5927427977392061,0.5741206527797276,0.6015886471259724,0.5332768378505737,0.592944868837985,0.5615360972810721,0.5372058861132235,0.5812840071091628,0.5427005172216083,0.5001044090545504,0.5769588718311467,0.540651210050739,0.4866909435018889,0.5213238844888942,0.5690672522664292,0.5201658778986916,0.4936891670124003,0.5815405723407685,0.6506454153859698,0.6046267762222539,0.5989416507793972,0.6415175527628025,0.5998648562428295,0.5977419798646877,0.6166776600697008,0.6789668323372624,0.9999999999999993,0.6382265445951949,0.602373533822584,0.6858360226433895,0.615860018576383,0.5744905069555919,0.5982166669682907,0.5642214652386726,0.6203534413887153,0.613588489870396,0.677435966281829,0.5679468859779498,0.5815103353334546,0.6038409637059723,0.664286604115572,0.6642593969103011,0.4201017740737925,0.38971314735321405],[0.5047121278730433,0.5537029278765677,0.46109787283969494,0.5401532274253459,0.4930874956354323,0.5274691692309247,0.5292120880632891,0.5978824410480422,0.537347780711858,0.4924731851341815,0.5578775128178597,0.5973445726386931,0.5854684502641263,0.5950811070318816,0.6600690124321704,0.646014286251775,0.6566920235937,0.5965983931032575,0.6289647476935347,0.6029464611916602,0.5946328773840396,0.6718719830946174,0.664284878640383,0.5245726656795535,0.6921978547939739,0.6165731581127706,0.672424744732436,0.704794010110001,0.6178603287670404,0.5258334015244185,0.507935792462575,0.5387185259657521,0.5376614537167426,0.5166834245428025,0.5203874325987532,0.5387110654092752,0.5423161410865749,0.569821139919205,0.5608932726572871,0.5989442274067902,0.6337262476746206,0.5972842307981132,0.5810009467494809,0.5894788407438458,0.6038757207062,0.5596473463748812,0.5956384077531862,0.5169484275567894,0.5351209152400467,0.609395161332291,0.5123761163553748,0.5610972190937469,0.5208468204442631,0.5706264559521455,0.6537049367640869,0.6227830217025886,0.6224135309407667,0.6525552103025232,0.6356388318849127,0.5719489002037249,0.6560609580718255,0.631868477821925,0.6382265445951949,0.9999999999999999,0.5825779235694891,0.6622951276904043,0.6546080973213357,0.6194545045168367,0.6165879853665222,0.666520134367077,0.6589194184244254,0.6285191493255637,0.6524991583858967,0.5918880152682777,0.6227446624134398,0.6234643764582504,0.6631903088474413,0.6345919424032365,0.39662452437427287,0.4504144670310371],[0.4933853010928533,0.5156050887427366,0.46277403285686974,0.5536341825839259,0.4636835603495974,0.5491748576384926,0.4890247950907885,0.5313964704713061,0.4964472646290288,0.4110306600272613,0.6044643323624388,0.5520489942870594,0.5733895373667787,0.579188274759015,0.6284404777731325,0.7054993721523225,0.6357281029677695,0.5599818224366302,0.693046015434613,0.6021272860698897,0.5464149090993716,0.649056223499646,0.6109327610980219,0.577560257086595,0.6305606623118447,0.7900395929603311,0.6613030871769416,0.7097062324682201,0.6226096640238078,0.4968816932019358,0.5749813071179701,0.5297704335554334,0.5182996083691956,0.46322095587035095,0.583570630188601,0.6374641227027773,0.5723055597965334,0.5912156003823497,0.5194868092096564,0.506779027286863,0.5774809059882382,0.5752088555257833,0.5511344604696264,0.5374451512727464,0.5340487712368434,0.4857817612088,0.5492861847468264,0.5864678429692725,0.49426460918198367,0.5969408723816233,0.5220221484535406,0.5462637367952847,0.5663764748354448,0.5542560592796657,0.6901331238967425,0.6301923462424289,0.5701753688234747,0.617213036366818,0.6131151606795944,0.8055319816523411,0.6006295234966169,0.5753265696598122,0.602373533822584,0.5825779235694891,1.0000000000000002,0.6344953554631406,0.5970397830103513,0.567168542521751,0.5981230516623086,0.6161476021230817,0.597213982836958,0.571777688512211,0.6230555728743021,0.580732461594118,0.6000545556582326,0.5128759101168092,0.6591705056072403,0.6103826998996988,0.38256571036065146,0.4494367879865462],[0.48082380101295674,0.5516100459850746,0.45728106472370234,0.5848115518014247,0.5321585595579172,0.5658821086820713,0.4552123827663327,0.5488535009440485,0.48695780185104587,0.49542194816703156,0.6405022410756285,0.7078489285154914,0.6647204849271008,0.6742607054135188,0.614267448739646,0.6027756259396871,0.6084710345733252,0.5524678806978152,0.6321308165895589,0.6194681204181804,0.5988888560232583,0.6777436730994186,0.6492202934651745,0.5481104660673437,0.6021428072240491,0.5795323797340461,0.6502998674165585,0.7152968184680806,0.6383502676395976,0.4940354885864658,0.43405003981366047,0.49359537991005004,0.48315029872500187,0.5035724469930942,0.5650467531456193,0.597261590730747,0.6475899021256127,0.5887721232278262,0.6497186838117749,0.5295206494878395,0.5547505219830065,0.5384476220382682,0.5346144845709557,0.5537252961023431,0.5971293199322942,0.5344620931580388,0.6364717635503698,0.5963977485672114,0.5509258146694639,0.5914912329137216,0.58587006647283,0.5626872512639354,0.5914516935760978,0.5772319886248884,0.6784614557380142,0.6492812009603632,0.6799636902642539,0.6588583147787741,0.6225632783398207,0.625478323309161,0.6050297189042223,0.6808085316806249,0.6858360226433895,0.6622951276904043,0.6344953554631406,1.0,0.617119915093741,0.5907385738649646,0.685579432556703,0.5779938488465284,0.6511365705746387,0.6481812763245687,0.7112956620650697,0.5933522938231094,0.6295903832435181,0.6514944773925662,0.7215211905218781,0.6833770958118799,0.4008671270434714,0.5465219158766088],[0.5306719484386442,0.5784271946027413,0.47373677439609757,0.5768174126910531,0.5373273243210162,0.5823331164928354,0.575204113933097,0.595543749333231,0.6133057437280576,0.4997430984826835,0.6147604989726556,0.6174906132502648,0.5844741487793075,0.6269379868806721,0.6606533060449369,0.7166750126545092,0.6351273830035273,0.670981169685481,0.6767101028843074,0.7047347864048942,0.6997485125687448,0.7037896858520957,0.7067514376486551,0.6012110914877841,0.6570846000181654,0.6860904763384309,0.6493482558377377,0.7016939348866679,0.6850585269144185,0.5827396196068406,0.6102949630934229,0.588723074835976,0.5972303817805922,0.5238494174054352,0.4934188732875937,0.5487366962952601,0.5993735292693232,0.6253867480198421,0.5471258548218159,0.5947100315286723,0.6099888554751873,0.6482229259054464,0.644114243793859,0.5867261991674717,0.5745081135376724,0.5455521715932977,0.6561002183842153,0.6157706522480935,0.552453640574617,0.6087312887225076,0.5756277403656187,0.5806388338519852,0.5715041607869652,0.5616714070234409,0.6810350083580352,0.6196010243359227,0.6095406868681381,0.6368468550917444,0.7521526427876214,0.6526783393664892,0.676145280482565,0.5884432874540653,0.615860018576383,0.6546080973213357,0.5970397830103513,0.617119915093741,0.9999999999999996,0.6508332754337909,0.657048430908721,0.6241930806860623,0.6711339943338313,0.6172900762476428,0.660264863339584,0.6473438971659666,0.6316538752466898,0.5883048605504786,0.6936742705090961,0.6899564915410359,0.45715858741895954,0.45532958528186396],[0.5500232848677775,0.6003780869620439,0.509406717374586,0.5804734381990966,0.5296074225556942,0.5876992996957547,0.5511111545847853,0.621794476559913,0.5920080274558366,0.5300741672027292,0.5737938184982915,0.5597922893347251,0.5428226034552566,0.5905037014342239,0.5786263115588126,0.7457589996674852,0.618972089527412,0.6225249238097265,0.6953994393203178,0.6661227147033099,0.7188433469404107,0.7532981789859441,0.6989054165522062,0.5537975166816889,0.6996596422519492,0.63013520969011,0.673485555926387,0.6545164312230172,0.641691235713986,0.5418165529037269,0.565008805953242,0.5312111188952271,0.6394713316513218,0.46847906441213544,0.5241264303563672,0.5677239704083497,0.5787617378763381,0.5653898679573557,0.5549134111869858,0.5902819252770877,0.6927696122435124,0.677893739779049,0.5966083277780324,0.6212078810858723,0.5691357637468796,0.5304874169901349,0.6136769257504049,0.5784762219494826,0.5667827086703613,0.6354855833891172,0.6211060150656613,0.7484896102909367,0.5966409170186431,0.6019311185516847,0.6654587194544288,0.5566590462037911,0.6208624522737827,0.6355708315365016,0.5697256219278949,0.6066659596447592,0.6579576162063475,0.562377161400168,0.5744905069555919,0.6194545045168367,0.567168542521751,0.5907385738649646,0.6508332754337909,1.0000000000000004,0.6527036852638786,0.7067557546209373,0.6582650480548192,0.6591299703953692,0.6480419653036631,0.6368763495517453,0.6634388154140104,0.5972196506192735,0.690806805565056,0.7102672996116448,0.45101503857265623,0.3992219809244244],[0.5593183751531976,0.6501453545604798,0.5679735157469268,0.6259020220751155,0.6101212794893257,0.6512950757476301,0.5375003406164163,0.6521576782727858,0.6059924737106845,0.5778461516680977,0.754455938512534,0.7176766062235236,0.7108390420856092,0.7007293899652806,0.5523239881342108,0.6207175425154533,0.55171022258497,0.5783871111530831,0.6193489106509105,0.6817989881697781,0.6286241317165575,0.6943607749931104,0.644370303277831,0.5780916114573595,0.6168433135685136,0.5951106380778415,0.6453475549097272,0.6726424606097521,0.6584538206511354,0.5598080834823789,0.5267799890183047,0.5187235293355614,0.5342284739969925,0.5391610610553639,0.5076624616796109,0.5138490606347561,0.561518242916526,0.6341427947523006,0.573464416175764,0.5826261252779115,0.6133620828262312,0.5651402486084693,0.5796396090891622,0.6034049505513319,0.5517723098705917,0.49486583651210175,0.5689091777384194,0.6284638117643133,0.6309617454862905,0.5917337297108209,0.6774174724491047,0.6088979690013373,0.6306558826485877,0.612352124447348,0.6701284029251291,0.5657556183858832,0.603035122036983,0.6345344957452119,0.5630179271385205,0.6117495789320966,0.6627769128044458,0.6362824245450991,0.5982166669682907,0.6165879853665222,0.5981230516623086,0.685579432556703,0.657048430908721,0.6527036852638786,1.0,0.6329950713676711,0.713869705625396,0.6692730571998694,0.6967903936022939,0.7026775159143659,0.6969073510076655,0.6875751656729802,0.7352572269767592,0.6944833691521262,0.4354524286968364,0.5282732651378002],[0.5657237050659694,0.6437369322056348,0.5687864100403814,0.5991946408208919,0.5058837053600521,0.5829921379796723,0.559522471438251,0.6821131975713003,0.579915611626013,0.5192927691116542,0.5829618211499065,0.5601458829604227,0.5548601622668062,0.5792971990660046,0.576127122436046,0.690166885015261,0.6262015015195033,0.6360875355808017,0.7066036549969901,0.6898420088030681,0.6381633055979462,0.7291796009594942,0.6719433757076816,0.6084266891509398,0.724344236553,0.5975980948983781,0.6991922616314878,0.6823493497730768,0.6600476640422694,0.5111895621573245,0.5553244419264128,0.5197080456496447,0.5355487866657047,0.5310528442458846,0.5522979199124776,0.528166227080459,0.5094307666942858,0.5383901951200449,0.5584299163344475,0.5430668990916923,0.6481689623253835,0.640929928618027,0.5882470133573086,0.6337646043347771,0.6625800807710485,0.6086425678528974,0.6059081578050085,0.61556995463533,0.577799159766494,0.6530676727072329,0.5872438514453877,0.6432607826931003,0.6689732082005471,0.6056014206891582,0.6386505270554892,0.6107477806531655,0.6133271599091845,0.6463335035795669,0.5993551777678197,0.6378262606825491,0.6302602763330516,0.6043084766408559,0.5642214652386726,0.666520134367077,0.6161476021230817,0.5779938488465284,0.6241930806860623,0.7067557546209373,0.6329950713676711,1.0000000000000004,0.6451701624832635,0.7215748211945341,0.6739518064398737,0.6790873851917869,0.6920292901093017,0.6150853864553052,0.7083558453917599,0.6970359619610874,0.4169535881081309,0.4193871614249955],[0.5166503563694126,0.6333847867686485,0.5000313854758464,0.6205835346157147,0.5489069837905949,0.6231472532483935,0.5469857180998708,0.5807838686216686,0.6411374639663006,0.5243627561005006,0.6605729061620813,0.6217631588284604,0.6251903483064845,0.6401898828522525,0.6564261697267135,0.6699324905338195,0.6736043519554205,0.6424401544442813,0.6628729932505419,0.7131463234944084,0.6610046497222348,0.7060574095231391,0.6688156114916693,0.6282538240926123,0.7030129092651844,0.6567580285625599,0.7046789823740034,0.7008974804166532,0.6656719000144143,0.5835335836329316,0.5399024676130599,0.5713457515511773,0.583473489384865,0.5140931813983971,0.5336773720604783,0.5361560191231934,0.5789597072649353,0.6480290138145741,0.6405137580136121,0.538702151918128,0.6803122098900174,0.611146741966065,0.6349830713104513,0.6536684646799813,0.5811437221815356,0.5420592948068329,0.6023720581929887,0.571324496048592,0.6257143933566031,0.6386481899360459,0.583257972528695,0.5627683570911413,0.6020922931296504,0.5772346596864358,0.669479110174938,0.611508016816331,0.6251469850120621,0.6747188989050269,0.6231445785054979,0.6083095825470842,0.6528712608666546,0.6470152023876096,0.6203534413887153,0.6589194184244254,0.597213982836958,0.6511365705746387,0.6711339943338313,0.6582650480548192,0.713869705625396,0.6451701624832635,1.0000000000000004,0.6867229919712288,0.69706429701204,0.6835327637094308,0.7081647107219606,0.699970542048082,0.706324641414688,0.6984612792613754,0.4137984040444917,0.4938555825021763],[0.5139292682042438,0.6729826298291068,0.5900471748600584,0.5791603648530119,0.5220028225201018,0.5663653980006865,0.49685503505453366,0.6351708130120384,0.554478193018262,0.5694749974240065,0.6339273176449477,0.5728472541143041,0.5543466666342038,0.5875199961767669,0.604425851218974,0.6251586428991838,0.6289955809341419,0.6029307312112135,0.5984390727230748,0.704840594851827,0.6315836608442951,0.6899873085100918,0.6598374192416385,0.599597408201818,0.6860964343478562,0.6223758108568851,0.6860187274618981,0.6752033755040506,0.66963920901342,0.5139576849521043,0.5144239787521021,0.5363816199282809,0.5551724272026936,0.513753790110375,0.5008161964775422,0.5553678529132845,0.5585082023872614,0.593804127018922,0.6815445162405548,0.5126589383315662,0.6146613546739172,0.5672604171888349,0.5445905817339155,0.5951520454991597,0.6295551113986328,0.58728781153236,0.6310760928190406,0.6290141174260737,0.614389185274794,0.6659466647914407,0.6118842709462115,0.573652908957859,0.6878844497523606,0.5984352286911551,0.6736329160148833,0.60923368097431,0.6261778438793062,0.6882433945755193,0.5922002527461712,0.6107782996827122,0.6323214879847479,0.6599361451862253,0.613588489870396,0.6285191493255637,0.571777688512211,0.6481812763245687,0.6172900762476428,0.6591299703953692,0.6692730571998694,0.7215748211945341,0.6867229919712288,1.0000000000000002,0.693912193916519,0.6552112648704367,0.676225624762341,0.6395851468936922,0.7015780006487238,0.6825011194737132,0.4100802068820791,0.40140213155495796],[0.5562389931943305,0.6868052229291757,0.5641502861915345,0.7245266380263979,0.63783462975543,0.6310992177520585,0.5764132759155625,0.6607742642130465,0.6356658917055906,0.5863755019140491,0.6634138902910827,0.677182723817618,0.6470954614373221,0.6617322040141258,0.5975068056929648,0.6375776138294578,0.5974601671999963,0.6165667101763529,0.6492266448649835,0.6663352739608793,0.6415571014184758,0.6968903707602154,0.7080671020099365,0.5942661832180506,0.6282168027805317,0.6125855547179081,0.6588455071878925,0.6847039688045465,0.6414459271247728,0.5121435010044184,0.4758703937916165,0.49847245915214045,0.576928547475865,0.5655030218808302,0.49303271373728363,0.5432013202725958,0.6229851031392715,0.5874598341128651,0.6038073712168506,0.5879852432035424,0.5879631928508882,0.5943949895135006,0.6117878600460525,0.61533951874235,0.6142735408264575,0.5706210290485746,0.647453414111435,0.6216454389282225,0.6547281953921309,0.6701746807800785,0.6294846365957762,0.582297673793075,0.708068109241687,0.6165596392492989,0.6627598612548332,0.620021145295377,0.5868480022607654,0.6498978714360637,0.6126167105598938,0.6281498922071324,0.690650399356292,0.6855898881613647,0.677435966281829,0.6524991583858967,0.6230555728743021,0.7112956620650697,0.660264863339584,0.6480419653036631,0.6967903936022939,0.6739518064398737,0.69706429701204,0.693912193916519,1.0,0.7019892383249599,0.6920999022511382,0.6771861031188046,0.7480965550586902,0.7528182620388013,0.49000785397667895,0.4831427068934699],[0.6052812625643631,0.7081961348897334,0.6307336020449863,0.7288645831631854,0.6134854800481003,0.6844150552148999,0.6371383146208736,0.6936372242272197,0.6549963145185856,0.6193899954366496,0.644215222776682,0.5859602350442403,0.6011624271246914,0.6072289287575596,0.5753346752563688,0.6616002739681199,0.601804738905214,0.6480007319604499,0.6563353610879861,0.7093319221541607,0.6329973780498848,0.6940279219425998,0.6795223781088389,0.6014006882891973,0.6287439317267549,0.6346919450704775,0.6406495581896696,0.6753928488366367,0.688806890621853,0.5043866902593124,0.5637905506836766,0.5497359888796987,0.5691613470322952,0.5119601170750316,0.504018202836605,0.5205147404226727,0.5724906712359812,0.5623193996220078,0.5565087287329964,0.5694537395938895,0.63269536904789,0.5816541056885745,0.6133130348295497,0.5978893438460797,0.5536242667027493,0.5242192164172146,0.6057074518955431,0.6468942815991282,0.6490042911568142,0.6657953193445159,0.6347343393074935,0.5510541344020645,0.6692868767297402,0.6346194525742052,0.615906824675479,0.5608197205995362,0.5225193374666592,0.6239397318126196,0.5915047277310239,0.613177158656046,0.6293670921324847,0.5747156611859583,0.5679468859779498,0.5918880152682777,0.580732461594118,0.5933522938231094,0.6473438971659666,0.6368763495517453,0.7026775159143659,0.6790873851917869,0.6835327637094308,0.6552112648704367,0.7019892383249599,0.9999999999999998,0.741763964547167,0.64371663306691,0.7110887260631065,0.7284123373030014,0.45748112118779416,0.4235971031857064],[0.6846382257523376,0.7071475621730949,0.6218109581185367,0.7058110419766211,0.5978706830828271,0.7621283658331952,0.6805590734364786,0.6975853968047391,0.640404226344194,0.561418005491019,0.6001937820755736,0.5872368119152807,0.6085124692115973,0.6039428429809948,0.6126381652565137,0.6628403077203926,0.6385333262194164,0.6259447123278665,0.6770273498569044,0.6477757437894766,0.653708548715236,0.7604651415826917,0.7111939232878806,0.552954282078479,0.6915312243981948,0.6290190401581923,0.6837149796601927,0.705029587598707,0.6484607917138028,0.5552808440547812,0.5167430641951495,0.546228487238618,0.5950580120169744,0.5107132985437481,0.4743951527343494,0.5362497444704879,0.5623736792104347,0.602454748341475,0.5735798380548017,0.5751100227394232,0.6606601204361737,0.5924572426130568,0.6199109531960869,0.6263830794861595,0.5966089550106859,0.5683901818546858,0.6297330271668214,0.5758924114961227,0.6073669040779893,0.6934318012979441,0.5763346810280311,0.651649534329483,0.676177569402054,0.5968793215339299,0.6439916202531705,0.5772487777626671,0.5933728895875521,0.6377198279279505,0.573709614017835,0.5828638485434149,0.6331385910195699,0.5940035843913918,0.5815103353334546,0.6227446624134398,0.6000545556582326,0.6295903832435181,0.6316538752466898,0.6634388154140104,0.6969073510076655,0.6920292901093017,0.7081647107219606,0.676225624762341,0.6920999022511382,0.741763964547167,1.0,0.6345941000251247,0.7118609693952007,0.7361603135228256,0.39433370710693055,0.4270058126327325],[0.50204153238658,0.5891711728690239,0.5092153962771364,0.5897572947143507,0.5281430937192457,0.5659236028638335,0.49103913265620636,0.5970628431526479,0.5779338414915084,0.5024839044795403,0.6833816273826252,0.6385287446354364,0.6150201772205457,0.6218973206689928,0.6359176655434304,0.580658874879379,0.6261797554789876,0.5797463099454411,0.6176242878095468,0.6019518392964374,0.5678658426375636,0.670769965922857,0.6454073123069017,0.5804667104547457,0.704976043831461,0.5808936850150246,0.7296783330129635,0.6255199513976533,0.614691804269871,0.46405796353432205,0.4717076098948577,0.48580391748210683,0.4751921241175505,0.5676019079340187,0.45509490918740547,0.485029559967214,0.5500381007826505,0.5358171575151501,0.6293089176976734,0.5164230726810692,0.6583975049317259,0.5248017108661446,0.535949059906239,0.5593491628946413,0.5439756152411025,0.4872665889726102,0.623293652952503,0.5161717753062771,0.6150810664119493,0.6196366863299467,0.5557100377421509,0.5479498983524446,0.6099445943888151,0.6633493642604027,0.6140959242959807,0.5549103360037415,0.5913491131777522,0.5939781312852593,0.5417244748304549,0.5420219695316771,0.6183042931539162,0.6067334494370958,0.6038409637059723,0.6234643764582504,0.5128759101168092,0.6514944773925662,0.5883048605504786,0.5972196506192735,0.6875751656729802,0.6150853864553052,0.699970542048082,0.6395851468936922,0.6771861031188046,0.64371663306691,0.6345941000251247,0.9999999999999992,0.6794236680876923,0.7186809900409931,0.4320761868417349,0.5069982107318391],[0.5736975434099967,0.6560610210272699,0.5640307028067827,0.6726895056480704,0.6117648178958801,0.610504208021666,0.5722573665736921,0.6604360242807806,0.6142699406647096,0.5866371550974561,0.7062924336567602,0.7080866208308048,0.6725585007160074,0.7044325856490895,0.663231323015639,0.6874759027486255,0.6824756757117022,0.6275672606646963,0.6898543593753657,0.7075337352432547,0.68223543203987,0.7749789106885886,0.7167379200532733,0.6313370314876188,0.6888701054590354,0.654690905328411,0.7150107559252941,0.7144509593403878,0.7199270406655426,0.5504177522143914,0.541563004720079,0.5815230078333409,0.5867121676794533,0.5739790030428688,0.5466299217804572,0.5940547823359188,0.6667788460787463,0.5944658900412547,0.619978458558814,0.6206828847790089,0.6268506343016849,0.6180717365468197,0.5983778638153222,0.6206275516404797,0.6443159265128943,0.5745480477323802,0.6745929451942825,0.6614894506790593,0.6584529251101415,0.642834963580295,0.6571355166625172,0.6375784405040268,0.6878776497781199,0.6478524220797512,0.7290659641098951,0.6718068376766031,0.6659846769096085,0.6864281437989928,0.6578381663451218,0.6697571194354164,0.6543755743235069,0.7189618882887095,0.664286604115572,0.6631903088474413,0.6591705056072403,0.7215211905218781,0.6936742705090961,0.690806805565056,0.7352572269767592,0.7083558453917599,0.706324641414688,0.7015780006487238,0.7480965550586902,0.7110887260631065,0.7118609693952007,0.6794236680876923,1.0000000000000002,0.8132184398631677,0.5011977750793852,0.5002966411922991],[0.61244044233234,0.6916145372196187,0.5740178977886038,0.7266250860411095,0.6710246095007946,0.6720087688461298,0.5910595890643195,0.7083677056881015,0.6598743437716661,0.6067008887098241,0.6708807416952142,0.6503315355626627,0.6349283820935718,0.6698258310003518,0.619322348591074,0.708566307718561,0.6554009450893026,0.6592246505535424,0.7154080156395148,0.681545972602347,0.6532375611191596,0.774135417843266,0.7656162032325475,0.6037371657944037,0.6778546702354344,0.6294260618906987,0.7415161996584669,0.6892139652015026,0.674116610150501,0.5519826018602452,0.5556547675027228,0.5215562851148806,0.5709446005353,0.5721317522291165,0.5450314457711227,0.5461719526507833,0.6162699053528362,0.5845590128715967,0.6352196643680299,0.6132970429718925,0.6923418708077476,0.6266000488868102,0.6230216412128329,0.6676552065485768,0.6623003980428004,0.6109732213825191,0.7330478888183407,0.6357014439831983,0.6744627981692471,0.6802405806685498,0.6269563697090269,0.6154444553803113,0.7063502003518246,0.6697358931104587,0.7152304112136558,0.6595623807252942,0.6717326301115305,0.6625908873105689,0.62916912010855,0.6416985273416382,0.6541039919429159,0.6643987993245974,0.6642593969103011,0.6345919424032365,0.6103826998996988,0.6833770958118799,0.6899564915410359,0.7102672996116448,0.6944833691521262,0.6970359619610874,0.6984612792613754,0.6825011194737132,0.7528182620388013,0.7284123373030014,0.7361603135228256,0.7186809900409931,0.8132184398631677,1.0000000000000004,0.48183770472748866,0.47540981223589973],[0.2946078460033231,0.4060495605113038,0.36263938400300816,0.42228133057107076,0.3926279203631876,0.39804805248598324,0.4313331874439156,0.394824258511968,0.389001099434716,0.3669871174149033,0.5442230121522583,0.42799751741760905,0.4252452148864305,0.44873166128733094,0.4480612747410587,0.42067719645124546,0.4652916039414787,0.437123835992669,0.46352730549551535,0.4542744766844189,0.43271658961828297,0.4724546706420848,0.46093471648939877,0.46007029632774665,0.4294331442453822,0.44724357665008974,0.4556090336573375,0.464446927563668,0.4875225230578569,0.3430463703305515,0.37537342899919207,0.37700102894796683,0.49839763736661014,0.4238390989838714,0.3029228904259418,0.4196765064971985,0.3782998992712566,0.39938218423824023,0.38534209781542156,0.3502936313396491,0.4152231857949955,0.40126817717512153,0.386119467441442,0.3665618670596399,0.40711592341663333,0.39058983367539074,0.44724068842971365,0.4396875123685373,0.35208690015247013,0.35114451973310035,0.4359339109511224,0.3462919878684184,0.4085238324326401,0.324845958523577,0.4573755995445187,0.39522176699446476,0.38476515088915986,0.43772957859748873,0.4078622786750412,0.439834159251712,0.4403442786307274,0.3977600398503096,0.4201017740737925,0.39662452437427287,0.38256571036065146,0.4008671270434714,0.45715858741895954,0.45101503857265623,0.4354524286968364,0.4169535881081309,0.4137984040444917,0.4100802068820791,0.49000785397667895,0.45748112118779416,0.39433370710693055,0.4320761868417349,0.5011977750793852,0.48183770472748866,1.0,0.2889514924804989],[0.30356926808004614,0.3410844877419915,0.3178402665692937,0.3925068439219839,0.3261886688651169,0.3786715671892651,0.3635706241762564,0.32805158520181527,0.35259074138988666,0.33223423078449876,0.58965964304865,0.5869682605329245,0.5853560433373401,0.6278155365157465,0.41891907507229864,0.4290707024804147,0.37402589560470756,0.4125697765757199,0.4386374174279061,0.4137113541586142,0.4060086517171372,0.49597664767484073,0.4402448955787901,0.3849273976697236,0.3939549906284635,0.4184698540982976,0.4236218054187574,0.4635798532792875,0.4393108293556761,0.3719933945772178,0.37497140384800626,0.3761736524453544,0.3502844970890598,0.3200559897910834,0.44669898358555704,0.38440006231737833,0.42742113852241725,0.42045774049674983,0.4869491456912184,0.37233000783672854,0.38186352096663057,0.35098562396644717,0.40827627083174534,0.3966522613291746,0.397862588321281,0.3348066237322163,0.42989735934289197,0.4226180345601914,0.3529237267976866,0.3530480458505501,0.3952595605360604,0.4398777390427479,0.3871270225097204,0.37591156337988646,0.4169979599992798,0.44933743059919196,0.38785250855515363,0.4338051135853258,0.40682314035453665,0.43151413197439065,0.42410840793938376,0.49387449847336906,0.38971314735321405,0.4504144670310371,0.4494367879865462,0.5465219158766088,0.45532958528186396,0.3992219809244244,0.5282732651378002,0.4193871614249955,0.4938555825021763,0.40140213155495796,0.4831427068934699,0.4235971031857064,0.4270058126327325,0.5069982107318391,0.5002966411922991,0.47540981223589973,0.2889514924804989,0.9999999999999993]],\"type\":\"heatmap\",\"xaxis\":\"x\",\"yaxis\":\"y\",\"hovertemplate\":\"x: %{x}<br>y: %{y}<br>Similarity Score: %{z}<extra></extra>\"}],                        {\"template\":{\"data\":{\"bar\":[{\"error_x\":{\"color\":\"#2a3f5f\"},\"error_y\":{\"color\":\"#2a3f5f\"},\"marker\":{\"line\":{\"color\":\"#E5ECF6\",\"width\":0.5},\"pattern\":{\"fillmode\":\"overlay\",\"size\":10,\"solidity\":0.2}},\"type\":\"bar\"}],\"barpolar\":[{\"marker\":{\"line\":{\"color\":\"#E5ECF6\",\"width\":0.5},\"pattern\":{\"fillmode\":\"overlay\",\"size\":10,\"solidity\":0.2}},\"type\":\"barpolar\"}],\"carpet\":[{\"aaxis\":{\"endlinecolor\":\"#2a3f5f\",\"gridcolor\":\"white\",\"linecolor\":\"white\",\"minorgridcolor\":\"white\",\"startlinecolor\":\"#2a3f5f\"},\"baxis\":{\"endlinecolor\":\"#2a3f5f\",\"gridcolor\":\"white\",\"linecolor\":\"white\",\"minorgridcolor\":\"white\",\"startlinecolor\":\"#2a3f5f\"},\"type\":\"carpet\"}],\"choropleth\":[{\"colorbar\":{\"outlinewidth\":0,\"ticks\":\"\"},\"type\":\"choropleth\"}],\"contour\":[{\"colorbar\":{\"outlinewidth\":0,\"ticks\":\"\"},\"colorscale\":[[0.0,\"#0d0887\"],[0.1111111111111111,\"#46039f\"],[0.2222222222222222,\"#7201a8\"],[0.3333333333333333,\"#9c179e\"],[0.4444444444444444,\"#bd3786\"],[0.5555555555555556,\"#d8576b\"],[0.6666666666666666,\"#ed7953\"],[0.7777777777777778,\"#fb9f3a\"],[0.8888888888888888,\"#fdca26\"],[1.0,\"#f0f921\"]],\"type\":\"contour\"}],\"contourcarpet\":[{\"colorbar\":{\"outlinewidth\":0,\"ticks\":\"\"},\"type\":\"contourcarpet\"}],\"heatmap\":[{\"colorbar\":{\"outlinewidth\":0,\"ticks\":\"\"},\"colorscale\":[[0.0,\"#0d0887\"],[0.1111111111111111,\"#46039f\"],[0.2222222222222222,\"#7201a8\"],[0.3333333333333333,\"#9c179e\"],[0.4444444444444444,\"#bd3786\"],[0.5555555555555556,\"#d8576b\"],[0.6666666666666666,\"#ed7953\"],[0.7777777777777778,\"#fb9f3a\"],[0.8888888888888888,\"#fdca26\"],[1.0,\"#f0f921\"]],\"type\":\"heatmap\"}],\"heatmapgl\":[{\"colorbar\":{\"outlinewidth\":0,\"ticks\":\"\"},\"colorscale\":[[0.0,\"#0d0887\"],[0.1111111111111111,\"#46039f\"],[0.2222222222222222,\"#7201a8\"],[0.3333333333333333,\"#9c179e\"],[0.4444444444444444,\"#bd3786\"],[0.5555555555555556,\"#d8576b\"],[0.6666666666666666,\"#ed7953\"],[0.7777777777777778,\"#fb9f3a\"],[0.8888888888888888,\"#fdca26\"],[1.0,\"#f0f921\"]],\"type\":\"heatmapgl\"}],\"histogram\":[{\"marker\":{\"pattern\":{\"fillmode\":\"overlay\",\"size\":10,\"solidity\":0.2}},\"type\":\"histogram\"}],\"histogram2d\":[{\"colorbar\":{\"outlinewidth\":0,\"ticks\":\"\"},\"colorscale\":[[0.0,\"#0d0887\"],[0.1111111111111111,\"#46039f\"],[0.2222222222222222,\"#7201a8\"],[0.3333333333333333,\"#9c179e\"],[0.4444444444444444,\"#bd3786\"],[0.5555555555555556,\"#d8576b\"],[0.6666666666666666,\"#ed7953\"],[0.7777777777777778,\"#fb9f3a\"],[0.8888888888888888,\"#fdca26\"],[1.0,\"#f0f921\"]],\"type\":\"histogram2d\"}],\"histogram2dcontour\":[{\"colorbar\":{\"outlinewidth\":0,\"ticks\":\"\"},\"colorscale\":[[0.0,\"#0d0887\"],[0.1111111111111111,\"#46039f\"],[0.2222222222222222,\"#7201a8\"],[0.3333333333333333,\"#9c179e\"],[0.4444444444444444,\"#bd3786\"],[0.5555555555555556,\"#d8576b\"],[0.6666666666666666,\"#ed7953\"],[0.7777777777777778,\"#fb9f3a\"],[0.8888888888888888,\"#fdca26\"],[1.0,\"#f0f921\"]],\"type\":\"histogram2dcontour\"}],\"mesh3d\":[{\"colorbar\":{\"outlinewidth\":0,\"ticks\":\"\"},\"type\":\"mesh3d\"}],\"parcoords\":[{\"line\":{\"colorbar\":{\"outlinewidth\":0,\"ticks\":\"\"}},\"type\":\"parcoords\"}],\"pie\":[{\"automargin\":true,\"type\":\"pie\"}],\"scatter\":[{\"marker\":{\"colorbar\":{\"outlinewidth\":0,\"ticks\":\"\"}},\"type\":\"scatter\"}],\"scatter3d\":[{\"line\":{\"colorbar\":{\"outlinewidth\":0,\"ticks\":\"\"}},\"marker\":{\"colorbar\":{\"outlinewidth\":0,\"ticks\":\"\"}},\"type\":\"scatter3d\"}],\"scattercarpet\":[{\"marker\":{\"colorbar\":{\"outlinewidth\":0,\"ticks\":\"\"}},\"type\":\"scattercarpet\"}],\"scattergeo\":[{\"marker\":{\"colorbar\":{\"outlinewidth\":0,\"ticks\":\"\"}},\"type\":\"scattergeo\"}],\"scattergl\":[{\"marker\":{\"colorbar\":{\"outlinewidth\":0,\"ticks\":\"\"}},\"type\":\"scattergl\"}],\"scattermapbox\":[{\"marker\":{\"colorbar\":{\"outlinewidth\":0,\"ticks\":\"\"}},\"type\":\"scattermapbox\"}],\"scatterpolar\":[{\"marker\":{\"colorbar\":{\"outlinewidth\":0,\"ticks\":\"\"}},\"type\":\"scatterpolar\"}],\"scatterpolargl\":[{\"marker\":{\"colorbar\":{\"outlinewidth\":0,\"ticks\":\"\"}},\"type\":\"scatterpolargl\"}],\"scatterternary\":[{\"marker\":{\"colorbar\":{\"outlinewidth\":0,\"ticks\":\"\"}},\"type\":\"scatterternary\"}],\"surface\":[{\"colorbar\":{\"outlinewidth\":0,\"ticks\":\"\"},\"colorscale\":[[0.0,\"#0d0887\"],[0.1111111111111111,\"#46039f\"],[0.2222222222222222,\"#7201a8\"],[0.3333333333333333,\"#9c179e\"],[0.4444444444444444,\"#bd3786\"],[0.5555555555555556,\"#d8576b\"],[0.6666666666666666,\"#ed7953\"],[0.7777777777777778,\"#fb9f3a\"],[0.8888888888888888,\"#fdca26\"],[1.0,\"#f0f921\"]],\"type\":\"surface\"}],\"table\":[{\"cells\":{\"fill\":{\"color\":\"#EBF0F8\"},\"line\":{\"color\":\"white\"}},\"header\":{\"fill\":{\"color\":\"#C8D4E3\"},\"line\":{\"color\":\"white\"}},\"type\":\"table\"}]},\"layout\":{\"annotationdefaults\":{\"arrowcolor\":\"#2a3f5f\",\"arrowhead\":0,\"arrowwidth\":1},\"autotypenumbers\":\"strict\",\"coloraxis\":{\"colorbar\":{\"outlinewidth\":0,\"ticks\":\"\"}},\"colorscale\":{\"diverging\":[[0,\"#8e0152\"],[0.1,\"#c51b7d\"],[0.2,\"#de77ae\"],[0.3,\"#f1b6da\"],[0.4,\"#fde0ef\"],[0.5,\"#f7f7f7\"],[0.6,\"#e6f5d0\"],[0.7,\"#b8e186\"],[0.8,\"#7fbc41\"],[0.9,\"#4d9221\"],[1,\"#276419\"]],\"sequential\":[[0.0,\"#0d0887\"],[0.1111111111111111,\"#46039f\"],[0.2222222222222222,\"#7201a8\"],[0.3333333333333333,\"#9c179e\"],[0.4444444444444444,\"#bd3786\"],[0.5555555555555556,\"#d8576b\"],[0.6666666666666666,\"#ed7953\"],[0.7777777777777778,\"#fb9f3a\"],[0.8888888888888888,\"#fdca26\"],[1.0,\"#f0f921\"]],\"sequentialminus\":[[0.0,\"#0d0887\"],[0.1111111111111111,\"#46039f\"],[0.2222222222222222,\"#7201a8\"],[0.3333333333333333,\"#9c179e\"],[0.4444444444444444,\"#bd3786\"],[0.5555555555555556,\"#d8576b\"],[0.6666666666666666,\"#ed7953\"],[0.7777777777777778,\"#fb9f3a\"],[0.8888888888888888,\"#fdca26\"],[1.0,\"#f0f921\"]]},\"colorway\":[\"#636efa\",\"#EF553B\",\"#00cc96\",\"#ab63fa\",\"#FFA15A\",\"#19d3f3\",\"#FF6692\",\"#B6E880\",\"#FF97FF\",\"#FECB52\"],\"font\":{\"color\":\"#2a3f5f\"},\"geo\":{\"bgcolor\":\"white\",\"lakecolor\":\"white\",\"landcolor\":\"#E5ECF6\",\"showlakes\":true,\"showland\":true,\"subunitcolor\":\"white\"},\"hoverlabel\":{\"align\":\"left\"},\"hovermode\":\"closest\",\"mapbox\":{\"style\":\"light\"},\"paper_bgcolor\":\"white\",\"plot_bgcolor\":\"#E5ECF6\",\"polar\":{\"angularaxis\":{\"gridcolor\":\"white\",\"linecolor\":\"white\",\"ticks\":\"\"},\"bgcolor\":\"#E5ECF6\",\"radialaxis\":{\"gridcolor\":\"white\",\"linecolor\":\"white\",\"ticks\":\"\"}},\"scene\":{\"xaxis\":{\"backgroundcolor\":\"#E5ECF6\",\"gridcolor\":\"white\",\"gridwidth\":2,\"linecolor\":\"white\",\"showbackground\":true,\"ticks\":\"\",\"zerolinecolor\":\"white\"},\"yaxis\":{\"backgroundcolor\":\"#E5ECF6\",\"gridcolor\":\"white\",\"gridwidth\":2,\"linecolor\":\"white\",\"showbackground\":true,\"ticks\":\"\",\"zerolinecolor\":\"white\"},\"zaxis\":{\"backgroundcolor\":\"#E5ECF6\",\"gridcolor\":\"white\",\"gridwidth\":2,\"linecolor\":\"white\",\"showbackground\":true,\"ticks\":\"\",\"zerolinecolor\":\"white\"}},\"shapedefaults\":{\"line\":{\"color\":\"#2a3f5f\"}},\"ternary\":{\"aaxis\":{\"gridcolor\":\"white\",\"linecolor\":\"white\",\"ticks\":\"\"},\"baxis\":{\"gridcolor\":\"white\",\"linecolor\":\"white\",\"ticks\":\"\"},\"bgcolor\":\"#E5ECF6\",\"caxis\":{\"gridcolor\":\"white\",\"linecolor\":\"white\",\"ticks\":\"\"}},\"title\":{\"x\":0.05},\"xaxis\":{\"automargin\":true,\"gridcolor\":\"white\",\"linecolor\":\"white\",\"ticks\":\"\",\"title\":{\"standoff\":15},\"zerolinecolor\":\"white\",\"zerolinewidth\":2},\"yaxis\":{\"automargin\":true,\"gridcolor\":\"white\",\"linecolor\":\"white\",\"ticks\":\"\",\"title\":{\"standoff\":15},\"zerolinecolor\":\"white\",\"zerolinewidth\":2}}},\"xaxis\":{\"anchor\":\"y\",\"domain\":[0.0,1.0],\"scaleanchor\":\"y\",\"constrain\":\"domain\"},\"yaxis\":{\"anchor\":\"x\",\"domain\":[0.0,1.0],\"autorange\":\"reversed\",\"constrain\":\"domain\"},\"coloraxis\":{\"colorbar\":{\"title\":{\"text\":\"Similarity Score\"}},\"colorscale\":[[0.0,\"rgb(247,252,240)\"],[0.125,\"rgb(224,243,219)\"],[0.25,\"rgb(204,235,197)\"],[0.375,\"rgb(168,221,181)\"],[0.5,\"rgb(123,204,196)\"],[0.625,\"rgb(78,179,211)\"],[0.75,\"rgb(43,140,190)\"],[0.875,\"rgb(8,104,172)\"],[1.0,\"rgb(8,64,129)\"]]},\"margin\":{\"t\":60},\"title\":{\"font\":{\"size\":22,\"color\":\"Black\"},\"text\":\"<b>Similarity Matrix</b>\",\"y\":0.95,\"x\":0.55,\"xanchor\":\"center\",\"yanchor\":\"top\"},\"hoverlabel\":{\"font\":{\"size\":16,\"family\":\"Rockwell\"},\"bgcolor\":\"white\"},\"width\":1000,\"height\":1000,\"showlegend\":true,\"legend\":{\"title\":{\"text\":\"Trend\"}}},                        {\"responsive\": true}                    ).then(function(){\n",
              "                            \n",
              "var gd = document.getElementById('8fb8abdc-0c1e-47d6-89b2-5ec50ea92ed7');\n",
              "var x = new MutationObserver(function (mutations, observer) {{\n",
              "        var display = window.getComputedStyle(gd).display;\n",
              "        if (!display || display === 'none') {{\n",
              "            console.log([gd, 'removed!']);\n",
              "            Plotly.purge(gd);\n",
              "            observer.disconnect();\n",
              "        }}\n",
              "}});\n",
              "\n",
              "// Listen for the removal of the full notebook cells\n",
              "var notebookContainer = gd.closest('#notebook-container');\n",
              "if (notebookContainer) {{\n",
              "    x.observe(notebookContainer, {childList: true});\n",
              "}}\n",
              "\n",
              "// Listen for the clearing of the current output cell\n",
              "var outputEl = gd.closest('.output');\n",
              "if (outputEl) {{\n",
              "    x.observe(outputEl, {childList: true});\n",
              "}}\n",
              "\n",
              "                        })                };                            </script>        </div>\n",
              "</body>\n",
              "</html>"
            ]
          },
          "metadata": {}
        }
      ]
    },
    {
      "cell_type": "code",
      "source": [
        "topic_model.update_topics(docs, n_gram_range=(1, 2))\n",
        "topic_model.reduce_topics(docs, nr_topics=10)"
      ],
      "metadata": {
        "colab": {
          "base_uri": "https://localhost:8080/"
        },
        "id": "kaBzmDBZ7oP3",
        "outputId": "bae91cad-6dc7-441a-fcc5-a90bb52ed605"
      },
      "execution_count": 56,
      "outputs": [
        {
          "output_type": "stream",
          "name": "stderr",
          "text": [
            "2023-03-17 18:30:41,487 - BERTopic - Reduced number of topics from 10 to 10\n"
          ]
        },
        {
          "output_type": "execute_result",
          "data": {
            "text/plain": [
              "<bertopic._bertopic.BERTopic at 0x7fb7509dfe50>"
            ]
          },
          "metadata": {},
          "execution_count": 56
        }
      ]
    },
    {
      "cell_type": "code",
      "source": [
        "topic_model.visualize_barchart(top_n_topics=10)"
      ],
      "metadata": {
        "colab": {
          "base_uri": "https://localhost:8080/",
          "height": 767
        },
        "id": "ghKI83qM7oNy",
        "outputId": "0e0f245d-f250-4926-fb67-950d5c5851b0"
      },
      "execution_count": 57,
      "outputs": [
        {
          "output_type": "display_data",
          "data": {
            "text/html": [
              "<html>\n",
              "<head><meta charset=\"utf-8\" /></head>\n",
              "<body>\n",
              "    <div>            <script src=\"https://cdnjs.cloudflare.com/ajax/libs/mathjax/2.7.5/MathJax.js?config=TeX-AMS-MML_SVG\"></script><script type=\"text/javascript\">if (window.MathJax) {MathJax.Hub.Config({SVG: {font: \"STIX-Web\"}});}</script>                <script type=\"text/javascript\">window.PlotlyConfig = {MathJaxConfig: 'local'};</script>\n",
              "        <script src=\"https://cdn.plot.ly/plotly-2.8.3.min.js\"></script>                <div id=\"7c4e5754-866f-401f-b813-45d353baf830\" class=\"plotly-graph-div\" style=\"height:750px; width:1000px;\"></div>            <script type=\"text/javascript\">                                    window.PLOTLYENV=window.PLOTLYENV || {};                                    if (document.getElementById(\"7c4e5754-866f-401f-b813-45d353baf830\")) {                    Plotly.newPlot(                        \"7c4e5754-866f-401f-b813-45d353baf830\",                        [{\"marker\":{\"color\":\"#D55E00\"},\"orientation\":\"h\",\"x\":[0.010960951175750555,0.011385655128348507,0.011397798166199694,0.014400060620645711,0.015405345816703529],\"y\":[\"pay  \",\"account  \",\"free  \",\"like  \",\"tweets  \"],\"type\":\"bar\",\"xaxis\":\"x\",\"yaxis\":\"y\"},{\"marker\":{\"color\":\"#0072B2\"},\"orientation\":\"h\",\"x\":[1e-05,1e-05,1e-05,1e-05,1e-05],\"y\":[\"  \",\"  \",\"  \",\"  \",\"  \"],\"type\":\"bar\",\"xaxis\":\"x2\",\"yaxis\":\"y2\"},{\"marker\":{\"color\":\"#CC79A7\"},\"orientation\":\"h\",\"x\":[0.10419357553546987,0.144903027740593,0.144903027740593,0.20659367443316182,0.4852087327504694],\"y\":[\"saramambotche  \",\"saramambotche sip  \",\"sip  \",\"ratioscrazy  \",\"ratio  \"],\"type\":\"bar\",\"xaxis\":\"x3\",\"yaxis\":\"y3\"},{\"marker\":{\"color\":\"#E69F00\"},\"orientation\":\"h\",\"x\":[0.05901677637127094,0.093755362292961,0.10698830262010173,1.9654285754524183,2.337557021715597],\"y\":[\"oh  \",\"oh fuck  \",\"fuck oh  \",\"fuck  \",\"fuck fuck  \"],\"type\":\"bar\",\"xaxis\":\"x4\",\"yaxis\":\"y4\"},{\"marker\":{\"color\":\"#56B4E9\"},\"orientation\":\"h\",\"x\":[0.2257641825476815,0.24476306332277797,0.26449948551512475,0.29377783413594766,0.3755028291978311],\"y\":[\"dick  \",\"crap  \",\"stupid rip  \",\"rip  \",\"stupid  \"],\"type\":\"bar\",\"xaxis\":\"x5\",\"yaxis\":\"y5\"},{\"marker\":{\"color\":\"#009E73\"},\"orientation\":\"h\",\"x\":[0.06751915928497072,0.12507083264040061,0.12507083264040061,1.712197928750526,2.415303212684372],\"y\":[\"days  \",\"days enthusiasm  \",\"enthusiasm days  \",\"enthusiasm  \",\"enthusiasm enthusiasm  \"],\"type\":\"bar\",\"xaxis\":\"x6\",\"yaxis\":\"y6\"},{\"marker\":{\"color\":\"#F0E442\"},\"orientation\":\"h\",\"x\":[0.06979098717771984,0.06979098717771984,0.14119043772297138,0.19920497026852169,0.3582343648494054],\"y\":[\"enthusiasm room  \",\"enthusiasm yeah  \",\"immense enthusiasm  \",\"immense  \",\"enthusiasm  \"],\"type\":\"bar\",\"xaxis\":\"x7\",\"yaxis\":\"y7\"},{\"marker\":{\"color\":\"#D55E00\"},\"orientation\":\"h\",\"x\":[0.3877104434916717,0.3877104434916717,0.6470624855030532,0.6852507269555896,0.6852507269555896],\"y\":[\"tesv remember  \",\"mebot hello  \",\"remember  \",\"mebot  \",\"remember mebot  \"],\"type\":\"bar\",\"xaxis\":\"x8\",\"yaxis\":\"y8\"},{\"marker\":{\"color\":\"#0072B2\"},\"orientation\":\"h\",\"x\":[0.41984723422274384,0.5985919284858279,0.7507971403317463,1.046394012703959,1.1291186467455263],\"y\":[\"lmao lmao  \",\"lmao lol  \",\"lmao  \",\"lol lol  \",\"lol  \"],\"type\":\"bar\",\"xaxis\":\"x9\",\"yaxis\":\"y9\"}],                        {\"template\":{\"data\":{\"barpolar\":[{\"marker\":{\"line\":{\"color\":\"white\",\"width\":0.5},\"pattern\":{\"fillmode\":\"overlay\",\"size\":10,\"solidity\":0.2}},\"type\":\"barpolar\"}],\"bar\":[{\"error_x\":{\"color\":\"#2a3f5f\"},\"error_y\":{\"color\":\"#2a3f5f\"},\"marker\":{\"line\":{\"color\":\"white\",\"width\":0.5},\"pattern\":{\"fillmode\":\"overlay\",\"size\":10,\"solidity\":0.2}},\"type\":\"bar\"}],\"carpet\":[{\"aaxis\":{\"endlinecolor\":\"#2a3f5f\",\"gridcolor\":\"#C8D4E3\",\"linecolor\":\"#C8D4E3\",\"minorgridcolor\":\"#C8D4E3\",\"startlinecolor\":\"#2a3f5f\"},\"baxis\":{\"endlinecolor\":\"#2a3f5f\",\"gridcolor\":\"#C8D4E3\",\"linecolor\":\"#C8D4E3\",\"minorgridcolor\":\"#C8D4E3\",\"startlinecolor\":\"#2a3f5f\"},\"type\":\"carpet\"}],\"choropleth\":[{\"colorbar\":{\"outlinewidth\":0,\"ticks\":\"\"},\"type\":\"choropleth\"}],\"contourcarpet\":[{\"colorbar\":{\"outlinewidth\":0,\"ticks\":\"\"},\"type\":\"contourcarpet\"}],\"contour\":[{\"colorbar\":{\"outlinewidth\":0,\"ticks\":\"\"},\"colorscale\":[[0.0,\"#0d0887\"],[0.1111111111111111,\"#46039f\"],[0.2222222222222222,\"#7201a8\"],[0.3333333333333333,\"#9c179e\"],[0.4444444444444444,\"#bd3786\"],[0.5555555555555556,\"#d8576b\"],[0.6666666666666666,\"#ed7953\"],[0.7777777777777778,\"#fb9f3a\"],[0.8888888888888888,\"#fdca26\"],[1.0,\"#f0f921\"]],\"type\":\"contour\"}],\"heatmapgl\":[{\"colorbar\":{\"outlinewidth\":0,\"ticks\":\"\"},\"colorscale\":[[0.0,\"#0d0887\"],[0.1111111111111111,\"#46039f\"],[0.2222222222222222,\"#7201a8\"],[0.3333333333333333,\"#9c179e\"],[0.4444444444444444,\"#bd3786\"],[0.5555555555555556,\"#d8576b\"],[0.6666666666666666,\"#ed7953\"],[0.7777777777777778,\"#fb9f3a\"],[0.8888888888888888,\"#fdca26\"],[1.0,\"#f0f921\"]],\"type\":\"heatmapgl\"}],\"heatmap\":[{\"colorbar\":{\"outlinewidth\":0,\"ticks\":\"\"},\"colorscale\":[[0.0,\"#0d0887\"],[0.1111111111111111,\"#46039f\"],[0.2222222222222222,\"#7201a8\"],[0.3333333333333333,\"#9c179e\"],[0.4444444444444444,\"#bd3786\"],[0.5555555555555556,\"#d8576b\"],[0.6666666666666666,\"#ed7953\"],[0.7777777777777778,\"#fb9f3a\"],[0.8888888888888888,\"#fdca26\"],[1.0,\"#f0f921\"]],\"type\":\"heatmap\"}],\"histogram2dcontour\":[{\"colorbar\":{\"outlinewidth\":0,\"ticks\":\"\"},\"colorscale\":[[0.0,\"#0d0887\"],[0.1111111111111111,\"#46039f\"],[0.2222222222222222,\"#7201a8\"],[0.3333333333333333,\"#9c179e\"],[0.4444444444444444,\"#bd3786\"],[0.5555555555555556,\"#d8576b\"],[0.6666666666666666,\"#ed7953\"],[0.7777777777777778,\"#fb9f3a\"],[0.8888888888888888,\"#fdca26\"],[1.0,\"#f0f921\"]],\"type\":\"histogram2dcontour\"}],\"histogram2d\":[{\"colorbar\":{\"outlinewidth\":0,\"ticks\":\"\"},\"colorscale\":[[0.0,\"#0d0887\"],[0.1111111111111111,\"#46039f\"],[0.2222222222222222,\"#7201a8\"],[0.3333333333333333,\"#9c179e\"],[0.4444444444444444,\"#bd3786\"],[0.5555555555555556,\"#d8576b\"],[0.6666666666666666,\"#ed7953\"],[0.7777777777777778,\"#fb9f3a\"],[0.8888888888888888,\"#fdca26\"],[1.0,\"#f0f921\"]],\"type\":\"histogram2d\"}],\"histogram\":[{\"marker\":{\"pattern\":{\"fillmode\":\"overlay\",\"size\":10,\"solidity\":0.2}},\"type\":\"histogram\"}],\"mesh3d\":[{\"colorbar\":{\"outlinewidth\":0,\"ticks\":\"\"},\"type\":\"mesh3d\"}],\"parcoords\":[{\"line\":{\"colorbar\":{\"outlinewidth\":0,\"ticks\":\"\"}},\"type\":\"parcoords\"}],\"pie\":[{\"automargin\":true,\"type\":\"pie\"}],\"scatter3d\":[{\"line\":{\"colorbar\":{\"outlinewidth\":0,\"ticks\":\"\"}},\"marker\":{\"colorbar\":{\"outlinewidth\":0,\"ticks\":\"\"}},\"type\":\"scatter3d\"}],\"scattercarpet\":[{\"marker\":{\"colorbar\":{\"outlinewidth\":0,\"ticks\":\"\"}},\"type\":\"scattercarpet\"}],\"scattergeo\":[{\"marker\":{\"colorbar\":{\"outlinewidth\":0,\"ticks\":\"\"}},\"type\":\"scattergeo\"}],\"scattergl\":[{\"marker\":{\"colorbar\":{\"outlinewidth\":0,\"ticks\":\"\"}},\"type\":\"scattergl\"}],\"scattermapbox\":[{\"marker\":{\"colorbar\":{\"outlinewidth\":0,\"ticks\":\"\"}},\"type\":\"scattermapbox\"}],\"scatterpolargl\":[{\"marker\":{\"colorbar\":{\"outlinewidth\":0,\"ticks\":\"\"}},\"type\":\"scatterpolargl\"}],\"scatterpolar\":[{\"marker\":{\"colorbar\":{\"outlinewidth\":0,\"ticks\":\"\"}},\"type\":\"scatterpolar\"}],\"scatter\":[{\"marker\":{\"colorbar\":{\"outlinewidth\":0,\"ticks\":\"\"}},\"type\":\"scatter\"}],\"scatterternary\":[{\"marker\":{\"colorbar\":{\"outlinewidth\":0,\"ticks\":\"\"}},\"type\":\"scatterternary\"}],\"surface\":[{\"colorbar\":{\"outlinewidth\":0,\"ticks\":\"\"},\"colorscale\":[[0.0,\"#0d0887\"],[0.1111111111111111,\"#46039f\"],[0.2222222222222222,\"#7201a8\"],[0.3333333333333333,\"#9c179e\"],[0.4444444444444444,\"#bd3786\"],[0.5555555555555556,\"#d8576b\"],[0.6666666666666666,\"#ed7953\"],[0.7777777777777778,\"#fb9f3a\"],[0.8888888888888888,\"#fdca26\"],[1.0,\"#f0f921\"]],\"type\":\"surface\"}],\"table\":[{\"cells\":{\"fill\":{\"color\":\"#EBF0F8\"},\"line\":{\"color\":\"white\"}},\"header\":{\"fill\":{\"color\":\"#C8D4E3\"},\"line\":{\"color\":\"white\"}},\"type\":\"table\"}]},\"layout\":{\"annotationdefaults\":{\"arrowcolor\":\"#2a3f5f\",\"arrowhead\":0,\"arrowwidth\":1},\"autotypenumbers\":\"strict\",\"coloraxis\":{\"colorbar\":{\"outlinewidth\":0,\"ticks\":\"\"}},\"colorscale\":{\"diverging\":[[0,\"#8e0152\"],[0.1,\"#c51b7d\"],[0.2,\"#de77ae\"],[0.3,\"#f1b6da\"],[0.4,\"#fde0ef\"],[0.5,\"#f7f7f7\"],[0.6,\"#e6f5d0\"],[0.7,\"#b8e186\"],[0.8,\"#7fbc41\"],[0.9,\"#4d9221\"],[1,\"#276419\"]],\"sequential\":[[0.0,\"#0d0887\"],[0.1111111111111111,\"#46039f\"],[0.2222222222222222,\"#7201a8\"],[0.3333333333333333,\"#9c179e\"],[0.4444444444444444,\"#bd3786\"],[0.5555555555555556,\"#d8576b\"],[0.6666666666666666,\"#ed7953\"],[0.7777777777777778,\"#fb9f3a\"],[0.8888888888888888,\"#fdca26\"],[1.0,\"#f0f921\"]],\"sequentialminus\":[[0.0,\"#0d0887\"],[0.1111111111111111,\"#46039f\"],[0.2222222222222222,\"#7201a8\"],[0.3333333333333333,\"#9c179e\"],[0.4444444444444444,\"#bd3786\"],[0.5555555555555556,\"#d8576b\"],[0.6666666666666666,\"#ed7953\"],[0.7777777777777778,\"#fb9f3a\"],[0.8888888888888888,\"#fdca26\"],[1.0,\"#f0f921\"]]},\"colorway\":[\"#636efa\",\"#EF553B\",\"#00cc96\",\"#ab63fa\",\"#FFA15A\",\"#19d3f3\",\"#FF6692\",\"#B6E880\",\"#FF97FF\",\"#FECB52\"],\"font\":{\"color\":\"#2a3f5f\"},\"geo\":{\"bgcolor\":\"white\",\"lakecolor\":\"white\",\"landcolor\":\"white\",\"showlakes\":true,\"showland\":true,\"subunitcolor\":\"#C8D4E3\"},\"hoverlabel\":{\"align\":\"left\"},\"hovermode\":\"closest\",\"mapbox\":{\"style\":\"light\"},\"paper_bgcolor\":\"white\",\"plot_bgcolor\":\"white\",\"polar\":{\"angularaxis\":{\"gridcolor\":\"#EBF0F8\",\"linecolor\":\"#EBF0F8\",\"ticks\":\"\"},\"bgcolor\":\"white\",\"radialaxis\":{\"gridcolor\":\"#EBF0F8\",\"linecolor\":\"#EBF0F8\",\"ticks\":\"\"}},\"scene\":{\"xaxis\":{\"backgroundcolor\":\"white\",\"gridcolor\":\"#DFE8F3\",\"gridwidth\":2,\"linecolor\":\"#EBF0F8\",\"showbackground\":true,\"ticks\":\"\",\"zerolinecolor\":\"#EBF0F8\"},\"yaxis\":{\"backgroundcolor\":\"white\",\"gridcolor\":\"#DFE8F3\",\"gridwidth\":2,\"linecolor\":\"#EBF0F8\",\"showbackground\":true,\"ticks\":\"\",\"zerolinecolor\":\"#EBF0F8\"},\"zaxis\":{\"backgroundcolor\":\"white\",\"gridcolor\":\"#DFE8F3\",\"gridwidth\":2,\"linecolor\":\"#EBF0F8\",\"showbackground\":true,\"ticks\":\"\",\"zerolinecolor\":\"#EBF0F8\"}},\"shapedefaults\":{\"line\":{\"color\":\"#2a3f5f\"}},\"ternary\":{\"aaxis\":{\"gridcolor\":\"#DFE8F3\",\"linecolor\":\"#A2B1C6\",\"ticks\":\"\"},\"baxis\":{\"gridcolor\":\"#DFE8F3\",\"linecolor\":\"#A2B1C6\",\"ticks\":\"\"},\"bgcolor\":\"white\",\"caxis\":{\"gridcolor\":\"#DFE8F3\",\"linecolor\":\"#A2B1C6\",\"ticks\":\"\"}},\"title\":{\"x\":0.05},\"xaxis\":{\"automargin\":true,\"gridcolor\":\"#EBF0F8\",\"linecolor\":\"#EBF0F8\",\"ticks\":\"\",\"title\":{\"standoff\":15},\"zerolinecolor\":\"#EBF0F8\",\"zerolinewidth\":2},\"yaxis\":{\"automargin\":true,\"gridcolor\":\"#EBF0F8\",\"linecolor\":\"#EBF0F8\",\"ticks\":\"\",\"title\":{\"standoff\":15},\"zerolinecolor\":\"#EBF0F8\",\"zerolinewidth\":2}}},\"xaxis\":{\"anchor\":\"y\",\"domain\":[0.0,0.175],\"showgrid\":true},\"yaxis\":{\"anchor\":\"x\",\"domain\":[0.7555555555555555,1.0],\"showgrid\":true},\"xaxis2\":{\"anchor\":\"y2\",\"domain\":[0.275,0.45],\"showgrid\":true},\"yaxis2\":{\"anchor\":\"x2\",\"domain\":[0.7555555555555555,1.0],\"showgrid\":true},\"xaxis3\":{\"anchor\":\"y3\",\"domain\":[0.55,0.7250000000000001],\"showgrid\":true},\"yaxis3\":{\"anchor\":\"x3\",\"domain\":[0.7555555555555555,1.0],\"showgrid\":true},\"xaxis4\":{\"anchor\":\"y4\",\"domain\":[0.825,1.0],\"showgrid\":true},\"yaxis4\":{\"anchor\":\"x4\",\"domain\":[0.7555555555555555,1.0],\"showgrid\":true},\"xaxis5\":{\"anchor\":\"y5\",\"domain\":[0.0,0.175],\"showgrid\":true},\"yaxis5\":{\"anchor\":\"x5\",\"domain\":[0.37777777777777777,0.6222222222222222],\"showgrid\":true},\"xaxis6\":{\"anchor\":\"y6\",\"domain\":[0.275,0.45],\"showgrid\":true},\"yaxis6\":{\"anchor\":\"x6\",\"domain\":[0.37777777777777777,0.6222222222222222],\"showgrid\":true},\"xaxis7\":{\"anchor\":\"y7\",\"domain\":[0.55,0.7250000000000001],\"showgrid\":true},\"yaxis7\":{\"anchor\":\"x7\",\"domain\":[0.37777777777777777,0.6222222222222222],\"showgrid\":true},\"xaxis8\":{\"anchor\":\"y8\",\"domain\":[0.825,1.0],\"showgrid\":true},\"yaxis8\":{\"anchor\":\"x8\",\"domain\":[0.37777777777777777,0.6222222222222222],\"showgrid\":true},\"xaxis9\":{\"anchor\":\"y9\",\"domain\":[0.0,0.175],\"showgrid\":true},\"yaxis9\":{\"anchor\":\"x9\",\"domain\":[0.0,0.24444444444444446],\"showgrid\":true},\"xaxis10\":{\"anchor\":\"y10\",\"domain\":[0.275,0.45],\"showgrid\":true},\"yaxis10\":{\"anchor\":\"x10\",\"domain\":[0.0,0.24444444444444446],\"showgrid\":true},\"xaxis11\":{\"anchor\":\"y11\",\"domain\":[0.55,0.7250000000000001],\"showgrid\":true},\"yaxis11\":{\"anchor\":\"x11\",\"domain\":[0.0,0.24444444444444446],\"showgrid\":true},\"xaxis12\":{\"anchor\":\"y12\",\"domain\":[0.825,1.0],\"showgrid\":true},\"yaxis12\":{\"anchor\":\"x12\",\"domain\":[0.0,0.24444444444444446],\"showgrid\":true},\"annotations\":[{\"font\":{\"size\":16},\"showarrow\":false,\"text\":\"Topic 0\",\"x\":0.0875,\"xanchor\":\"center\",\"xref\":\"paper\",\"y\":1.0,\"yanchor\":\"bottom\",\"yref\":\"paper\"},{\"font\":{\"size\":16},\"showarrow\":false,\"text\":\"Topic 1\",\"x\":0.36250000000000004,\"xanchor\":\"center\",\"xref\":\"paper\",\"y\":1.0,\"yanchor\":\"bottom\",\"yref\":\"paper\"},{\"font\":{\"size\":16},\"showarrow\":false,\"text\":\"Topic 2\",\"x\":0.6375000000000001,\"xanchor\":\"center\",\"xref\":\"paper\",\"y\":1.0,\"yanchor\":\"bottom\",\"yref\":\"paper\"},{\"font\":{\"size\":16},\"showarrow\":false,\"text\":\"Topic 3\",\"x\":0.9125,\"xanchor\":\"center\",\"xref\":\"paper\",\"y\":1.0,\"yanchor\":\"bottom\",\"yref\":\"paper\"},{\"font\":{\"size\":16},\"showarrow\":false,\"text\":\"Topic 4\",\"x\":0.0875,\"xanchor\":\"center\",\"xref\":\"paper\",\"y\":0.6222222222222222,\"yanchor\":\"bottom\",\"yref\":\"paper\"},{\"font\":{\"size\":16},\"showarrow\":false,\"text\":\"Topic 5\",\"x\":0.36250000000000004,\"xanchor\":\"center\",\"xref\":\"paper\",\"y\":0.6222222222222222,\"yanchor\":\"bottom\",\"yref\":\"paper\"},{\"font\":{\"size\":16},\"showarrow\":false,\"text\":\"Topic 6\",\"x\":0.6375000000000001,\"xanchor\":\"center\",\"xref\":\"paper\",\"y\":0.6222222222222222,\"yanchor\":\"bottom\",\"yref\":\"paper\"},{\"font\":{\"size\":16},\"showarrow\":false,\"text\":\"Topic 7\",\"x\":0.9125,\"xanchor\":\"center\",\"xref\":\"paper\",\"y\":0.6222222222222222,\"yanchor\":\"bottom\",\"yref\":\"paper\"},{\"font\":{\"size\":16},\"showarrow\":false,\"text\":\"Topic 8\",\"x\":0.0875,\"xanchor\":\"center\",\"xref\":\"paper\",\"y\":0.24444444444444446,\"yanchor\":\"bottom\",\"yref\":\"paper\"}],\"title\":{\"font\":{\"size\":22,\"color\":\"Black\"},\"text\":\"Topic Word Scores\",\"x\":0.5,\"xanchor\":\"center\",\"yanchor\":\"top\"},\"hoverlabel\":{\"font\":{\"size\":16,\"family\":\"Rockwell\"},\"bgcolor\":\"white\"},\"showlegend\":false,\"width\":1000,\"height\":750},                        {\"responsive\": true}                    ).then(function(){\n",
              "                            \n",
              "var gd = document.getElementById('7c4e5754-866f-401f-b813-45d353baf830');\n",
              "var x = new MutationObserver(function (mutations, observer) {{\n",
              "        var display = window.getComputedStyle(gd).display;\n",
              "        if (!display || display === 'none') {{\n",
              "            console.log([gd, 'removed!']);\n",
              "            Plotly.purge(gd);\n",
              "            observer.disconnect();\n",
              "        }}\n",
              "}});\n",
              "\n",
              "// Listen for the removal of the full notebook cells\n",
              "var notebookContainer = gd.closest('#notebook-container');\n",
              "if (notebookContainer) {{\n",
              "    x.observe(notebookContainer, {childList: true});\n",
              "}}\n",
              "\n",
              "// Listen for the clearing of the current output cell\n",
              "var outputEl = gd.closest('.output');\n",
              "if (outputEl) {{\n",
              "    x.observe(outputEl, {childList: true});\n",
              "}}\n",
              "\n",
              "                        })                };                            </script>        </div>\n",
              "</body>\n",
              "</html>"
            ]
          },
          "metadata": {}
        }
      ]
    },
    {
      "cell_type": "code",
      "source": [
        "!pip install nbconvert"
      ],
      "metadata": {
        "colab": {
          "base_uri": "https://localhost:8080/"
        },
        "id": "fZTw-Xbl6yT-",
        "outputId": "b0f69b09-ea17-497a-921b-7eb2ce0b2cde"
      },
      "execution_count": 79,
      "outputs": [
        {
          "output_type": "stream",
          "name": "stdout",
          "text": [
            "Looking in indexes: https://pypi.org/simple, https://us-python.pkg.dev/colab-wheels/public/simple/\n",
            "Requirement already satisfied: nbconvert in /usr/local/lib/python3.9/dist-packages (6.5.4)\n",
            "Requirement already satisfied: pygments>=2.4.1 in /usr/local/lib/python3.9/dist-packages (from nbconvert) (2.6.1)\n",
            "Requirement already satisfied: defusedxml in /usr/local/lib/python3.9/dist-packages (from nbconvert) (0.7.1)\n",
            "Requirement already satisfied: lxml in /usr/local/lib/python3.9/dist-packages (from nbconvert) (4.9.2)\n",
            "Requirement already satisfied: pandocfilters>=1.4.1 in /usr/local/lib/python3.9/dist-packages (from nbconvert) (1.5.0)\n",
            "Requirement already satisfied: jupyterlab-pygments in /usr/local/lib/python3.9/dist-packages (from nbconvert) (0.2.2)\n",
            "Requirement already satisfied: bleach in /usr/local/lib/python3.9/dist-packages (from nbconvert) (6.0.0)\n",
            "Requirement already satisfied: nbformat>=5.1 in /usr/local/lib/python3.9/dist-packages (from nbconvert) (5.7.3)\n",
            "Requirement already satisfied: beautifulsoup4 in /usr/local/lib/python3.9/dist-packages (from nbconvert) (4.9.3)\n",
            "Requirement already satisfied: MarkupSafe>=2.0 in /usr/local/lib/python3.9/dist-packages (from nbconvert) (2.1.2)\n",
            "Requirement already satisfied: tinycss2 in /usr/local/lib/python3.9/dist-packages (from nbconvert) (1.2.1)\n",
            "Requirement already satisfied: nbclient>=0.5.0 in /usr/local/lib/python3.9/dist-packages (from nbconvert) (0.7.2)\n",
            "Requirement already satisfied: jinja2>=3.0 in /usr/local/lib/python3.9/dist-packages (from nbconvert) (3.1.2)\n",
            "Requirement already satisfied: mistune<2,>=0.8.1 in /usr/local/lib/python3.9/dist-packages (from nbconvert) (0.8.4)\n",
            "Requirement already satisfied: jupyter-core>=4.7 in /usr/local/lib/python3.9/dist-packages (from nbconvert) (5.2.0)\n",
            "Requirement already satisfied: entrypoints>=0.2.2 in /usr/local/lib/python3.9/dist-packages (from nbconvert) (0.4)\n",
            "Requirement already satisfied: packaging in /usr/local/lib/python3.9/dist-packages (from nbconvert) (23.0)\n",
            "Requirement already satisfied: traitlets>=5.0 in /usr/local/lib/python3.9/dist-packages (from nbconvert) (5.7.1)\n",
            "Requirement already satisfied: platformdirs>=2.5 in /usr/local/lib/python3.9/dist-packages (from jupyter-core>=4.7->nbconvert) (3.1.1)\n",
            "Requirement already satisfied: jupyter-client>=6.1.12 in /usr/local/lib/python3.9/dist-packages (from nbclient>=0.5.0->nbconvert) (6.1.12)\n",
            "Requirement already satisfied: jsonschema>=2.6 in /usr/local/lib/python3.9/dist-packages (from nbformat>=5.1->nbconvert) (4.3.3)\n",
            "Requirement already satisfied: fastjsonschema in /usr/local/lib/python3.9/dist-packages (from nbformat>=5.1->nbconvert) (2.16.3)\n",
            "Requirement already satisfied: soupsieve>1.2 in /usr/local/lib/python3.9/dist-packages (from beautifulsoup4->nbconvert) (2.4)\n",
            "Requirement already satisfied: webencodings in /usr/local/lib/python3.9/dist-packages (from bleach->nbconvert) (0.5.1)\n",
            "Requirement already satisfied: six>=1.9.0 in /usr/local/lib/python3.9/dist-packages (from bleach->nbconvert) (1.15.0)\n",
            "Requirement already satisfied: attrs>=17.4.0 in /usr/local/lib/python3.9/dist-packages (from jsonschema>=2.6->nbformat>=5.1->nbconvert) (22.2.0)\n",
            "Requirement already satisfied: pyrsistent!=0.17.0,!=0.17.1,!=0.17.2,>=0.14.0 in /usr/local/lib/python3.9/dist-packages (from jsonschema>=2.6->nbformat>=5.1->nbconvert) (0.19.3)\n",
            "Requirement already satisfied: tornado>=4.1 in /usr/local/lib/python3.9/dist-packages (from jupyter-client>=6.1.12->nbclient>=0.5.0->nbconvert) (6.2)\n",
            "Requirement already satisfied: python-dateutil>=2.1 in /usr/local/lib/python3.9/dist-packages (from jupyter-client>=6.1.12->nbclient>=0.5.0->nbconvert) (2.8.2)\n",
            "Requirement already satisfied: pyzmq>=13 in /usr/local/lib/python3.9/dist-packages (from jupyter-client>=6.1.12->nbclient>=0.5.0->nbconvert) (23.2.1)\n"
          ]
        }
      ]
    },
    {
      "cell_type": "code",
      "source": [],
      "metadata": {
        "id": "S7r9GCWy7oJv"
      },
      "execution_count": 85,
      "outputs": []
    },
    {
      "cell_type": "code",
      "source": [],
      "metadata": {
        "id": "T4X1mUFo7oHp"
      },
      "execution_count": null,
      "outputs": []
    },
    {
      "cell_type": "code",
      "source": [],
      "metadata": {
        "id": "WVRB8D427oFw"
      },
      "execution_count": null,
      "outputs": []
    },
    {
      "cell_type": "code",
      "source": [],
      "metadata": {
        "id": "cItxDgTc7oDw"
      },
      "execution_count": null,
      "outputs": []
    },
    {
      "cell_type": "code",
      "source": [],
      "metadata": {
        "id": "7T7N_HgX7oBo"
      },
      "execution_count": null,
      "outputs": []
    },
    {
      "cell_type": "code",
      "source": [],
      "metadata": {
        "id": "xIwuFSlx0klX"
      },
      "execution_count": null,
      "outputs": []
    },
    {
      "cell_type": "code",
      "source": [],
      "metadata": {
        "id": "zqocGafgxlWH"
      },
      "execution_count": null,
      "outputs": []
    }
  ]
}